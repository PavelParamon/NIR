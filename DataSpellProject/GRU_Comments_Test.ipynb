{
 "cells": [
  {
   "cell_type": "markdown",
   "source": [
    "# Инициализация"
   ],
   "metadata": {
    "collapsed": false
   }
  },
  {
   "cell_type": "code",
   "execution_count": 25,
   "outputs": [],
   "source": [
    "from tensorflow.keras.models import Sequential\n",
    "from tensorflow.keras.layers import Dense, Embedding, MaxPooling1D, Dropout, LSTM, Bidirectional, SpatialDropout1D, Flatten, Conv1D, GlobalMaxPooling1D, Dropout, LSTM, GRU, SimpleRNN\n",
    "from tensorflow.keras import utils\n",
    "from tensorflow.keras.preprocessing.sequence import pad_sequences\n",
    "from tensorflow.keras.preprocessing.text import Tokenizer\n",
    "from tensorflow.keras.callbacks import ModelCheckpoint\n",
    "from tensorflow.keras import utils\n",
    "from tensorflow import keras\n",
    "from kerastuner.tuners import RandomSearch, Hyperband, BayesianOptimization\n",
    "import pandas as pd\n",
    "import numpy as np\n",
    "import matplotlib.pyplot as plt"
   ],
   "metadata": {
    "collapsed": false,
    "ExecuteTime": {
     "start_time": "2023-04-18T01:50:38.908020Z",
     "end_time": "2023-04-18T01:50:39.422143Z"
    }
   }
  },
  {
   "cell_type": "code",
   "execution_count": 26,
   "outputs": [],
   "source": [
    "# Максимальное количество слов\n",
    "num_words = 10000\n",
    "# Максимальная длина комментария\n",
    "max_comment_len = 50\n",
    "#Число классов\n",
    "num_classes = 6"
   ],
   "metadata": {
    "collapsed": false,
    "ExecuteTime": {
     "start_time": "2023-04-18T01:50:38.958766Z",
     "end_time": "2023-04-18T01:50:39.542116Z"
    }
   }
  },
  {
   "cell_type": "markdown",
   "source": [
    "# Загрузка тренировочных данных"
   ],
   "metadata": {
    "collapsed": false
   }
  },
  {
   "cell_type": "code",
   "execution_count": 27,
   "outputs": [],
   "source": [
    "train = pd.read_csv('toxicCommentsDataSet/toxicCommentsTrain.csv')"
   ],
   "metadata": {
    "collapsed": false,
    "ExecuteTime": {
     "start_time": "2023-04-18T01:50:38.986762Z",
     "end_time": "2023-04-18T01:50:40.787468Z"
    }
   }
  },
  {
   "cell_type": "code",
   "execution_count": 28,
   "outputs": [],
   "source": [
    "#Получение комментариев\n",
    "comments = train['comment_text']"
   ],
   "metadata": {
    "collapsed": false,
    "ExecuteTime": {
     "start_time": "2023-04-18T01:50:40.792229Z",
     "end_time": "2023-04-18T01:50:41.663190Z"
    }
   }
  },
  {
   "cell_type": "code",
   "execution_count": 29,
   "outputs": [],
   "source": [
    "y_train = train[['toxic', 'severe_toxic', 'obscene', 'threat', 'insult', 'identity_hate']]"
   ],
   "metadata": {
    "collapsed": false,
    "ExecuteTime": {
     "start_time": "2023-04-18T01:50:41.673047Z",
     "end_time": "2023-04-18T01:50:41.723235Z"
    }
   }
  },
  {
   "cell_type": "markdown",
   "source": [
    "# Токенизация"
   ],
   "metadata": {
    "collapsed": false
   }
  },
  {
   "cell_type": "code",
   "execution_count": 30,
   "outputs": [],
   "source": [
    "tokenizer = Tokenizer(num_words=num_words)"
   ],
   "metadata": {
    "collapsed": false,
    "ExecuteTime": {
     "start_time": "2023-04-18T01:50:41.712096Z",
     "end_time": "2023-04-18T01:50:42.077698Z"
    }
   }
  },
  {
   "cell_type": "code",
   "execution_count": 31,
   "outputs": [],
   "source": [
    "#Обучение токенайзера\n",
    "tokenizer.fit_on_texts(comments)"
   ],
   "metadata": {
    "collapsed": false,
    "ExecuteTime": {
     "start_time": "2023-04-18T01:50:42.082227Z",
     "end_time": "2023-04-18T01:50:57.536520Z"
    }
   }
  },
  {
   "cell_type": "code",
   "execution_count": 32,
   "outputs": [],
   "source": [
    "train_sequences = tokenizer.texts_to_sequences(comments)"
   ],
   "metadata": {
    "collapsed": false,
    "ExecuteTime": {
     "start_time": "2023-04-18T01:50:57.542337Z",
     "end_time": "2023-04-18T01:51:08.548825Z"
    }
   }
  },
  {
   "cell_type": "code",
   "execution_count": 33,
   "outputs": [],
   "source": [
    "x_train = pad_sequences(train_sequences, maxlen=max_comment_len)"
   ],
   "metadata": {
    "collapsed": false,
    "ExecuteTime": {
     "start_time": "2023-04-18T01:51:08.552387Z",
     "end_time": "2023-04-18T01:51:09.465012Z"
    }
   }
  },
  {
   "cell_type": "markdown",
   "source": [
    "# Загрузка тестовых данных"
   ],
   "metadata": {
    "collapsed": false
   }
  },
  {
   "cell_type": "code",
   "execution_count": 34,
   "outputs": [],
   "source": [
    "test_comments = pd.read_csv('toxicCommentsDataSet/toxicCommentsTest.csv')"
   ],
   "metadata": {
    "collapsed": false,
    "ExecuteTime": {
     "start_time": "2023-04-18T01:51:09.472149Z",
     "end_time": "2023-04-18T01:51:11.615233Z"
    }
   }
  },
  {
   "cell_type": "code",
   "execution_count": 35,
   "outputs": [],
   "source": [
    "test_labels = pd.read_csv('toxicCommentsDataSet/toxicCommentsTestLabels.csv')"
   ],
   "metadata": {
    "collapsed": false,
    "ExecuteTime": {
     "start_time": "2023-04-18T01:51:11.615233Z",
     "end_time": "2023-04-18T01:51:11.891090Z"
    }
   }
  },
  {
   "cell_type": "code",
   "execution_count": 36,
   "outputs": [],
   "source": [
    "test_full = pd.merge(test_comments, test_labels, on='id')"
   ],
   "metadata": {
    "collapsed": false,
    "ExecuteTime": {
     "start_time": "2023-04-18T01:51:11.892350Z",
     "end_time": "2023-04-18T01:51:12.297312Z"
    }
   }
  },
  {
   "cell_type": "code",
   "execution_count": 37,
   "outputs": [],
   "source": [
    "test = test_full[test_full['toxic']!=-1]"
   ],
   "metadata": {
    "collapsed": false,
    "ExecuteTime": {
     "start_time": "2023-04-18T01:51:12.312378Z",
     "end_time": "2023-04-18T01:51:12.375615Z"
    }
   }
  },
  {
   "cell_type": "markdown",
   "source": [
    "# Токенизация"
   ],
   "metadata": {
    "collapsed": false
   }
  },
  {
   "cell_type": "code",
   "execution_count": 38,
   "outputs": [],
   "source": [
    "test_sequences = tokenizer.texts_to_sequences(test['comment_text'])"
   ],
   "metadata": {
    "collapsed": false,
    "ExecuteTime": {
     "start_time": "2023-04-18T01:51:12.382418Z",
     "end_time": "2023-04-18T01:51:20.888134Z"
    }
   }
  },
  {
   "cell_type": "code",
   "execution_count": 39,
   "outputs": [],
   "source": [
    "y_test = test[['toxic',\t'severe_toxic',\t'obscene', 'threat',\t'insult',\t'identity_hate']]"
   ],
   "metadata": {
    "collapsed": false,
    "ExecuteTime": {
     "start_time": "2023-04-18T01:51:20.893972Z",
     "end_time": "2023-04-18T01:51:20.904047Z"
    }
   }
  },
  {
   "cell_type": "code",
   "execution_count": 40,
   "outputs": [],
   "source": [
    "x_test = pad_sequences(test_sequences, maxlen=max_comment_len)"
   ],
   "metadata": {
    "collapsed": false,
    "ExecuteTime": {
     "start_time": "2023-04-18T01:51:20.914124Z",
     "end_time": "2023-04-18T01:51:21.291499Z"
    }
   }
  },
  {
   "cell_type": "markdown",
   "source": [
    "# Проверка лучшей модели"
   ],
   "metadata": {
    "collapsed": false
   }
  },
  {
   "cell_type": "code",
   "execution_count": 44,
   "outputs": [
    {
     "name": "stdout",
     "output_type": "stream",
     "text": [
      "Model: \"sequential_4\"\n",
      "_________________________________________________________________\n",
      " Layer (type)                Output Shape              Param #   \n",
      "=================================================================\n",
      " embedding_4 (Embedding)     (None, 50, 116)           1160000   \n",
      "                                                                 \n",
      " gru_7 (GRU)                 (None, 50, 12)            4680      \n",
      "                                                                 \n",
      " gru_8 (GRU)                 (None, 50, 12)            936       \n",
      "                                                                 \n",
      " gru_9 (GRU)                 (None, 12)                936       \n",
      "                                                                 \n",
      " dense_4 (Dense)             (None, 6)                 78        \n",
      "                                                                 \n",
      "=================================================================\n",
      "Total params: 1,166,630\n",
      "Trainable params: 1,166,630\n",
      "Non-trainable params: 0\n",
      "_________________________________________________________________\n"
     ]
    }
   ],
   "source": [
    "model = Sequential()\n",
    "model.add(Embedding(input_dim=num_words, output_dim=116, input_length=max_comment_len,\n",
    "                    embeddings_regularizer=keras.regularizers.l2(0.0001)))\n",
    "model.add(GRU(units=12, activation='elu', kernel_regularizer=keras.regularizers.l2(0.001), return_sequences=True))\n",
    "model.add(GRU(units=12, activation='elu', kernel_regularizer=keras.regularizers.l2(0.001), return_sequences=True))\n",
    "model.add(GRU(units=12, activation='elu', kernel_regularizer=keras.regularizers.l2(0.001)))\n",
    "model.add(Dense(num_classes, activation='sigmoid'))\n",
    "\n",
    "model.compile(optimizer='adam', loss='binary_crossentropy', metrics=[keras.metrics.AUC(name=\"auc\"), \"accuracy\"])\n",
    "\n",
    "model.summary()"
   ],
   "metadata": {
    "collapsed": false,
    "ExecuteTime": {
     "start_time": "2023-04-18T01:53:56.523073Z",
     "end_time": "2023-04-18T01:53:57.262770Z"
    }
   }
  },
  {
   "cell_type": "code",
   "execution_count": 45,
   "outputs": [
    {
     "name": "stdout",
     "output_type": "stream",
     "text": [
      "Epoch 1/5\n",
      "125/125 [==============================] - 171s 1s/step - loss: 0.3498 - auc: 0.6342 - accuracy: 0.9873 - val_loss: 0.1577 - val_auc: 0.8989 - val_accuracy: 0.9910\n",
      "Epoch 2/5\n",
      "125/125 [==============================] - 225s 2s/step - loss: 0.1266 - auc: 0.9372 - accuracy: 0.9826 - val_loss: 0.1077 - val_auc: 0.9546 - val_accuracy: 0.9746\n",
      "Epoch 3/5\n",
      "125/125 [==============================] - 189s 2s/step - loss: 0.0989 - auc: 0.9585 - accuracy: 0.9856 - val_loss: 0.0927 - val_auc: 0.9574 - val_accuracy: 0.9919\n",
      "Epoch 4/5\n",
      "125/125 [==============================] - 58s 454ms/step - loss: 0.0874 - auc: 0.9641 - accuracy: 0.9922 - val_loss: 0.0844 - val_auc: 0.9632 - val_accuracy: 0.9926\n",
      "Epoch 5/5\n",
      "125/125 [==============================] - 147s 1s/step - loss: 0.0809 - auc: 0.9676 - accuracy: 0.9929 - val_loss: 0.0797 - val_auc: 0.9654 - val_accuracy: 0.9931\n"
     ]
    }
   ],
   "source": [
    "history_model = model.fit(x_train,\n",
    "                          y_train,\n",
    "                          epochs=5,\n",
    "                          batch_size=1024,\n",
    "                          validation_split=0.2)"
   ],
   "metadata": {
    "collapsed": false,
    "ExecuteTime": {
     "start_time": "2023-04-18T01:53:57.272976Z",
     "end_time": "2023-04-18T02:07:08.438958Z"
    }
   }
  },
  {
   "cell_type": "code",
   "execution_count": 46,
   "outputs": [
    {
     "name": "stdout",
     "output_type": "stream",
     "text": [
      "2000/2000 [==============================] - 50s 25ms/step - loss: 0.0959 - auc: 0.9599 - accuracy: 0.9962\n"
     ]
    },
    {
     "data": {
      "text/plain": "[0.09585227072238922, 0.9598684906959534, 0.9961549043655396]"
     },
     "execution_count": 46,
     "metadata": {},
     "output_type": "execute_result"
    }
   ],
   "source": [
    "model.evaluate(x_test, y_test)"
   ],
   "metadata": {
    "collapsed": false,
    "ExecuteTime": {
     "start_time": "2023-04-18T02:07:08.520629Z",
     "end_time": "2023-04-18T02:07:59.772449Z"
    }
   }
  },
  {
   "cell_type": "code",
   "execution_count": 47,
   "outputs": [
    {
     "data": {
      "text/plain": "<Figure size 640x480 with 1 Axes>",
      "image/png": "[encoded data removed]"
     },
     "metadata": {},
     "output_type": "display_data"
    }
   ],
   "source": [
    "plt.plot(history_model.history['accuracy'],\n",
    "         label='Доля верных ответов на обучающем наборе')\n",
    "plt.plot(history_model.history['val_accuracy'],\n",
    "         label='Доля верных ответов на проверочном наборе')\n",
    "plt.plot(history_model.history['auc'],\n",
    "         label='AUC на обучающем наборе')\n",
    "plt.plot(history_model.history['val_auc'],\n",
    "         label='AUC на проверочном наборе')\n",
    "plt.xlabel('Эпоха обучения')\n",
    "plt.ylabel('Доля верных ответов')\n",
    "plt.legend()\n",
    "plt.show()"
   ],
   "metadata": {
    "collapsed": false,
    "ExecuteTime": {
     "start_time": "2023-04-18T02:07:59.711412Z",
     "end_time": "2023-04-18T02:07:59.772449Z"
    }
   }
  }
 ],
 "metadata": {
  "kernelspec": {
   "display_name": "Python 3",
   "language": "python",
   "name": "python3"
  },
  "language_info": {
   "codemirror_mode": {
    "name": "ipython",
    "version": 2
   },
   "file_extension": ".py",
   "mimetype": "text/x-python",
   "name": "python",
   "nbconvert_exporter": "python",
   "pygments_lexer": "ipython2",
   "version": "2.7.6"
  }
 },
 "nbformat": 4,
 "nbformat_minor": 0
}
