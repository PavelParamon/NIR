{
 "cells": [
  {
   "cell_type": "code",
   "execution_count": 1,
   "outputs": [
    {
     "name": "stderr",
     "output_type": "stream",
     "text": [
      "C:\\Users\\Pave_\\AppData\\Local\\Temp\\ipykernel_7064\\1872801710.py:9: DeprecationWarning: `import kerastuner` is deprecated, please use `import keras_tuner`.\n",
      "  from kerastuner.tuners import RandomSearch, Hyperband, BayesianOptimization\n"
     ]
    }
   ],
   "source": [
    "from tensorflow.keras.models import Sequential\n",
    "from tensorflow.keras.layers import Dense, Embedding, MaxPooling1D, Dropout, LSTM, Bidirectional, SpatialDropout1D, Flatten, Conv1D, GlobalMaxPooling1D, Dropout, LSTM, GRU, SimpleRNN\n",
    "from tensorflow.keras import utils\n",
    "from tensorflow.keras.preprocessing.sequence import pad_sequences\n",
    "from tensorflow.keras.preprocessing.text import Tokenizer\n",
    "from tensorflow.keras.callbacks import ModelCheckpoint\n",
    "from tensorflow.keras import utils\n",
    "from tensorflow import keras\n",
    "from kerastuner.tuners import RandomSearch, Hyperband, BayesianOptimization\n",
    "import pandas as pd\n",
    "import numpy as np\n",
    "import matplotlib.pyplot as plt"
   ],
   "metadata": {
    "collapsed": false,
    "ExecuteTime": {
     "start_time": "2023-04-22T23:31:13.024076Z",
     "end_time": "2023-04-22T23:31:21.417223Z"
    }
   }
  },
  {
   "cell_type": "code",
   "execution_count": 2,
   "outputs": [],
   "source": [
    "# Максимальное количество слов\n",
    "num_words = 10000\n",
    "# Максимальная длина экшена\n",
    "max_action_len = 50\n",
    "#Число классов\n",
    "num_classes = 15"
   ],
   "metadata": {
    "collapsed": false,
    "ExecuteTime": {
     "start_time": "2023-04-22T23:31:21.424223Z",
     "end_time": "2023-04-22T23:31:21.433226Z"
    }
   }
  },
  {
   "cell_type": "markdown",
   "source": [
    "# Загрузка тренировочных данных"
   ],
   "metadata": {
    "collapsed": false
   }
  },
  {
   "cell_type": "code",
   "execution_count": 3,
   "outputs": [],
   "source": [
    "train = pd.read_csv('actionsNPCDataSet/trainActions.csv',header=None,\n",
    "names=['class', 'text'])"
   ],
   "metadata": {
    "collapsed": false,
    "ExecuteTime": {
     "start_time": "2023-04-22T23:31:21.435225Z",
     "end_time": "2023-04-22T23:31:21.492228Z"
    }
   }
  },
  {
   "cell_type": "code",
   "execution_count": 4,
   "outputs": [],
   "source": [
    "#Получение экшенов\n",
    "actions = train['text']"
   ],
   "metadata": {
    "collapsed": false,
    "ExecuteTime": {
     "start_time": "2023-04-22T23:31:21.487229Z",
     "end_time": "2023-04-22T23:31:21.513232Z"
    }
   }
  },
  {
   "cell_type": "code",
   "execution_count": 5,
   "outputs": [],
   "source": [
    "y_train = utils.to_categorical(train['class'] - 1, num_classes)"
   ],
   "metadata": {
    "collapsed": false,
    "ExecuteTime": {
     "start_time": "2023-04-22T23:31:21.512229Z",
     "end_time": "2023-04-22T23:31:21.573236Z"
    }
   }
  },
  {
   "cell_type": "markdown",
   "source": [
    "# Токенизация"
   ],
   "metadata": {
    "collapsed": false
   }
  },
  {
   "cell_type": "code",
   "execution_count": 6,
   "outputs": [],
   "source": [
    "tokenizer = Tokenizer(num_words=num_words)"
   ],
   "metadata": {
    "collapsed": false,
    "ExecuteTime": {
     "start_time": "2023-04-22T23:31:21.532231Z",
     "end_time": "2023-04-22T23:31:21.574235Z"
    }
   }
  },
  {
   "cell_type": "code",
   "execution_count": 7,
   "outputs": [],
   "source": [
    "#Обучение токенайзера\n",
    "tokenizer.fit_on_texts(actions)"
   ],
   "metadata": {
    "collapsed": false,
    "ExecuteTime": {
     "start_time": "2023-04-22T23:31:21.548233Z",
     "end_time": "2023-04-22T23:31:21.719247Z"
    }
   }
  },
  {
   "cell_type": "code",
   "execution_count": 8,
   "outputs": [],
   "source": [
    "train_sequences = tokenizer.texts_to_sequences(actions)"
   ],
   "metadata": {
    "collapsed": false,
    "ExecuteTime": {
     "start_time": "2023-04-22T23:31:21.725246Z",
     "end_time": "2023-04-22T23:31:21.861255Z"
    }
   }
  },
  {
   "cell_type": "code",
   "execution_count": 9,
   "outputs": [],
   "source": [
    "x_train = pad_sequences(train_sequences, maxlen=max_action_len)"
   ],
   "metadata": {
    "collapsed": false,
    "ExecuteTime": {
     "start_time": "2023-04-22T23:31:21.864258Z",
     "end_time": "2023-04-22T23:31:21.944263Z"
    }
   }
  },
  {
   "cell_type": "markdown",
   "source": [
    "# Загрузка тестовых данных"
   ],
   "metadata": {
    "collapsed": false
   }
  },
  {
   "cell_type": "code",
   "execution_count": 10,
   "outputs": [],
   "source": [
    "test = pd.read_csv('actionsNPCDataSet/actionsTest.csv', header=None,\n",
    "                   names=['class', 'text'])"
   ],
   "metadata": {
    "collapsed": false,
    "ExecuteTime": {
     "start_time": "2023-04-22T23:31:21.914260Z",
     "end_time": "2023-04-22T23:31:21.945262Z"
    }
   }
  },
  {
   "cell_type": "code",
   "execution_count": 11,
   "outputs": [],
   "source": [
    "#Получение экшенов\n",
    "test_actions = test['text']"
   ],
   "metadata": {
    "collapsed": false,
    "ExecuteTime": {
     "start_time": "2023-04-22T23:31:21.929261Z",
     "end_time": "2023-04-22T23:31:21.945262Z"
    }
   }
  },
  {
   "cell_type": "code",
   "execution_count": 12,
   "outputs": [],
   "source": [
    "y_test = utils.to_categorical(test['class'] - 1, num_classes)"
   ],
   "metadata": {
    "collapsed": false,
    "ExecuteTime": {
     "start_time": "2023-04-22T23:31:21.942264Z",
     "end_time": "2023-04-22T23:31:21.957264Z"
    }
   }
  },
  {
   "cell_type": "markdown",
   "source": [
    "# Токенизация"
   ],
   "metadata": {
    "collapsed": false
   }
  },
  {
   "cell_type": "code",
   "execution_count": 13,
   "outputs": [],
   "source": [
    "test_sequences = tokenizer.texts_to_sequences(test_actions)"
   ],
   "metadata": {
    "collapsed": false,
    "ExecuteTime": {
     "start_time": "2023-04-22T23:31:21.959265Z",
     "end_time": "2023-04-22T23:31:22.028267Z"
    }
   }
  },
  {
   "cell_type": "code",
   "execution_count": 14,
   "outputs": [],
   "source": [
    "x_test = pad_sequences(test_sequences, maxlen=max_action_len)"
   ],
   "metadata": {
    "collapsed": false,
    "ExecuteTime": {
     "start_time": "2023-04-22T23:31:22.011267Z",
     "end_time": "2023-04-22T23:31:22.049271Z"
    }
   }
  },
  {
   "cell_type": "markdown",
   "source": [
    "# Модель"
   ],
   "metadata": {
    "collapsed": false
   }
  },
  {
   "cell_type": "code",
   "execution_count": 15,
   "outputs": [
    {
     "name": "stdout",
     "output_type": "stream",
     "text": [
      "Model: \"sequential\"\n",
      "_________________________________________________________________\n",
      " Layer (type)                Output Shape              Param #   \n",
      "=================================================================\n",
      " embedding (Embedding)       (None, 50, 116)           1160000   \n",
      "                                                                 \n",
      " gru (GRU)                   (None, 50, 28)            12264     \n",
      "                                                                 \n",
      " gru_1 (GRU)                 (None, 50, 28)            4872      \n",
      "                                                                 \n",
      " gru_2 (GRU)                 (None, 28)                4872      \n",
      "                                                                 \n",
      " dense (Dense)               (None, 15)                435       \n",
      "                                                                 \n",
      "=================================================================\n",
      "Total params: 1,182,443\n",
      "Trainable params: 1,182,443\n",
      "Non-trainable params: 0\n",
      "_________________________________________________________________\n"
     ]
    }
   ],
   "source": [
    "model = Sequential()\n",
    "model.add(Embedding(input_dim=num_words, output_dim=116, input_length=max_action_len,\n",
    "                    embeddings_regularizer=keras.regularizers.l2(0.001)))\n",
    "model.add(GRU(units=28, activation='selu', kernel_regularizer=keras.regularizers.l2(0.0001), return_sequences=True))\n",
    "model.add(GRU(units=28, activation='selu', kernel_regularizer=keras.regularizers.l2(0.0001), return_sequences=True))\n",
    "model.add(GRU(units=28, activation='selu', kernel_regularizer=keras.regularizers.l2(0.0001)))\n",
    "model.add(Dense(num_classes, activation='softmax'))\n",
    "\n",
    "model.compile(optimizer='rmsprop', loss='categorical_crossentropy', metrics=['accuracy'])\n",
    "\n",
    "model.summary()"
   ],
   "metadata": {
    "collapsed": false,
    "ExecuteTime": {
     "start_time": "2023-04-22T23:31:22.046270Z",
     "end_time": "2023-04-22T23:31:22.857422Z"
    }
   }
  },
  {
   "cell_type": "code",
   "execution_count": 16,
   "outputs": [
    {
     "name": "stdout",
     "output_type": "stream",
     "text": [
      "Epoch 1/5\n",
      "45/45 [==============================] - 17s 186ms/step - loss: 2.2977 - accuracy: 0.4144 - val_loss: 1.4673 - val_accuracy: 0.6612\n",
      "Epoch 2/5\n",
      "45/45 [==============================] - 7s 152ms/step - loss: 0.9507 - accuracy: 0.7991 - val_loss: 0.7020 - val_accuracy: 0.8391\n",
      "Epoch 3/5\n",
      "45/45 [==============================] - 7s 160ms/step - loss: 0.4163 - accuracy: 0.9376 - val_loss: 0.4171 - val_accuracy: 0.9164\n",
      "Epoch 4/5\n",
      "45/45 [==============================] - 8s 174ms/step - loss: 0.2373 - accuracy: 0.9684 - val_loss: 0.5011 - val_accuracy: 0.8774\n",
      "Epoch 5/5\n",
      "45/45 [==============================] - 8s 171ms/step - loss: 0.1628 - accuracy: 0.9837 - val_loss: 0.5014 - val_accuracy: 0.8653\n"
     ]
    }
   ],
   "source": [
    "history_model = model.fit(x_train,\n",
    "                          y_train,\n",
    "                          epochs=5,\n",
    "                          batch_size=128,\n",
    "                          validation_split=0.2)"
   ],
   "metadata": {
    "collapsed": false,
    "ExecuteTime": {
     "start_time": "2023-04-22T23:31:22.787417Z",
     "end_time": "2023-04-22T23:32:09.526312Z"
    }
   }
  },
  {
   "cell_type": "code",
   "execution_count": 17,
   "outputs": [
    {
     "data": {
      "text/plain": "<Figure size 640x480 with 1 Axes>",
      "image/png": "[encoded data removed]"
     },
     "metadata": {},
     "output_type": "display_data"
    }
   ],
   "source": [
    "plt.plot(history_model.history['accuracy'],\n",
    "         label='Доля верных ответов на обучающем наборе')\n",
    "plt.plot(history_model.history['val_accuracy'],\n",
    "         label='Доля верных ответов на проверочном наборе')\n",
    "plt.xlabel('Эпоха обучения')\n",
    "plt.ylabel('Доля верных ответов')\n",
    "plt.legend()\n",
    "plt.show()"
   ],
   "metadata": {
    "collapsed": false,
    "ExecuteTime": {
     "start_time": "2023-04-22T23:32:09.488312Z",
     "end_time": "2023-04-22T23:32:10.053353Z"
    }
   }
  },
  {
   "cell_type": "code",
   "execution_count": 18,
   "outputs": [
    {
     "name": "stdout",
     "output_type": "stream",
     "text": [
      "44/44 [==============================] - 2s 39ms/step - loss: 0.5879 - accuracy: 0.8550\n",
      "1400\n",
      "1400\n"
     ]
    }
   ],
   "source": [
    "model.evaluate(x_test, y_test)"
   ],
   "metadata": {
    "collapsed": false,
    "ExecuteTime": {
     "start_time": "2023-04-22T23:32:10.055355Z",
     "end_time": "2023-04-22T23:32:11.966049Z"
    }
   }
  },
  {
   "cell_type": "code",
   "execution_count": 18,
   "outputs": [],
   "source": [],
   "metadata": {
    "collapsed": false,
    "ExecuteTime": {
     "start_time": "2023-04-22T23:32:11.934047Z",
     "end_time": "2023-04-22T23:32:11.967050Z"
    }
   }
  }
 ],
 "metadata": {
  "kernelspec": {
   "display_name": "Python 3",
   "language": "python",
   "name": "python3"
  },
  "language_info": {
   "codemirror_mode": {
    "name": "ipython",
    "version": 2
   },
   "file_extension": ".py",
   "mimetype": "text/x-python",
   "name": "python",
   "nbconvert_exporter": "python",
   "pygments_lexer": "ipython2",
   "version": "2.7.6"
  }
 },
 "nbformat": 4,
 "nbformat_minor": 0
}
