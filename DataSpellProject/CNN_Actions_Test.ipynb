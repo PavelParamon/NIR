{
 "cells": [
  {
   "cell_type": "code",
   "execution_count": 26,
   "outputs": [],
   "source": [
    "from tensorflow.keras.models import Sequential\n",
    "from tensorflow.keras.layers import Dense, Embedding, MaxPooling1D, Dropout, LSTM, Bidirectional, SpatialDropout1D, Flatten, Conv1D, GlobalMaxPooling1D, Dropout, LSTM, GRU\n",
    "from tensorflow.keras import utils\n",
    "from tensorflow.keras.preprocessing.sequence import pad_sequences\n",
    "from tensorflow.keras.preprocessing.text import Tokenizer\n",
    "from tensorflow.keras.callbacks import ModelCheckpoint\n",
    "from tensorflow.keras import utils\n",
    "from tensorflow import keras\n",
    "from kerastuner.tuners import RandomSearch, Hyperband, BayesianOptimization\n",
    "import pandas as pd\n",
    "import numpy as np\n",
    "import matplotlib.pyplot as plt"
   ],
   "metadata": {
    "collapsed": false,
    "ExecuteTime": {
     "start_time": "2023-04-22T23:49:56.159897Z",
     "end_time": "2023-04-22T23:49:56.422917Z"
    }
   }
  },
  {
   "cell_type": "code",
   "execution_count": 27,
   "outputs": [],
   "source": [
    "# Максимальное количество слов\n",
    "num_words = 10000\n",
    "# Максимальная длина экшена\n",
    "max_action_len = 50\n",
    "#Число классов\n",
    "num_classes = 15"
   ],
   "metadata": {
    "collapsed": false,
    "ExecuteTime": {
     "start_time": "2023-04-22T23:49:56.179900Z",
     "end_time": "2023-04-22T23:49:56.438918Z"
    }
   }
  },
  {
   "cell_type": "markdown",
   "source": [
    "# Загрузка тренировочных данных"
   ],
   "metadata": {
    "collapsed": false
   }
  },
  {
   "cell_type": "code",
   "execution_count": 28,
   "outputs": [],
   "source": [
    "train = pd.read_csv('actionsNPCDataSet/trainActions.csv',header=None,\n",
    "names=['class', 'text'])"
   ],
   "metadata": {
    "collapsed": false,
    "ExecuteTime": {
     "start_time": "2023-04-22T23:49:56.190901Z",
     "end_time": "2023-04-22T23:49:56.508924Z"
    }
   }
  },
  {
   "cell_type": "code",
   "execution_count": 29,
   "outputs": [],
   "source": [
    "#Получение экшенов\n",
    "actions = train['text']"
   ],
   "metadata": {
    "collapsed": false,
    "ExecuteTime": {
     "start_time": "2023-04-22T23:49:56.290911Z",
     "end_time": "2023-04-22T23:49:56.510925Z"
    }
   }
  },
  {
   "cell_type": "code",
   "execution_count": 30,
   "outputs": [],
   "source": [
    "y_train = utils.to_categorical(train['class'] - 1, num_classes)"
   ],
   "metadata": {
    "collapsed": false,
    "ExecuteTime": {
     "start_time": "2023-04-22T23:49:56.328912Z",
     "end_time": "2023-04-22T23:49:56.510925Z"
    }
   }
  },
  {
   "cell_type": "markdown",
   "source": [
    "# Токенизация"
   ],
   "metadata": {
    "collapsed": false
   }
  },
  {
   "cell_type": "code",
   "execution_count": 31,
   "outputs": [],
   "source": [
    "tokenizer = Tokenizer(num_words=num_words)"
   ],
   "metadata": {
    "collapsed": false,
    "ExecuteTime": {
     "start_time": "2023-04-22T23:49:56.351911Z",
     "end_time": "2023-04-22T23:49:56.510925Z"
    }
   }
  },
  {
   "cell_type": "code",
   "execution_count": 32,
   "outputs": [],
   "source": [
    "#Обучение токенайзера\n",
    "tokenizer.fit_on_texts(actions)"
   ],
   "metadata": {
    "collapsed": false,
    "ExecuteTime": {
     "start_time": "2023-04-22T23:49:56.382916Z",
     "end_time": "2023-04-22T23:49:56.576933Z"
    }
   }
  },
  {
   "cell_type": "code",
   "execution_count": 33,
   "outputs": [],
   "source": [
    "train_sequences = tokenizer.texts_to_sequences(actions)"
   ],
   "metadata": {
    "collapsed": false,
    "ExecuteTime": {
     "start_time": "2023-04-22T23:49:56.575931Z",
     "end_time": "2023-04-22T23:49:56.727941Z"
    }
   }
  },
  {
   "cell_type": "code",
   "execution_count": 34,
   "outputs": [],
   "source": [
    "x_train = pad_sequences(train_sequences, maxlen=max_action_len)"
   ],
   "metadata": {
    "collapsed": false,
    "ExecuteTime": {
     "start_time": "2023-04-22T23:49:56.732941Z",
     "end_time": "2023-04-22T23:49:56.790945Z"
    }
   }
  },
  {
   "cell_type": "markdown",
   "source": [
    "# Загрузка тестовых данных"
   ],
   "metadata": {
    "collapsed": false
   }
  },
  {
   "cell_type": "code",
   "execution_count": 35,
   "outputs": [],
   "source": [
    "test = pd.read_csv('actionsNPCDataSet/actionsTest.csv', header=None,\n",
    "                   names=['class', 'text'])"
   ],
   "metadata": {
    "collapsed": false,
    "ExecuteTime": {
     "start_time": "2023-04-22T23:49:56.794948Z",
     "end_time": "2023-04-22T23:49:56.831948Z"
    }
   }
  },
  {
   "cell_type": "code",
   "execution_count": 36,
   "outputs": [],
   "source": [
    "#Получение экшенов\n",
    "test_actions = test['text']"
   ],
   "metadata": {
    "collapsed": false,
    "ExecuteTime": {
     "start_time": "2023-04-22T23:49:56.829949Z",
     "end_time": "2023-04-22T23:49:56.842950Z"
    }
   }
  },
  {
   "cell_type": "code",
   "execution_count": 37,
   "outputs": [],
   "source": [
    "y_test = utils.to_categorical(test['class'] - 1, num_classes)"
   ],
   "metadata": {
    "collapsed": false,
    "ExecuteTime": {
     "start_time": "2023-04-22T23:49:56.841951Z",
     "end_time": "2023-04-22T23:49:56.854954Z"
    }
   }
  },
  {
   "cell_type": "markdown",
   "source": [
    "# Токенизация"
   ],
   "metadata": {
    "collapsed": false
   }
  },
  {
   "cell_type": "code",
   "execution_count": 38,
   "outputs": [],
   "source": [
    "test_sequences = tokenizer.texts_to_sequences(test_actions)"
   ],
   "metadata": {
    "collapsed": false,
    "ExecuteTime": {
     "start_time": "2023-04-22T23:49:56.855956Z",
     "end_time": "2023-04-22T23:49:56.901957Z"
    }
   }
  },
  {
   "cell_type": "code",
   "execution_count": 39,
   "outputs": [],
   "source": [
    "x_test = pad_sequences(test_sequences, maxlen=max_action_len)"
   ],
   "metadata": {
    "collapsed": false,
    "ExecuteTime": {
     "start_time": "2023-04-22T23:49:56.905954Z",
     "end_time": "2023-04-22T23:49:56.949957Z"
    }
   }
  },
  {
   "cell_type": "markdown",
   "source": [
    "# Модель"
   ],
   "metadata": {
    "collapsed": false
   }
  },
  {
   "cell_type": "code",
   "execution_count": 40,
   "outputs": [
    {
     "name": "stdout",
     "output_type": "stream",
     "text": [
      "Model: \"sequential_1\"\n",
      "_________________________________________________________________\n",
      " Layer (type)                Output Shape              Param #   \n",
      "=================================================================\n",
      " embedding_1 (Embedding)     (None, 50, 116)           1160000   \n",
      "                                                                 \n",
      " conv1d_1 (Conv1D)           (None, 48, 172)           60028     \n",
      "                                                                 \n",
      " max_pooling1d_1 (MaxPooling  (None, 24, 172)          0         \n",
      " 1D)                                                             \n",
      "                                                                 \n",
      " flatten_1 (Flatten)         (None, 4128)              0         \n",
      "                                                                 \n",
      " dense_2 (Dense)             (None, 140)               578060    \n",
      "                                                                 \n",
      " dense_3 (Dense)             (None, 15)                2115      \n",
      "                                                                 \n",
      "=================================================================\n",
      "Total params: 1,800,203\n",
      "Trainable params: 1,800,203\n",
      "Non-trainable params: 0\n",
      "_________________________________________________________________\n"
     ]
    }
   ],
   "source": [
    "model = Sequential()\n",
    "model.add(Embedding(input_dim=num_words, output_dim=116, input_length=max_action_len,\n",
    "                    embeddings_regularizer=keras.regularizers.l2(0.0001)))\n",
    "model.add(Conv1D(filters=172, kernel_size=3, activation='selu', kernel_regularizer=keras.regularizers.l2(0.0001)))\n",
    "model.add(MaxPooling1D(pool_size=2))\n",
    "model.add(Flatten())\n",
    "model.add(Dense(units=140, activation='selu', kernel_regularizer=keras.regularizers.l2(0.001)))\n",
    "model.add(Dense(num_classes, activation='softmax'))\n",
    "\n",
    "model.compile(optimizer='rmsprop', loss='categorical_crossentropy', metrics=['accuracy'])\n",
    "\n",
    "model.summary()"
   ],
   "metadata": {
    "collapsed": false,
    "ExecuteTime": {
     "start_time": "2023-04-22T23:49:56.946960Z",
     "end_time": "2023-04-22T23:49:57.330988Z"
    }
   }
  },
  {
   "cell_type": "code",
   "execution_count": 41,
   "outputs": [
    {
     "name": "stdout",
     "output_type": "stream",
     "text": [
      "Epoch 1/5\n",
      "45/45 [==============================] - 7s 83ms/step - loss: 1.9831 - accuracy: 0.5736 - val_loss: 0.8275 - val_accuracy: 0.8738\n",
      "Epoch 2/5\n",
      "45/45 [==============================] - 3s 73ms/step - loss: 0.4588 - accuracy: 0.9578 - val_loss: 0.3855 - val_accuracy: 0.9383\n",
      "Epoch 3/5\n",
      "45/45 [==============================] - 4s 79ms/step - loss: 0.2076 - accuracy: 0.9913 - val_loss: 0.2187 - val_accuracy: 0.9787\n",
      "Epoch 4/5\n",
      "45/45 [==============================] - 3s 78ms/step - loss: 0.1276 - accuracy: 0.9965 - val_loss: 0.1696 - val_accuracy: 0.9802\n",
      "Epoch 5/5\n",
      "45/45 [==============================] - 3s 78ms/step - loss: 0.0926 - accuracy: 0.9991 - val_loss: 0.1581 - val_accuracy: 0.9731\n"
     ]
    }
   ],
   "source": [
    "history_model = model.fit(x_train,\n",
    "                          y_train,\n",
    "                          epochs=5,\n",
    "                          batch_size=128,\n",
    "                          validation_split=0.2)"
   ],
   "metadata": {
    "collapsed": false,
    "ExecuteTime": {
     "start_time": "2023-04-22T23:49:57.287985Z",
     "end_time": "2023-04-22T23:50:17.907131Z"
    }
   }
  },
  {
   "cell_type": "code",
   "execution_count": 42,
   "outputs": [
    {
     "data": {
      "text/plain": "<Figure size 640x480 with 1 Axes>",
      "image/png": "[encoded data removed]"
     },
     "metadata": {},
     "output_type": "display_data"
    }
   ],
   "source": [
    "plt.plot(history_model.history['accuracy'],\n",
    "         label='Доля верных ответов на обучающем наборе')\n",
    "plt.plot(history_model.history['val_accuracy'],\n",
    "         label='Доля верных ответов на проверочном наборе')\n",
    "plt.xlabel('Эпоха обучения')\n",
    "plt.ylabel('Доля верных ответов')\n",
    "plt.legend()\n",
    "plt.show()"
   ],
   "metadata": {
    "collapsed": false,
    "ExecuteTime": {
     "start_time": "2023-04-22T23:50:17.913132Z",
     "end_time": "2023-04-22T23:50:18.227158Z"
    }
   }
  },
  {
   "cell_type": "code",
   "execution_count": 43,
   "outputs": [
    {
     "name": "stdout",
     "output_type": "stream",
     "text": [
      "44/44 [==============================] - 0s 9ms/step - loss: 0.1495 - accuracy: 0.9829\n",
      "1400\n",
      "1400\n"
     ]
    }
   ],
   "source": [
    "model.evaluate(x_test, y_test)"
   ],
   "metadata": {
    "collapsed": false,
    "ExecuteTime": {
     "start_time": "2023-04-22T23:50:18.230157Z",
     "end_time": "2023-04-22T23:50:18.755194Z"
    }
   }
  },
  {
   "cell_type": "code",
   "execution_count": 43,
   "outputs": [],
   "source": [],
   "metadata": {
    "collapsed": false,
    "ExecuteTime": {
     "start_time": "2023-04-22T23:50:18.737196Z",
     "end_time": "2023-04-22T23:50:18.756195Z"
    }
   }
  },
  {
   "cell_type": "code",
   "execution_count": 43,
   "outputs": [],
   "source": [],
   "metadata": {
    "collapsed": false,
    "ExecuteTime": {
     "start_time": "2023-04-22T23:50:18.749196Z",
     "end_time": "2023-04-22T23:50:18.785199Z"
    }
   }
  },
  {
   "cell_type": "code",
   "execution_count": 43,
   "outputs": [],
   "source": [],
   "metadata": {
    "collapsed": false,
    "ExecuteTime": {
     "start_time": "2023-04-22T23:50:18.766198Z",
     "end_time": "2023-04-22T23:50:18.785199Z"
    }
   }
  }
 ],
 "metadata": {
  "kernelspec": {
   "display_name": "Python 3",
   "language": "python",
   "name": "python3"
  },
  "language_info": {
   "codemirror_mode": {
    "name": "ipython",
    "version": 2
   },
   "file_extension": ".py",
   "mimetype": "text/x-python",
   "name": "python",
   "nbconvert_exporter": "python",
   "pygments_lexer": "ipython2",
   "version": "2.7.6"
  }
 },
 "nbformat": 4,
 "nbformat_minor": 0
}
