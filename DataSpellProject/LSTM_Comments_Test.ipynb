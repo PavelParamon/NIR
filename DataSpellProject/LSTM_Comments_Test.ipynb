{
 "cells": [
  {
   "cell_type": "markdown",
   "source": [
    "# Инициализация"
   ],
   "metadata": {
    "collapsed": false
   }
  },
  {
   "cell_type": "code",
   "execution_count": 24,
   "outputs": [],
   "source": [
    "\n",
    "from tensorflow.keras.models import Sequential\n",
    "from tensorflow.keras.layers import Dense, Embedding, MaxPooling1D, Dropout, LSTM, Bidirectional, SpatialDropout1D, Flatten, Conv1D, GlobalMaxPooling1D, Dropout, LSTM, GRU, SimpleRNN\n",
    "from tensorflow.keras import utils\n",
    "from tensorflow.keras.preprocessing.sequence import pad_sequences\n",
    "from tensorflow.keras.preprocessing.text import Tokenizer\n",
    "from tensorflow.keras.callbacks import ModelCheckpoint\n",
    "from tensorflow.keras import utils\n",
    "from tensorflow import keras\n",
    "from kerastuner.tuners import RandomSearch, Hyperband, BayesianOptimization\n",
    "import pandas as pd\n",
    "import numpy as np\n",
    "import matplotlib.pyplot as plt"
   ],
   "metadata": {
    "collapsed": false,
    "ExecuteTime": {
     "start_time": "2023-04-18T01:33:16.508959Z",
     "end_time": "2023-04-18T01:33:16.888796Z"
    }
   }
  },
  {
   "cell_type": "code",
   "execution_count": 25,
   "outputs": [],
   "source": [
    "# Максимальное количество слов\n",
    "num_words = 10000\n",
    "# Максимальная длина комментария\n",
    "max_comment_len = 50\n",
    "#Число классов\n",
    "num_classes = 6"
   ],
   "metadata": {
    "collapsed": false,
    "ExecuteTime": {
     "start_time": "2023-04-18T01:33:16.595818Z",
     "end_time": "2023-04-18T01:33:16.888796Z"
    }
   }
  },
  {
   "cell_type": "markdown",
   "source": [
    "# Загрузка тренировочных данных"
   ],
   "metadata": {
    "collapsed": false
   }
  },
  {
   "cell_type": "code",
   "execution_count": 26,
   "outputs": [],
   "source": [
    "train = pd.read_csv('toxicCommentsDataSet/toxicCommentsTrain.csv')"
   ],
   "metadata": {
    "collapsed": false,
    "ExecuteTime": {
     "start_time": "2023-04-18T01:33:16.629072Z",
     "end_time": "2023-04-18T01:33:18.553927Z"
    }
   }
  },
  {
   "cell_type": "code",
   "execution_count": 27,
   "outputs": [],
   "source": [
    "#Получение комментариев\n",
    "comments = train['comment_text']"
   ],
   "metadata": {
    "collapsed": false,
    "ExecuteTime": {
     "start_time": "2023-04-18T01:33:18.561222Z",
     "end_time": "2023-04-18T01:33:19.778761Z"
    }
   }
  },
  {
   "cell_type": "code",
   "execution_count": 28,
   "outputs": [],
   "source": [
    "y_train = train[['toxic', 'severe_toxic', 'obscene', 'threat', 'insult', 'identity_hate']]"
   ],
   "metadata": {
    "collapsed": false,
    "ExecuteTime": {
     "start_time": "2023-04-18T01:33:19.788991Z",
     "end_time": "2023-04-18T01:33:19.858435Z"
    }
   }
  },
  {
   "cell_type": "markdown",
   "source": [
    "# Токенизация"
   ],
   "metadata": {
    "collapsed": false
   }
  },
  {
   "cell_type": "code",
   "execution_count": 29,
   "outputs": [],
   "source": [
    "tokenizer = Tokenizer(num_words=num_words)"
   ],
   "metadata": {
    "collapsed": false,
    "ExecuteTime": {
     "start_time": "2023-04-18T01:33:20.391574Z",
     "end_time": "2023-04-18T01:33:20.403883Z"
    }
   }
  },
  {
   "cell_type": "code",
   "execution_count": 30,
   "outputs": [],
   "source": [
    "#Обучение токенайзера\n",
    "tokenizer.fit_on_texts(comments)"
   ],
   "metadata": {
    "collapsed": false,
    "ExecuteTime": {
     "start_time": "2023-04-18T01:33:20.409147Z",
     "end_time": "2023-04-18T01:33:34.385494Z"
    }
   }
  },
  {
   "cell_type": "code",
   "execution_count": 31,
   "outputs": [],
   "source": [
    "train_sequences = tokenizer.texts_to_sequences(comments)"
   ],
   "metadata": {
    "collapsed": false,
    "ExecuteTime": {
     "start_time": "2023-04-18T01:33:34.400499Z",
     "end_time": "2023-04-18T01:33:55.508983Z"
    }
   }
  },
  {
   "cell_type": "code",
   "execution_count": 32,
   "outputs": [],
   "source": [
    "x_train = pad_sequences(train_sequences, maxlen=max_comment_len)"
   ],
   "metadata": {
    "collapsed": false,
    "ExecuteTime": {
     "start_time": "2023-04-18T01:33:55.518809Z",
     "end_time": "2023-04-18T01:33:56.463729Z"
    }
   }
  },
  {
   "cell_type": "markdown",
   "source": [
    "# Загрузка тестовых данных"
   ],
   "metadata": {
    "collapsed": false
   }
  },
  {
   "cell_type": "code",
   "execution_count": 33,
   "outputs": [],
   "source": [
    "test_comments = pd.read_csv('toxicCommentsDataSet/toxicCommentsTest.csv')"
   ],
   "metadata": {
    "collapsed": false,
    "ExecuteTime": {
     "start_time": "2023-04-18T01:33:56.469782Z",
     "end_time": "2023-04-18T01:33:59.521003Z"
    }
   }
  },
  {
   "cell_type": "code",
   "execution_count": 34,
   "outputs": [],
   "source": [
    "test_labels = pd.read_csv('toxicCommentsDataSet/toxicCommentsTestLabels.csv')"
   ],
   "metadata": {
    "collapsed": false,
    "ExecuteTime": {
     "start_time": "2023-04-18T01:33:59.579517Z",
     "end_time": "2023-04-18T01:33:59.842114Z"
    }
   }
  },
  {
   "cell_type": "code",
   "execution_count": 35,
   "outputs": [],
   "source": [
    "test_full = pd.merge(test_comments, test_labels, on='id')"
   ],
   "metadata": {
    "collapsed": false,
    "ExecuteTime": {
     "start_time": "2023-04-18T01:33:59.864282Z",
     "end_time": "2023-04-18T01:34:00.500495Z"
    }
   }
  },
  {
   "cell_type": "code",
   "execution_count": 36,
   "outputs": [],
   "source": [
    "test = test_full[test_full['toxic']!=-1]"
   ],
   "metadata": {
    "collapsed": false,
    "ExecuteTime": {
     "start_time": "2023-04-18T01:34:00.509077Z",
     "end_time": "2023-04-18T01:34:00.579991Z"
    }
   }
  },
  {
   "cell_type": "markdown",
   "source": [
    "# Токенизация"
   ],
   "metadata": {
    "collapsed": false
   }
  },
  {
   "cell_type": "code",
   "execution_count": 37,
   "outputs": [],
   "source": [
    "test_sequences = tokenizer.texts_to_sequences(test['comment_text'])"
   ],
   "metadata": {
    "collapsed": false,
    "ExecuteTime": {
     "start_time": "2023-04-18T01:34:00.692224Z",
     "end_time": "2023-04-18T01:34:04.401414Z"
    }
   }
  },
  {
   "cell_type": "code",
   "execution_count": 38,
   "outputs": [],
   "source": [
    "y_test = test[['toxic',\t'severe_toxic',\t'obscene', 'threat',\t'insult',\t'identity_hate']]"
   ],
   "metadata": {
    "collapsed": false,
    "ExecuteTime": {
     "start_time": "2023-04-18T01:34:04.408978Z",
     "end_time": "2023-04-18T01:34:04.419169Z"
    }
   }
  },
  {
   "cell_type": "code",
   "execution_count": 39,
   "outputs": [],
   "source": [
    "x_test = pad_sequences(test_sequences, maxlen=max_comment_len)"
   ],
   "metadata": {
    "collapsed": false,
    "ExecuteTime": {
     "start_time": "2023-04-18T01:34:04.419169Z",
     "end_time": "2023-04-18T01:34:04.803187Z"
    }
   }
  },
  {
   "cell_type": "markdown",
   "source": [
    "# Проверка лучшей модели"
   ],
   "metadata": {
    "collapsed": false
   }
  },
  {
   "cell_type": "code",
   "execution_count": 40,
   "outputs": [
    {
     "name": "stdout",
     "output_type": "stream",
     "text": [
      "Model: \"sequential_1\"\n",
      "_________________________________________________________________\n",
      " Layer (type)                Output Shape              Param #   \n",
      "=================================================================\n",
      " embedding_1 (Embedding)     (None, 50, 116)           1160000   \n",
      "                                                                 \n",
      " lstm_2 (LSTM)               (None, 50, 28)            16240     \n",
      "                                                                 \n",
      " lstm_3 (LSTM)               (None, 50, 28)            6384      \n",
      "                                                                 \n",
      " lstm_4 (LSTM)               (None, 28)                6384      \n",
      "                                                                 \n",
      " dense_1 (Dense)             (None, 6)                 174       \n",
      "                                                                 \n",
      "=================================================================\n",
      "Total params: 1,189,182\n",
      "Trainable params: 1,189,182\n",
      "Non-trainable params: 0\n",
      "_________________________________________________________________\n"
     ]
    }
   ],
   "source": [
    "model = Sequential()\n",
    "model.add(Embedding(input_dim=num_words, output_dim=116, input_length=max_comment_len,\n",
    "                    embeddings_regularizer=keras.regularizers.l2(0.001)))\n",
    "model.add(LSTM(units=28, activation='selu', kernel_regularizer=keras.regularizers.l2(0.001), return_sequences=True))\n",
    "model.add(LSTM(units=28, activation='selu', kernel_regularizer=keras.regularizers.l2(0.001), return_sequences=True))\n",
    "model.add(LSTM(units=28, activation='selu', kernel_regularizer=keras.regularizers.l2(0.001)))\n",
    "model.add(Dense(num_classes, activation='sigmoid'))\n",
    "\n",
    "model.compile(optimizer='rmsprop', loss='binary_crossentropy', metrics=[keras.metrics.AUC(name=\"auc\"), \"accuracy\"])\n",
    "\n",
    "model.summary()"
   ],
   "metadata": {
    "collapsed": false,
    "ExecuteTime": {
     "start_time": "2023-04-18T01:34:04.815477Z",
     "end_time": "2023-04-18T01:34:06.574661Z"
    }
   }
  },
  {
   "cell_type": "code",
   "execution_count": 41,
   "outputs": [
    {
     "name": "stdout",
     "output_type": "stream",
     "text": [
      "Epoch 1/5\n",
      "125/125 [==============================] - 168s 1s/step - loss: 0.3197 - auc: 0.8371 - accuracy: 0.9510 - val_loss: 0.1526 - val_auc: 0.9347 - val_accuracy: 0.9759\n",
      "Epoch 2/5\n",
      "125/125 [==============================] - 143s 1s/step - loss: 0.1259 - auc: 0.9395 - accuracy: 0.9814 - val_loss: 0.1010 - val_auc: 0.9570 - val_accuracy: 0.9838\n",
      "Epoch 3/5\n",
      "125/125 [==============================] - 134s 1s/step - loss: 0.1024 - auc: 0.9505 - accuracy: 0.9824 - val_loss: 0.1086 - val_auc: 0.9638 - val_accuracy: 0.9785\n",
      "Epoch 4/5\n",
      "125/125 [==============================] - 130s 1s/step - loss: 0.0905 - auc: 0.9560 - accuracy: 0.9754 - val_loss: 0.0824 - val_auc: 0.9644 - val_accuracy: 0.9795\n",
      "Epoch 5/5\n",
      "125/125 [==============================] - 138s 1s/step - loss: 0.0837 - auc: 0.9597 - accuracy: 0.9750 - val_loss: 0.0825 - val_auc: 0.9691 - val_accuracy: 0.9894\n"
     ]
    }
   ],
   "source": [
    "history_model = model.fit(x_train,\n",
    "                          y_train,\n",
    "                          epochs=5,\n",
    "                          batch_size=1024,\n",
    "                          validation_split=0.2)"
   ],
   "metadata": {
    "collapsed": false,
    "ExecuteTime": {
     "start_time": "2023-04-18T01:34:06.593754Z",
     "end_time": "2023-04-18T01:45:59.687043Z"
    }
   }
  },
  {
   "cell_type": "code",
   "execution_count": 42,
   "outputs": [
    {
     "name": "stdout",
     "output_type": "stream",
     "text": [
      "2000/2000 [==============================] - 39s 19ms/step - loss: 0.1059 - auc: 0.9591 - accuracy: 0.9852\n"
     ]
    },
    {
     "data": {
      "text/plain": "[0.10594627261161804, 0.9591419100761414, 0.9852449297904968]"
     },
     "execution_count": 42,
     "metadata": {},
     "output_type": "execute_result"
    }
   ],
   "source": [
    "model.evaluate(x_test, y_test)"
   ],
   "metadata": {
    "collapsed": false,
    "ExecuteTime": {
     "start_time": "2023-04-18T01:45:59.783884Z",
     "end_time": "2023-04-18T01:46:39.248812Z"
    }
   }
  },
  {
   "cell_type": "code",
   "execution_count": 43,
   "outputs": [
    {
     "data": {
      "text/plain": "<Figure size 640x480 with 1 Axes>",
      "image/png": "[encoded data removed]"
     },
     "metadata": {},
     "output_type": "display_data"
    }
   ],
   "source": [
    "plt.plot(history_model.history['accuracy'],\n",
    "         label='Доля верных ответов на обучающем наборе')\n",
    "plt.plot(history_model.history['val_accuracy'],\n",
    "         label='Доля верных ответов на проверочном наборе')\n",
    "plt.plot(history_model.history['auc'],\n",
    "         label='AUC на обучающем наборе')\n",
    "plt.plot(history_model.history['val_auc'],\n",
    "         label='AUC на проверочном наборе')\n",
    "plt.xlabel('Эпоха обучения')\n",
    "plt.ylabel('Доля верных ответов')\n",
    "plt.legend()\n",
    "plt.show()"
   ],
   "metadata": {
    "collapsed": false,
    "ExecuteTime": {
     "start_time": "2023-04-18T01:46:39.256815Z",
     "end_time": "2023-04-18T01:46:40.192884Z"
    }
   }
  }
 ],
 "metadata": {
  "kernelspec": {
   "display_name": "Python 3",
   "language": "python",
   "name": "python3"
  },
  "language_info": {
   "codemirror_mode": {
    "name": "ipython",
    "version": 2
   },
   "file_extension": ".py",
   "mimetype": "text/x-python",
   "name": "python",
   "nbconvert_exporter": "python",
   "pygments_lexer": "ipython2",
   "version": "2.7.6"
  }
 },
 "nbformat": 4,
 "nbformat_minor": 0
}
