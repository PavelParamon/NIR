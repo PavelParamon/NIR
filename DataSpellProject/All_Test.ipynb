{
 "cells": [
  {
   "cell_type": "markdown",
   "source": [
    "# Инициализация"
   ],
   "metadata": {
    "collapsed": false
   }
  },
  {
   "cell_type": "code",
   "execution_count": 86,
   "outputs": [],
   "source": [
    "from tensorflow.keras.models import Sequential\n",
    "from tensorflow.keras.layers import Dense, Embedding, MaxPooling1D, Dropout, LSTM, Bidirectional, SpatialDropout1D, \\\n",
    "    Flatten, Conv1D, GlobalMaxPooling1D, Dropout, LSTM, GRU, SimpleRNN\n",
    "from tensorflow.keras import utils\n",
    "from tensorflow.keras.preprocessing.sequence import pad_sequences\n",
    "from tensorflow.keras.preprocessing.text import Tokenizer\n",
    "from tensorflow.keras.callbacks import ModelCheckpoint\n",
    "from tensorflow.keras import utils\n",
    "from tensorflow import keras\n",
    "from kerastuner.tuners import RandomSearch, Hyperband, BayesianOptimization\n",
    "import pandas as pd\n",
    "import numpy as np\n",
    "import matplotlib.pyplot as plt\n",
    "import tensorflow as tf"
   ],
   "metadata": {
    "collapsed": false,
    "ExecuteTime": {
     "start_time": "2023-05-25T23:18:52.962998Z",
     "end_time": "2023-05-25T23:18:54.025072Z"
    }
   }
  },
  {
   "cell_type": "code",
   "execution_count": 87,
   "outputs": [],
   "source": [
    "# Максимальное количество слов\n",
    "num_words = 10000\n",
    "# Максимальная длина комментария\n",
    "max_comment_len = 50\n",
    "#Число классов\n",
    "num_classes = 6"
   ],
   "metadata": {
    "collapsed": false,
    "ExecuteTime": {
     "start_time": "2023-05-25T23:18:53.004998Z",
     "end_time": "2023-05-25T23:18:54.074077Z"
    }
   }
  },
  {
   "cell_type": "markdown",
   "source": [
    "# Загрузка тренировочных данных"
   ],
   "metadata": {
    "collapsed": false
   }
  },
  {
   "cell_type": "code",
   "execution_count": 88,
   "outputs": [],
   "source": [
    "train = pd.read_csv('toxicCommentsDataSet/toxicCommentsTrain.csv')"
   ],
   "metadata": {
    "collapsed": false,
    "ExecuteTime": {
     "start_time": "2023-05-25T23:18:53.024997Z",
     "end_time": "2023-05-25T23:18:55.257165Z"
    }
   }
  },
  {
   "cell_type": "code",
   "execution_count": 89,
   "outputs": [],
   "source": [
    "#Получение комментариев\n",
    "comments = train['comment_text']"
   ],
   "metadata": {
    "collapsed": false,
    "ExecuteTime": {
     "start_time": "2023-05-25T23:18:55.265164Z",
     "end_time": "2023-05-25T23:18:56.515257Z"
    }
   }
  },
  {
   "cell_type": "code",
   "execution_count": 90,
   "outputs": [],
   "source": [
    "y_train = train[['toxic', 'severe_toxic', 'obscene', 'threat', 'insult', 'identity_hate']]"
   ],
   "metadata": {
    "collapsed": false,
    "ExecuteTime": {
     "start_time": "2023-05-25T23:18:56.520258Z",
     "end_time": "2023-05-25T23:18:56.557260Z"
    }
   }
  },
  {
   "cell_type": "markdown",
   "source": [
    "# Токенизация"
   ],
   "metadata": {
    "collapsed": false
   }
  },
  {
   "cell_type": "code",
   "execution_count": 91,
   "outputs": [],
   "source": [
    "tokenizer_toxic = Tokenizer(num_words=num_words)"
   ],
   "metadata": {
    "collapsed": false,
    "ExecuteTime": {
     "start_time": "2023-05-25T23:18:56.550261Z",
     "end_time": "2023-05-25T23:18:56.865285Z"
    }
   }
  },
  {
   "cell_type": "code",
   "execution_count": 92,
   "outputs": [],
   "source": [
    "#Обучение токенайзера\n",
    "tokenizer_toxic.fit_on_texts(comments)"
   ],
   "metadata": {
    "collapsed": false,
    "ExecuteTime": {
     "start_time": "2023-05-25T23:18:56.869284Z",
     "end_time": "2023-05-25T23:19:11.382814Z"
    }
   }
  },
  {
   "cell_type": "code",
   "execution_count": 93,
   "outputs": [],
   "source": [
    "train_sequences = tokenizer_toxic.texts_to_sequences(comments)"
   ],
   "metadata": {
    "collapsed": false,
    "ExecuteTime": {
     "start_time": "2023-05-25T23:19:11.388814Z",
     "end_time": "2023-05-25T23:19:24.237672Z"
    }
   }
  },
  {
   "cell_type": "code",
   "execution_count": 94,
   "outputs": [],
   "source": [
    "x_train = pad_sequences(train_sequences, maxlen=max_comment_len)"
   ],
   "metadata": {
    "collapsed": false,
    "ExecuteTime": {
     "start_time": "2023-05-25T23:19:24.242673Z",
     "end_time": "2023-05-25T23:19:25.277754Z"
    }
   }
  },
  {
   "cell_type": "markdown",
   "source": [
    "# Загрузка тестовых данных"
   ],
   "metadata": {
    "collapsed": false
   }
  },
  {
   "cell_type": "code",
   "execution_count": 95,
   "outputs": [],
   "source": [
    "test_comments = pd.read_csv('toxicCommentsDataSet/toxicCommentsTest.csv')"
   ],
   "metadata": {
    "collapsed": false,
    "ExecuteTime": {
     "start_time": "2023-05-25T23:19:25.286754Z",
     "end_time": "2023-05-25T23:19:27.147891Z"
    }
   }
  },
  {
   "cell_type": "code",
   "execution_count": 96,
   "outputs": [],
   "source": [
    "test_labels = pd.read_csv('toxicCommentsDataSet/toxicCommentsTestLabels.csv')"
   ],
   "metadata": {
    "collapsed": false,
    "ExecuteTime": {
     "start_time": "2023-05-25T23:19:27.154893Z",
     "end_time": "2023-05-25T23:19:27.403913Z"
    }
   }
  },
  {
   "cell_type": "code",
   "execution_count": 97,
   "outputs": [],
   "source": [
    "test_full = pd.merge(test_comments, test_labels, on='id')"
   ],
   "metadata": {
    "collapsed": false,
    "ExecuteTime": {
     "start_time": "2023-05-25T23:19:27.406910Z",
     "end_time": "2023-05-25T23:19:27.642929Z"
    }
   }
  },
  {
   "cell_type": "code",
   "execution_count": 98,
   "outputs": [],
   "source": [
    "test = test_full[test_full['toxic'] != -1]"
   ],
   "metadata": {
    "collapsed": false,
    "ExecuteTime": {
     "start_time": "2023-05-25T23:19:27.646929Z",
     "end_time": "2023-05-25T23:19:27.687931Z"
    }
   }
  },
  {
   "cell_type": "markdown",
   "source": [
    "# Токенизация"
   ],
   "metadata": {
    "collapsed": false
   }
  },
  {
   "cell_type": "code",
   "execution_count": 99,
   "outputs": [],
   "source": [
    "test_sequences = tokenizer_toxic.texts_to_sequences(test['comment_text'])"
   ],
   "metadata": {
    "collapsed": false,
    "ExecuteTime": {
     "start_time": "2023-05-25T23:19:27.679950Z",
     "end_time": "2023-05-25T23:19:31.653246Z"
    }
   }
  },
  {
   "cell_type": "code",
   "execution_count": 100,
   "outputs": [],
   "source": [
    "y_test = test[['toxic', 'severe_toxic', 'obscene', 'threat', 'insult', 'identity_hate']]"
   ],
   "metadata": {
    "collapsed": false,
    "ExecuteTime": {
     "start_time": "2023-05-25T23:19:31.660249Z",
     "end_time": "2023-05-25T23:19:31.669248Z"
    }
   }
  },
  {
   "cell_type": "code",
   "execution_count": 101,
   "outputs": [],
   "source": [
    "x_test = pad_sequences(test_sequences, maxlen=max_comment_len)"
   ],
   "metadata": {
    "collapsed": false,
    "ExecuteTime": {
     "start_time": "2023-05-25T23:19:31.676249Z",
     "end_time": "2023-05-25T23:19:32.086280Z"
    }
   }
  },
  {
   "cell_type": "markdown",
   "source": [
    "# Проверка лучшей модели"
   ],
   "metadata": {
    "collapsed": false
   }
  },
  {
   "cell_type": "code",
   "execution_count": 102,
   "outputs": [
    {
     "name": "stdout",
     "output_type": "stream",
     "text": [
      "Model: \"sequential_3\"\n",
      "_________________________________________________________________\n",
      " Layer (type)                Output Shape              Param #   \n",
      "=================================================================\n",
      " embedding_3 (Embedding)     (None, 50, 36)            360000    \n",
      "                                                                 \n",
      " conv1d_3 (Conv1D)           (None, 46, 32)            5792      \n",
      "                                                                 \n",
      " max_pooling1d_3 (MaxPooling  (None, 23, 32)           0         \n",
      " 1D)                                                             \n",
      "                                                                 \n",
      " flatten_3 (Flatten)         (None, 736)               0         \n",
      "                                                                 \n",
      " dense_6 (Dense)             (None, 108)               79596     \n",
      "                                                                 \n",
      " dense_7 (Dense)             (None, 6)                 654       \n",
      "                                                                 \n",
      "=================================================================\n",
      "Total params: 446,042\n",
      "Trainable params: 446,042\n",
      "Non-trainable params: 0\n",
      "_________________________________________________________________\n"
     ]
    }
   ],
   "source": [
    "model_toxic = Sequential()\n",
    "model_toxic.add(Embedding(input_dim=num_words, output_dim=36, input_length=max_comment_len,\n",
    "                          embeddings_regularizer=keras.regularizers.l2(0.0001)))\n",
    "model_toxic.add(Conv1D(filters=32, kernel_size=5, activation='elu', kernel_regularizer=keras.regularizers.l2(0.0001)))\n",
    "model_toxic.add(MaxPooling1D(pool_size=2))\n",
    "model_toxic.add(Flatten())\n",
    "model_toxic.add(Dense(units=108, activation='elu', kernel_regularizer=keras.regularizers.l2(0.0001)))\n",
    "model_toxic.add(Dense(num_classes, activation='sigmoid'))\n",
    "\n",
    "model_toxic.compile(optimizer='rmsprop', loss='binary_crossentropy',\n",
    "                    metrics=[keras.metrics.AUC(name=\"auc\"), \"accuracy\"])\n",
    "\n",
    "model_toxic.summary()"
   ],
   "metadata": {
    "collapsed": false,
    "ExecuteTime": {
     "start_time": "2023-05-25T23:19:32.097281Z",
     "end_time": "2023-05-25T23:19:32.466309Z"
    }
   }
  },
  {
   "cell_type": "code",
   "execution_count": 102,
   "outputs": [],
   "source": [],
   "metadata": {
    "collapsed": false,
    "ExecuteTime": {
     "start_time": "2023-05-25T23:19:32.407303Z",
     "end_time": "2023-05-25T23:19:32.467312Z"
    }
   }
  },
  {
   "cell_type": "code",
   "execution_count": 103,
   "outputs": [
    {
     "name": "stdout",
     "output_type": "stream",
     "text": [
      "Epoch 1/5\n",
      "125/125 [==============================] - 10s 57ms/step - loss: 0.1417 - auc: 0.8931 - accuracy: 0.9612 - val_loss: 0.0898 - val_auc: 0.9599 - val_accuracy: 0.9932\n",
      "Epoch 2/5\n",
      "125/125 [==============================] - 7s 52ms/step - loss: 0.0819 - auc: 0.9643 - accuracy: 0.9658 - val_loss: 0.0761 - val_auc: 0.9701 - val_accuracy: 0.9467\n",
      "Epoch 3/5\n",
      "125/125 [==============================] - 6s 51ms/step - loss: 0.0727 - auc: 0.9699 - accuracy: 0.9579 - val_loss: 0.0708 - val_auc: 0.9693 - val_accuracy: 0.9822\n",
      "Epoch 4/5\n",
      "125/125 [==============================] - 6s 51ms/step - loss: 0.0690 - auc: 0.9717 - accuracy: 0.9727 - val_loss: 0.0691 - val_auc: 0.9705 - val_accuracy: 0.9822\n",
      "Epoch 5/5\n",
      "125/125 [==============================] - 6s 51ms/step - loss: 0.0667 - auc: 0.9728 - accuracy: 0.9847 - val_loss: 0.0694 - val_auc: 0.9671 - val_accuracy: 0.9941\n"
     ]
    }
   ],
   "source": [
    "history_model = model_toxic.fit(x_train,\n",
    "                                y_train,\n",
    "                                epochs=5,\n",
    "                                batch_size=1024,\n",
    "                                validation_split=0.2)"
   ],
   "metadata": {
    "collapsed": false,
    "ExecuteTime": {
     "start_time": "2023-05-25T23:19:32.426306Z",
     "end_time": "2023-05-25T23:20:08.161572Z"
    }
   }
  },
  {
   "cell_type": "code",
   "execution_count": 104,
   "outputs": [
    {
     "data": {
      "text/plain": "<Figure size 640x480 with 1 Axes>",
      "image/png": "[encoded data removed]"
     },
     "metadata": {},
     "output_type": "display_data"
    }
   ],
   "source": [
    "plt.plot(history_model.history['accuracy'],\n",
    "         label='Доля верных ответов на обучающем наборе')\n",
    "plt.plot(history_model.history['val_accuracy'],\n",
    "         label='Доля верных ответов на проверочном наборе')\n",
    "plt.xlabel('Эпоха обучения')\n",
    "plt.ylabel('Доля верных ответов')\n",
    "plt.legend()\n",
    "plt.show()"
   ],
   "metadata": {
    "collapsed": false,
    "ExecuteTime": {
     "start_time": "2023-05-25T23:20:08.168574Z",
     "end_time": "2023-05-25T23:20:08.560605Z"
    }
   }
  },
  {
   "cell_type": "code",
   "execution_count": 105,
   "outputs": [
    {
     "name": "stdout",
     "output_type": "stream",
     "text": [
      "2000/2000 [==============================] - 7s 4ms/step - loss: 0.0833 - auc: 0.9634 - accuracy: 0.9975\n"
     ]
    },
    {
     "data": {
      "text/plain": "63978"
     },
     "execution_count": 105,
     "metadata": {},
     "output_type": "execute_result"
    }
   ],
   "source": [
    "model_toxic.evaluate(x_test, y_test)\n",
    "len(x_test)"
   ],
   "metadata": {
    "collapsed": false,
    "ExecuteTime": {
     "start_time": "2023-05-25T23:20:08.562604Z",
     "end_time": "2023-05-25T23:20:15.921682Z"
    }
   }
  },
  {
   "cell_type": "code",
   "execution_count": 106,
   "outputs": [],
   "source": [
    "comment = \"COCKSUCKER BEFORE YOU PISS AROUND ON MY WORK\""
   ],
   "metadata": {
    "collapsed": false,
    "ExecuteTime": {
     "start_time": "2023-05-25T23:20:15.898683Z",
     "end_time": "2023-05-25T23:20:15.951685Z"
    }
   }
  },
  {
   "cell_type": "code",
   "execution_count": 107,
   "outputs": [],
   "source": [
    "sequence_toxic = tokenizer_toxic.texts_to_sequences([comment])"
   ],
   "metadata": {
    "collapsed": false,
    "ExecuteTime": {
     "start_time": "2023-05-25T23:20:15.913682Z",
     "end_time": "2023-05-25T23:20:15.953687Z"
    }
   }
  },
  {
   "cell_type": "code",
   "execution_count": 108,
   "outputs": [],
   "source": [
    "data_toxic = pad_sequences(sequence_toxic, maxlen=max_comment_len)"
   ],
   "metadata": {
    "collapsed": false,
    "ExecuteTime": {
     "start_time": "2023-05-25T23:20:15.928686Z",
     "end_time": "2023-05-25T23:20:15.954687Z"
    }
   }
  },
  {
   "cell_type": "code",
   "execution_count": 109,
   "outputs": [
    {
     "name": "stdout",
     "output_type": "stream",
     "text": [
      "1/1 [==============================] - 0s 184ms/step\n"
     ]
    },
    {
     "data": {
      "text/plain": "array([[0.897078  , 0.03030412, 0.4762518 , 0.01069032, 0.38770282,\n        0.03977123]], dtype=float32)"
     },
     "execution_count": 109,
     "metadata": {},
     "output_type": "execute_result"
    }
   ],
   "source": [
    "model_toxic.predict(data_toxic)"
   ],
   "metadata": {
    "collapsed": false,
    "ExecuteTime": {
     "start_time": "2023-05-25T23:20:15.945687Z",
     "end_time": "2023-05-25T23:20:16.257707Z"
    }
   }
  },
  {
   "cell_type": "markdown",
   "source": [
    "# Сохранение модели токсичности"
   ],
   "metadata": {
    "collapsed": false
   }
  },
  {
   "cell_type": "code",
   "execution_count": 110,
   "outputs": [],
   "source": [
    "model_toxic.save('model_toxic.h5')\n",
    "#loaded_model_toxic = tf.keras.models.load_model('model_toxic')\n",
    "#tf.saved_model.save(loaded_model_toxic, 'model_toxic_saved_model')"
   ],
   "metadata": {
    "collapsed": false,
    "ExecuteTime": {
     "start_time": "2023-05-25T23:20:16.263708Z",
     "end_time": "2023-05-25T23:20:16.359715Z"
    }
   }
  },
  {
   "cell_type": "markdown",
   "source": [
    "# ОБУЧЕНИЕ ЭКШЕНАМ"
   ],
   "metadata": {
    "collapsed": false
   }
  },
  {
   "cell_type": "code",
   "execution_count": 111,
   "outputs": [],
   "source": [
    "# Максимальное количество слов\n",
    "num_words = 10000\n",
    "# Максимальная длина экшена\n",
    "max_action_len = 50\n",
    "#Число классов\n",
    "num_classes = 15"
   ],
   "metadata": {
    "collapsed": false,
    "ExecuteTime": {
     "start_time": "2023-05-25T23:20:16.345716Z",
     "end_time": "2023-05-25T23:20:16.359715Z"
    }
   }
  },
  {
   "cell_type": "markdown",
   "source": [
    "# Загрузка тренировочных данных"
   ],
   "metadata": {
    "collapsed": false
   }
  },
  {
   "cell_type": "code",
   "execution_count": 112,
   "outputs": [],
   "source": [
    "train = pd.read_csv('actionsNPCDataSet/trainActions.csv', header=None,\n",
    "                    names=['class', 'text'])"
   ],
   "metadata": {
    "collapsed": false,
    "ExecuteTime": {
     "start_time": "2023-05-25T23:20:16.368718Z",
     "end_time": "2023-05-25T23:20:16.460723Z"
    }
   }
  },
  {
   "cell_type": "code",
   "execution_count": 113,
   "outputs": [],
   "source": [
    "#Получение экшенов\n",
    "actions = train['text']"
   ],
   "metadata": {
    "collapsed": false,
    "ExecuteTime": {
     "start_time": "2023-05-25T23:20:16.406721Z",
     "end_time": "2023-05-25T23:20:16.461723Z"
    }
   }
  },
  {
   "cell_type": "code",
   "execution_count": 114,
   "outputs": [],
   "source": [
    "y_train = utils.to_categorical(train['class'] - 1, num_classes)"
   ],
   "metadata": {
    "collapsed": false,
    "ExecuteTime": {
     "start_time": "2023-05-25T23:20:16.423721Z",
     "end_time": "2023-05-25T23:20:16.461723Z"
    }
   }
  },
  {
   "cell_type": "markdown",
   "source": [
    "# Токенизация"
   ],
   "metadata": {
    "collapsed": false
   }
  },
  {
   "cell_type": "code",
   "execution_count": 115,
   "outputs": [],
   "source": [
    "tokenizer_action = Tokenizer(num_words=num_words)"
   ],
   "metadata": {
    "collapsed": false,
    "ExecuteTime": {
     "start_time": "2023-05-25T23:20:16.437722Z",
     "end_time": "2023-05-25T23:20:16.462725Z"
    }
   }
  },
  {
   "cell_type": "code",
   "execution_count": 116,
   "outputs": [],
   "source": [
    "#Обучение токенайзера\n",
    "tokenizer_action.fit_on_texts(actions)"
   ],
   "metadata": {
    "collapsed": false,
    "ExecuteTime": {
     "start_time": "2023-05-25T23:20:16.455723Z",
     "end_time": "2023-05-25T23:20:16.657741Z"
    }
   }
  },
  {
   "cell_type": "code",
   "execution_count": 117,
   "outputs": [],
   "source": [
    "train_sequences = tokenizer_action.texts_to_sequences(actions)"
   ],
   "metadata": {
    "collapsed": false,
    "ExecuteTime": {
     "start_time": "2023-05-25T23:20:16.661740Z",
     "end_time": "2023-05-25T23:20:16.863753Z"
    }
   }
  },
  {
   "cell_type": "code",
   "execution_count": 118,
   "outputs": [],
   "source": [
    "x_train = pad_sequences(train_sequences, maxlen=max_action_len)"
   ],
   "metadata": {
    "collapsed": false,
    "ExecuteTime": {
     "start_time": "2023-05-25T23:20:16.868755Z",
     "end_time": "2023-05-25T23:20:16.928758Z"
    }
   }
  },
  {
   "cell_type": "markdown",
   "source": [
    "# Загрузка тестовых данных"
   ],
   "metadata": {
    "collapsed": false
   }
  },
  {
   "cell_type": "code",
   "execution_count": 119,
   "outputs": [],
   "source": [
    "test = pd.read_csv('actionsNPCDataSet/actionsTest.csv', header=None,\n",
    "                           names=['class', 'text'])"
   ],
   "metadata": {
    "collapsed": false,
    "ExecuteTime": {
     "start_time": "2023-05-25T23:20:16.932761Z",
     "end_time": "2023-05-25T23:20:16.970763Z"
    }
   }
  },
  {
   "cell_type": "code",
   "execution_count": 120,
   "outputs": [],
   "source": [
    "#Получение экшенов\n",
    "test_actions = test['text']"
   ],
   "metadata": {
    "collapsed": false,
    "ExecuteTime": {
     "start_time": "2023-05-25T23:20:16.962762Z",
     "end_time": "2023-05-25T23:20:16.996762Z"
    }
   }
  },
  {
   "cell_type": "code",
   "execution_count": 121,
   "outputs": [],
   "source": [
    "y_test = utils.to_categorical(test['class'] - 1, num_classes)"
   ],
   "metadata": {
    "collapsed": false,
    "ExecuteTime": {
     "start_time": "2023-05-25T23:20:16.979766Z",
     "end_time": "2023-05-25T23:20:16.996762Z"
    }
   }
  },
  {
   "cell_type": "markdown",
   "source": [
    "# Токенизация"
   ],
   "metadata": {
    "collapsed": false
   }
  },
  {
   "cell_type": "code",
   "execution_count": 122,
   "outputs": [],
   "source": [
    "test_sequences = tokenizer_action.texts_to_sequences(test_actions)"
   ],
   "metadata": {
    "collapsed": false,
    "ExecuteTime": {
     "start_time": "2023-05-25T23:20:16.993767Z",
     "end_time": "2023-05-25T23:20:17.091769Z"
    }
   }
  },
  {
   "cell_type": "code",
   "execution_count": 123,
   "outputs": [],
   "source": [
    "x_test = pad_sequences(test_sequences, maxlen=max_action_len)"
   ],
   "metadata": {
    "collapsed": false,
    "ExecuteTime": {
     "start_time": "2023-05-25T23:20:17.078772Z",
     "end_time": "2023-05-25T23:20:17.102773Z"
    }
   }
  },
  {
   "cell_type": "markdown",
   "source": [
    "# Модель"
   ],
   "metadata": {
    "collapsed": false
   }
  },
  {
   "cell_type": "code",
   "execution_count": 124,
   "outputs": [
    {
     "name": "stdout",
     "output_type": "stream",
     "text": [
      "Model: \"sequential_4\"\n",
      "_________________________________________________________________\n",
      " Layer (type)                Output Shape              Param #   \n",
      "=================================================================\n",
      " embedding_4 (Embedding)     (None, 50, 116)           1160000   \n",
      "                                                                 \n",
      " conv1d_4 (Conv1D)           (None, 48, 172)           60028     \n",
      "                                                                 \n",
      " max_pooling1d_4 (MaxPooling  (None, 24, 172)          0         \n",
      " 1D)                                                             \n",
      "                                                                 \n",
      " flatten_4 (Flatten)         (None, 4128)              0         \n",
      "                                                                 \n",
      " dense_8 (Dense)             (None, 140)               578060    \n",
      "                                                                 \n",
      " dense_9 (Dense)             (None, 15)                2115      \n",
      "                                                                 \n",
      "=================================================================\n",
      "Total params: 1,800,203\n",
      "Trainable params: 1,800,203\n",
      "Non-trainable params: 0\n",
      "_________________________________________________________________\n"
     ]
    }
   ],
   "source": [
    "model_action = Sequential()\n",
    "model_action.add(Embedding(input_dim=num_words, output_dim=116, input_length=max_action_len,\n",
    "                           embeddings_regularizer=keras.regularizers.l2(0.0001)))\n",
    "model_action.add(\n",
    "    Conv1D(filters=172, kernel_size=3, activation='selu', kernel_regularizer=keras.regularizers.l2(0.0001)))\n",
    "model_action.add(MaxPooling1D(pool_size=2))\n",
    "model_action.add(Flatten())\n",
    "model_action.add(Dense(units=140, activation='selu', kernel_regularizer=keras.regularizers.l2(0.001)))\n",
    "model_action.add(Dense(num_classes, activation='softmax'))\n",
    "\n",
    "model_action.compile(optimizer='rmsprop', loss='categorical_crossentropy', metrics=['accuracy'])\n",
    "\n",
    "model_action.summary()"
   ],
   "metadata": {
    "collapsed": false,
    "ExecuteTime": {
     "start_time": "2023-05-25T23:20:17.109773Z",
     "end_time": "2023-05-25T23:20:17.345789Z"
    }
   }
  },
  {
   "cell_type": "code",
   "execution_count": 125,
   "outputs": [
    {
     "name": "stdout",
     "output_type": "stream",
     "text": [
      "Epoch 1/5\n",
      "45/45 [==============================] - 5s 72ms/step - loss: 2.0251 - accuracy: 0.5488 - val_loss: 0.9240 - val_accuracy: 0.8278\n",
      "Epoch 2/5\n",
      "45/45 [==============================] - 3s 68ms/step - loss: 0.4832 - accuracy: 0.9551 - val_loss: 0.3913 - val_accuracy: 0.9433\n",
      "Epoch 3/5\n",
      "45/45 [==============================] - 3s 65ms/step - loss: 0.2146 - accuracy: 0.9917 - val_loss: 0.2460 - val_accuracy: 0.9653\n",
      "Epoch 4/5\n",
      "45/45 [==============================] - 3s 65ms/step - loss: 0.1318 - accuracy: 0.9972 - val_loss: 0.1821 - val_accuracy: 0.9738\n",
      "Epoch 5/5\n",
      "45/45 [==============================] - 3s 67ms/step - loss: 0.0944 - accuracy: 0.9986 - val_loss: 0.1583 - val_accuracy: 0.9773\n"
     ]
    }
   ],
   "source": [
    "history_model = model_action.fit(x_train,\n",
    "                                 y_train,\n",
    "                                 epochs=5,\n",
    "                                 batch_size=128,\n",
    "                                 validation_split=0.2)"
   ],
   "metadata": {
    "collapsed": false,
    "ExecuteTime": {
     "start_time": "2023-05-25T23:20:17.301787Z",
     "end_time": "2023-05-25T23:20:33.999738Z"
    }
   }
  },
  {
   "cell_type": "code",
   "execution_count": 126,
   "outputs": [
    {
     "name": "stdout",
     "output_type": "stream",
     "text": [
      "44/44 [==============================] - 0s 8ms/step - loss: 0.1442 - accuracy: 0.9843\n"
     ]
    },
    {
     "data": {
      "text/plain": "[0.14417694509029388, 0.9842857122421265]"
     },
     "execution_count": 126,
     "metadata": {},
     "output_type": "execute_result"
    }
   ],
   "source": [
    "model_action.evaluate(x_test, y_test)"
   ],
   "metadata": {
    "collapsed": false,
    "ExecuteTime": {
     "start_time": "2023-05-25T23:20:34.004739Z",
     "end_time": "2023-05-25T23:20:34.496775Z"
    }
   }
  },
  {
   "cell_type": "code",
   "execution_count": 127,
   "outputs": [
    {
     "data": {
      "text/plain": "<Figure size 640x480 with 1 Axes>",
      "image/png": "[encoded data removed]"
     },
     "metadata": {},
     "output_type": "display_data"
    }
   ],
   "source": [
    "plt.plot(history_model.history['accuracy'],\n",
    "         label='Доля верных ответов на обучающем наборе')\n",
    "plt.plot(history_model.history['val_accuracy'],\n",
    "         label='Доля верных ответов на проверочном наборе')\n",
    "plt.xlabel('Эпоха обучения')\n",
    "plt.ylabel('Доля верных ответов')\n",
    "plt.legend()\n",
    "plt.show()"
   ],
   "metadata": {
    "collapsed": false,
    "ExecuteTime": {
     "start_time": "2023-05-25T23:20:34.502777Z",
     "end_time": "2023-05-25T23:20:34.822802Z"
    }
   }
  },
  {
   "cell_type": "code",
   "execution_count": 128,
   "outputs": [
    {
     "name": "stdout",
     "output_type": "stream",
     "text": [
      "44/44 [==============================] - 1s 15ms/step - loss: 0.1442 - accuracy: 0.9843\n"
     ]
    },
    {
     "data": {
      "text/plain": "[0.14417694509029388, 0.9842857122421265]"
     },
     "execution_count": 128,
     "metadata": {},
     "output_type": "execute_result"
    }
   ],
   "source": [
    "model_action.evaluate(x_test, y_test)"
   ],
   "metadata": {
    "collapsed": false,
    "ExecuteTime": {
     "start_time": "2023-05-25T23:20:34.821801Z",
     "end_time": "2023-05-25T23:20:35.676402Z"
    }
   }
  },
  {
   "cell_type": "code",
   "execution_count": 129,
   "outputs": [],
   "source": [
    "# Сохранение модели классификации экшенов"
   ],
   "metadata": {
    "collapsed": false,
    "ExecuteTime": {
     "start_time": "2023-05-25T23:20:35.654417Z",
     "end_time": "2023-05-25T23:20:35.704404Z"
    }
   }
  },
  {
   "cell_type": "code",
   "execution_count": 130,
   "outputs": [],
   "source": [
    "model_action.save('model_action.h5')\n",
    "#loaded_model_action = tf.keras.models.load_model('model_action')\n",
    "#tf.saved_model.save(loaded_model_action, 'model_action_saved_model')"
   ],
   "metadata": {
    "collapsed": false,
    "ExecuteTime": {
     "start_time": "2023-05-25T23:20:35.666401Z",
     "end_time": "2023-05-25T23:20:35.778411Z"
    }
   }
  },
  {
   "cell_type": "markdown",
   "source": [
    "# ПЕРЕДАЧА ТЕКСТА"
   ],
   "metadata": {
    "collapsed": false
   }
  },
  {
   "cell_type": "code",
   "execution_count": 140,
   "outputs": [],
   "source": [
    "classes_toxic = ['toxic', 'severe_toxic', 'obscene', 'threat', 'insult', 'identity_hate']\n",
    "classes_action = ['Tell about you', 'Tell about world', 'Remind task', 'Give advice on battle tactics',\n",
    "                  'Give advice on possible completion of the task', 'Train sword', 'Train axe', 'Train mace',\n",
    "                  'Train fist fight', 'Heal player', 'Close combat', 'Ranged combat', 'Make an exchange of resources',\n",
    "                  'Crack the lock', 'Explore the territory']"
   ],
   "metadata": {
    "collapsed": false,
    "ExecuteTime": {
     "start_time": "2023-05-26T00:47:05.985019Z",
     "end_time": "2023-05-26T00:47:06.198036Z"
    }
   }
  },
  {
   "cell_type": "code",
   "execution_count": 166,
   "outputs": [],
   "source": [
    "comment = \"I'm dying. Quickly do something stupid NPC\""
   ],
   "metadata": {
    "collapsed": false,
    "ExecuteTime": {
     "start_time": "2023-05-26T12:12:03.884527Z",
     "end_time": "2023-05-26T12:12:03.952531Z"
    }
   }
  },
  {
   "cell_type": "markdown",
   "source": [
    "# Обработка текста на токсичность"
   ],
   "metadata": {
    "collapsed": false
   }
  },
  {
   "cell_type": "code",
   "execution_count": 167,
   "outputs": [],
   "source": [
    "sequence_toxic = tokenizer_toxic.texts_to_sequences([comment])"
   ],
   "metadata": {
    "collapsed": false,
    "ExecuteTime": {
     "start_time": "2023-05-26T12:12:03.963533Z",
     "end_time": "2023-05-26T12:12:04.001535Z"
    }
   }
  },
  {
   "cell_type": "code",
   "execution_count": 168,
   "outputs": [],
   "source": [
    "data_toxic = pad_sequences(sequence_toxic, maxlen=max_comment_len)"
   ],
   "metadata": {
    "collapsed": false,
    "ExecuteTime": {
     "start_time": "2023-05-26T12:12:04.005537Z",
     "end_time": "2023-05-26T12:12:04.052540Z"
    }
   }
  },
  {
   "cell_type": "markdown",
   "source": [
    "# Получение результата"
   ],
   "metadata": {
    "collapsed": false
   }
  },
  {
   "cell_type": "code",
   "execution_count": 169,
   "outputs": [
    {
     "name": "stdout",
     "output_type": "stream",
     "text": [
      "1/1 [==============================] - 0s 320ms/step\n"
     ]
    }
   ],
   "source": [
    "predictions_toxic = np.where(model_toxic.predict(data_toxic)[0] > 0.5)[0]"
   ],
   "metadata": {
    "collapsed": false,
    "ExecuteTime": {
     "start_time": "2023-05-26T12:12:04.051539Z",
     "end_time": "2023-05-26T12:12:05.466644Z"
    }
   }
  },
  {
   "cell_type": "markdown",
   "source": [
    "# Обработка текста на действие"
   ],
   "metadata": {
    "collapsed": false
   }
  },
  {
   "cell_type": "code",
   "execution_count": 170,
   "outputs": [],
   "source": [
    "sequence_action = tokenizer_action.texts_to_sequences([comment])"
   ],
   "metadata": {
    "collapsed": false,
    "ExecuteTime": {
     "start_time": "2023-05-26T12:12:05.435643Z",
     "end_time": "2023-05-26T12:12:05.468645Z"
    }
   }
  },
  {
   "cell_type": "code",
   "execution_count": 171,
   "outputs": [],
   "source": [
    "data_action = pad_sequences(sequence_action, maxlen=max_action_len)"
   ],
   "metadata": {
    "collapsed": false,
    "ExecuteTime": {
     "start_time": "2023-05-26T12:12:05.461644Z",
     "end_time": "2023-05-26T12:12:05.503648Z"
    }
   }
  },
  {
   "cell_type": "markdown",
   "source": [
    "# Получение результата"
   ],
   "metadata": {
    "collapsed": false
   }
  },
  {
   "cell_type": "code",
   "execution_count": 172,
   "outputs": [
    {
     "name": "stdout",
     "output_type": "stream",
     "text": [
      "1/1 [==============================] - 0s 100ms/step\n"
     ]
    }
   ],
   "source": [
    "prediction_action = np.argmax(model_action.predict(data_action))"
   ],
   "metadata": {
    "collapsed": false,
    "ExecuteTime": {
     "start_time": "2023-05-26T12:12:05.477646Z",
     "end_time": "2023-05-26T12:12:05.771667Z"
    }
   }
  },
  {
   "cell_type": "code",
   "execution_count": 173,
   "outputs": [
    {
     "name": "stdout",
     "output_type": "stream",
     "text": [
      "Text: I'm dying. Quickly do something stupid NPC\n",
      "Toxic: toxic\n",
      "Action: Heal player\n"
     ]
    }
   ],
   "source": [
    "print('Text:', comment)\n",
    "for prediction_toxic in predictions_toxic:\n",
    "    print('Toxic:', classes_toxic[prediction_toxic])\n",
    "print('Action:', classes_action[prediction_action])"
   ],
   "metadata": {
    "collapsed": false,
    "ExecuteTime": {
     "start_time": "2023-05-26T12:12:05.780668Z",
     "end_time": "2023-05-26T12:12:05.877674Z"
    }
   }
  },
  {
   "cell_type": "code",
   "execution_count": 173,
   "outputs": [],
   "source": [],
   "metadata": {
    "collapsed": false,
    "ExecuteTime": {
     "start_time": "2023-05-26T12:12:05.806669Z",
     "end_time": "2023-05-26T12:12:05.877674Z"
    }
   }
  }
 ],
 "metadata": {
  "kernelspec": {
   "display_name": "Python 3",
   "language": "python",
   "name": "python3"
  },
  "language_info": {
   "codemirror_mode": {
    "name": "ipython",
    "version": 2
   },
   "file_extension": ".py",
   "mimetype": "text/x-python",
   "name": "python",
   "nbconvert_exporter": "python",
   "pygments_lexer": "ipython2",
   "version": "2.7.6"
  }
 },
 "nbformat": 4,
 "nbformat_minor": 0
}
