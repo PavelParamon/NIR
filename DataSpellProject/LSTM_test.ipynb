{
 "cells": [
  {
   "cell_type": "code",
   "execution_count": 39,
   "metadata": {
    "collapsed": true,
    "ExecuteTime": {
     "start_time": "2023-04-16T12:29:35.053022Z",
     "end_time": "2023-04-16T12:29:35.286037Z"
    }
   },
   "outputs": [],
   "source": [
    "from tensorflow.keras.models import Sequential\n",
    "from tensorflow.keras.layers import Dense, Embedding, MaxPooling1D, Conv1D, GlobalMaxPooling1D, Dropout, LSTM, GRU\n",
    "from tensorflow.keras import utils\n",
    "from tensorflow.keras.preprocessing.sequence import pad_sequences\n",
    "from tensorflow.keras.preprocessing.text import Tokenizer\n",
    "from tensorflow.keras.callbacks import ModelCheckpoint\n",
    "from tensorflow.keras import utils\n",
    "import pandas as pd\n",
    "import numpy as np\n",
    "import matplotlib.pyplot as plt\n"
   ]
  },
  {
   "cell_type": "code",
   "execution_count": 40,
   "outputs": [],
   "source": [
    "# Максимальное количество слов\n",
    "num_words = 5000\n",
    "# Максимальная длина новости\n",
    "max_news_len = 50\n",
    "# Количество классов новостей\n",
    "nb_classes = 15"
   ],
   "metadata": {
    "collapsed": false,
    "ExecuteTime": {
     "start_time": "2023-04-16T12:29:35.069024Z",
     "end_time": "2023-04-16T12:29:35.287038Z"
    }
   }
  },
  {
   "cell_type": "code",
   "execution_count": 41,
   "outputs": [],
   "source": [
    "train = pd.read_csv('actionsNPCDataSet/trainActions.csv',\n",
    "                    header=None,\n",
    "                    names=['class', 'text'])"
   ],
   "metadata": {
    "collapsed": false,
    "ExecuteTime": {
     "start_time": "2023-04-16T12:29:35.101029Z",
     "end_time": "2023-04-16T12:29:35.287038Z"
    }
   }
  },
  {
   "cell_type": "code",
   "execution_count": 42,
   "outputs": [
    {
     "data": {
      "text/plain": "      class                                               text\n0         1  I'd like to know more about your interpersonal...\n1         9  We should incorporate sparring into our fist f...\n2         3       What is the end goal of our current mission?\n3        10             Can you please use your healing herbs?\n4         6    We should spend some time training with swords.\n...     ...                                                ...\n7046      7                 Start your axe technique training.\n7047     14  Use a buffer overflow attack to bypass the loc...\n7048      7  Let's improve our axe fighting with some dedic...\n7049      5  What kind of feedback loops should I have in p...\n7050     13                                I'm up for trading.\n\n[7051 rows x 2 columns]",
      "text/html": "<div>\n<style scoped>\n    .dataframe tbody tr th:only-of-type {\n        vertical-align: middle;\n    }\n\n    .dataframe tbody tr th {\n        vertical-align: top;\n    }\n\n    .dataframe thead th {\n        text-align: right;\n    }\n</style>\n<table border=\"1\" class=\"dataframe\">\n  <thead>\n    <tr style=\"text-align: right;\">\n      <th></th>\n      <th>class</th>\n      <th>text</th>\n    </tr>\n  </thead>\n  <tbody>\n    <tr>\n      <th>0</th>\n      <td>1</td>\n      <td>I'd like to know more about your interpersonal...</td>\n    </tr>\n    <tr>\n      <th>1</th>\n      <td>9</td>\n      <td>We should incorporate sparring into our fist f...</td>\n    </tr>\n    <tr>\n      <th>2</th>\n      <td>3</td>\n      <td>What is the end goal of our current mission?</td>\n    </tr>\n    <tr>\n      <th>3</th>\n      <td>10</td>\n      <td>Can you please use your healing herbs?</td>\n    </tr>\n    <tr>\n      <th>4</th>\n      <td>6</td>\n      <td>We should spend some time training with swords.</td>\n    </tr>\n    <tr>\n      <th>...</th>\n      <td>...</td>\n      <td>...</td>\n    </tr>\n    <tr>\n      <th>7046</th>\n      <td>7</td>\n      <td>Start your axe technique training.</td>\n    </tr>\n    <tr>\n      <th>7047</th>\n      <td>14</td>\n      <td>Use a buffer overflow attack to bypass the loc...</td>\n    </tr>\n    <tr>\n      <th>7048</th>\n      <td>7</td>\n      <td>Let's improve our axe fighting with some dedic...</td>\n    </tr>\n    <tr>\n      <th>7049</th>\n      <td>5</td>\n      <td>What kind of feedback loops should I have in p...</td>\n    </tr>\n    <tr>\n      <th>7050</th>\n      <td>13</td>\n      <td>I'm up for trading.</td>\n    </tr>\n  </tbody>\n</table>\n<p>7051 rows × 2 columns</p>\n</div>"
     },
     "execution_count": 42,
     "metadata": {},
     "output_type": "execute_result"
    }
   ],
   "source": [
    "train"
   ],
   "metadata": {
    "collapsed": false,
    "ExecuteTime": {
     "start_time": "2023-04-16T12:29:35.131027Z",
     "end_time": "2023-04-16T12:29:35.288040Z"
    }
   }
  },
  {
   "cell_type": "code",
   "execution_count": 43,
   "outputs": [],
   "source": [
    "actions = train['text']"
   ],
   "metadata": {
    "collapsed": false,
    "ExecuteTime": {
     "start_time": "2023-04-16T12:29:35.150036Z",
     "end_time": "2023-04-16T12:29:35.288040Z"
    }
   }
  },
  {
   "cell_type": "code",
   "execution_count": 44,
   "outputs": [
    {
     "data": {
      "text/plain": "0    I'd like to know more about your interpersonal...\n1    We should incorporate sparring into our fist f...\n2         What is the end goal of our current mission?\n3               Can you please use your healing herbs?\n4      We should spend some time training with swords.\n5    Is there a way to fight effectively with littl...\n6    Share your story of overcoming self-doubt and ...\n7           Do you want to exchange equipment with me?\n8            Let's work on your sword fighting skills.\n9    Describe the moments that have taught you the ...\nName: text, dtype: object"
     },
     "execution_count": 44,
     "metadata": {},
     "output_type": "execute_result"
    }
   ],
   "source": [
    "actions[:10]"
   ],
   "metadata": {
    "collapsed": false,
    "ExecuteTime": {
     "start_time": "2023-04-16T12:29:35.163030Z",
     "end_time": "2023-04-16T12:29:35.289038Z"
    }
   }
  },
  {
   "cell_type": "code",
   "execution_count": 45,
   "outputs": [],
   "source": [
    "y_train = utils.to_categorical(train['class'] - 1, nb_classes)"
   ],
   "metadata": {
    "collapsed": false,
    "ExecuteTime": {
     "start_time": "2023-04-16T12:29:35.178031Z",
     "end_time": "2023-04-16T12:29:35.289038Z"
    }
   }
  },
  {
   "cell_type": "code",
   "execution_count": 46,
   "outputs": [
    {
     "data": {
      "text/plain": "array([[1., 0., 0., ..., 0., 0., 0.],\n       [0., 0., 0., ..., 0., 0., 0.],\n       [0., 0., 1., ..., 0., 0., 0.],\n       ...,\n       [0., 0., 0., ..., 0., 0., 0.],\n       [0., 0., 0., ..., 0., 0., 0.],\n       [0., 0., 0., ..., 1., 0., 0.]], dtype=float32)"
     },
     "execution_count": 46,
     "metadata": {},
     "output_type": "execute_result"
    }
   ],
   "source": [
    "y_train"
   ],
   "metadata": {
    "collapsed": false,
    "ExecuteTime": {
     "start_time": "2023-04-16T12:29:35.196034Z",
     "end_time": "2023-04-16T12:29:35.290038Z"
    }
   }
  },
  {
   "cell_type": "code",
   "execution_count": 47,
   "outputs": [],
   "source": [
    "tokenizer = Tokenizer(num_words=num_words)\n",
    "tokenizer.fit_on_texts(actions)"
   ],
   "metadata": {
    "collapsed": false,
    "ExecuteTime": {
     "start_time": "2023-04-16T12:29:35.209033Z",
     "end_time": "2023-04-16T12:29:35.520055Z"
    }
   }
  },
  {
   "cell_type": "code",
   "execution_count": 48,
   "outputs": [
    {
     "data": {
      "text/plain": "{'to': 1,\n 'the': 2,\n 'you': 3,\n 'and': 4,\n 'a': 5,\n 'your': 6,\n 'of': 7,\n 'can': 8,\n 'in': 9,\n 'what': 10,\n 'i': 11,\n 'our': 12,\n 'with': 13,\n \"let's\": 14,\n 'how': 15,\n 'this': 16,\n 'for': 17,\n 'me': 18,\n 'is': 19,\n 'training': 20,\n 'do': 21,\n 'on': 22,\n 'are': 23,\n 'about': 24,\n 'we': 25,\n 'some': 26,\n 'task': 27,\n 'axe': 28,\n 'mace': 29,\n 'that': 30,\n 'sword': 31,\n 'fight': 32,\n 'time': 33,\n 'world': 34,\n 'have': 35,\n 'combat': 36,\n 'use': 37,\n 'my': 38,\n 'fighting': 39,\n 'any': 40,\n 'tell': 41,\n 'current': 42,\n 'need': 43,\n 'practice': 44,\n 'fist': 45,\n 'skills': 46,\n 'be': 47,\n 'mission': 48,\n 'lock': 49,\n 'get': 50,\n 'work': 51,\n 'start': 52,\n 'or': 53,\n 'close': 54,\n 'when': 55,\n 'train': 56,\n 'like': 57,\n 'resources': 58,\n 'place': 59,\n 'take': 60,\n 'think': 61,\n 'area': 62,\n 'completing': 63,\n 'would': 64,\n 'it': 65,\n 'complete': 66,\n 'want': 67,\n 'techniques': 68,\n 'improve': 69,\n \"don't\": 70,\n 'an': 71,\n 'sparring': 72,\n 'see': 73,\n 'ranged': 74,\n 'from': 75,\n 'exchange': 76,\n 'should': 77,\n 'begin': 78,\n 'different': 79,\n 'go': 80,\n \"i'm\": 81,\n 'health': 82,\n 'up': 83,\n 'keep': 84,\n \"it's\": 85,\n 'against': 86,\n 'describe': 87,\n 'search': 88,\n 'make': 89,\n 'more': 90,\n 'through': 91,\n 'focus': 92,\n 'become': 93,\n 'battle': 94,\n 'way': 95,\n 'pick': 96,\n 'help': 97,\n 'equipment': 98,\n 'during': 99,\n 'into': 100,\n 'attack': 101,\n 'could': 102,\n \"what's\": 103,\n 'anything': 104,\n 'first': 105,\n 'out': 106,\n 'us': 107,\n 'now': 108,\n 'share': 109,\n 'tactics': 110,\n 'interested': 111,\n 'them': 112,\n 'aid': 113,\n 'while': 114,\n 'open': 115,\n 'if': 116,\n 'stay': 117,\n 'find': 118,\n 'approach': 119,\n 'both': 120,\n 'ready': 121,\n 'most': 122,\n 'learn': 123,\n 'chest': 124,\n 'give': 125,\n 'hacking': 126,\n 'potential': 127,\n 'as': 128,\n 'practicing': 129,\n 'kit': 130,\n 'quest': 131,\n 'who': 132,\n 'inventory': 133,\n 'at': 134,\n 'life': 135,\n 'had': 136,\n 'better': 137,\n 'has': 138,\n 'look': 139,\n \"we're\": 140,\n 'bow': 141,\n 'items': 142,\n 'explore': 143,\n 'there': 144,\n 'nearby': 145,\n 'right': 146,\n 'recommend': 147,\n 'trade': 148,\n 'used': 149,\n 'best': 150,\n 'grab': 151,\n 'other': 152,\n 'learning': 153,\n 'door': 154,\n 'please': 155,\n 'where': 156,\n 'distance': 157,\n 'heal': 158,\n 'down': 159,\n 'self': 160,\n 'abilities': 161,\n 'enemies': 162,\n 'yourself': 163,\n 'effectively': 164,\n 'team': 165,\n 'purpose': 166,\n 'led': 167,\n 'today': 168,\n 'not': 169,\n 'effective': 170,\n 'new': 171,\n 'potions': 172,\n 'essence': 173,\n 'together': 174,\n 'shoot': 175,\n 'show': 176,\n 'using': 177,\n 'healing': 178,\n 'journey': 179,\n 'thoughts': 180,\n 'attacks': 181,\n 'ways': 182,\n 'try': 183,\n 'kind': 184,\n 'all': 185,\n 'hack': 186,\n 'project': 187,\n 'strength': 188,\n 'successfully': 189,\n 'types': 190,\n 'technique': 191,\n 'enemy': 192,\n 'suggest': 193,\n 'let': 194,\n 'weapons': 195,\n 'full': 196,\n 'objective': 197,\n 'good': 198,\n 'did': 199,\n 'personal': 200,\n 'impacted': 201,\n 'remind': 202,\n 'opponent': 203,\n 'people': 204,\n 'know': 205,\n 'story': 206,\n 'working': 207,\n 'hand': 208,\n 'goal': 209,\n 'before': 210,\n 'balance': 211,\n 'important': 212,\n 'avoid': 213,\n 'ensure': 214,\n 'engage': 215,\n 'treatment': 216,\n 'shall': 217,\n 'exchanging': 218,\n 'aim': 219,\n 'territory': 220,\n 'moves': 221,\n 'will': 222,\n 'others': 223,\n 'no': 224,\n 'session': 225,\n 'things': 226,\n 'survey': 227,\n 'does': 228,\n 'break': 229,\n 'check': 230,\n 'difficult': 231,\n 'role': 232,\n 'its': 233,\n 'around': 234,\n 'importance': 235,\n 'moments': 236,\n 'develop': 237,\n 'swap': 238,\n 'advantage': 239,\n 'situation': 240,\n 'strike': 241,\n 'their': 242,\n 'trying': 243,\n 'achieve': 244,\n 'problem': 245,\n 'art': 246,\n 'those': 247,\n 'one': 248,\n 'ever': 249,\n 'style': 250,\n 'footwork': 251,\n 'power': 252,\n 'sense': 253,\n 'put': 254,\n 'pursue': 255,\n \"lock's\": 256,\n 'speed': 257,\n 'until': 258,\n 'long': 259,\n 'useful': 260,\n 'master': 261,\n 'natural': 262,\n 'goals': 263,\n 'off': 264,\n 'by': 265,\n 'moment': 266,\n 'hone': 267,\n 'resource': 268,\n 'range': 269,\n 'potion': 270,\n 'each': 271,\n \"can't\": 272,\n 'sure': 273,\n 'deal': 274,\n 'safe': 275,\n 'sharpen': 276,\n 'shooting': 277,\n 'test': 278,\n \"i'd\": 279,\n 'drills': 280,\n 'defense': 281,\n 'key': 282,\n 'routine': 283,\n 'create': 284,\n 'am': 285,\n 'next': 286,\n 'provide': 287,\n 'professional': 288,\n 'promote': 289,\n 'friendly': 290,\n 'skilled': 291,\n 'exist': 292,\n 'low': 293,\n \"opponent's\": 294,\n 'feel': 295,\n 'apply': 296,\n 'exercises': 297,\n 'challenges': 298,\n 'gear': 299,\n 'focused': 300,\n 'longer': 301,\n \"you've\": 302,\n 'taught': 303,\n 'advice': 304,\n 'mental': 305,\n 'growth': 306,\n 'something': 307,\n 'going': 308,\n 'discuss': 309,\n 'progress': 310,\n 'eye': 311,\n 'end': 312,\n 'body': 313,\n 'endurance': 314,\n 'values': 315,\n 'level': 316,\n 'fighters': 317,\n 'success': 318,\n \"mission's\": 319,\n 'common': 320,\n 'incorporate': 321,\n 'change': 322,\n 'might': 323,\n 'strikes': 324,\n 'risks': 325,\n 'willing': 326,\n 'felt': 327,\n 'unique': 328,\n 'back': 329,\n 'beliefs': 330,\n 'feedback': 331,\n 'accuracy': 332,\n 'workplace': 333,\n 'mind': 334,\n 'understanding': 335,\n 'handle': 336,\n 'strategy': 337,\n 'looking': 338,\n 'hidden': 339,\n 'strategies': 340,\n 'tools': 341,\n 'significant': 342,\n 'swords': 343,\n 'little': 344,\n 'prioritize': 345,\n 'tips': 346,\n 'overcome': 347,\n 'facing': 348,\n 'history': 349,\n 'main': 350,\n 'cut': 351,\n 'force': 352,\n 'signs': 353,\n 'conflict': 354,\n 'someone': 355,\n 'unlock': 356,\n 'sharing': 357,\n 'access': 358,\n 'quickly': 359,\n 'high': 360,\n 'perfect': 361,\n 'experiences': 362,\n 'side': 363,\n 'arrows': 364,\n 'steps': 365,\n 'behind': 366,\n 'build': 367,\n 'value': 368,\n 'set': 369,\n 'career': 370,\n 'bypass': 371,\n 'security': 372,\n 'specific': 373,\n 'made': 374,\n 'chance': 375,\n 'waste': 376,\n 'ground': 377,\n 'towards': 378,\n 'getting': 379,\n 'follow': 380,\n 'challenge': 381,\n 'hard': 382,\n 'move': 383,\n 'views': 384,\n 'workout': 385,\n 'partner': 386,\n 'every': 387,\n 'obstacles': 388,\n 'left': 389,\n 'experience': 390,\n 'match': 391,\n 'manage': 392,\n 'own': 393,\n 'mistakes': 394,\n 'valuable': 395,\n 'opponents': 396,\n 'win': 397,\n 'accomplish': 398,\n 'shaped': 399,\n 'but': 400,\n 'incorporating': 401,\n 'axes': 402,\n 'may': 403,\n 'prepare': 404,\n \"there's\": 405,\n 'taking': 406,\n 'management': 407,\n 'finding': 408,\n 'precision': 409,\n 'starting': 410,\n 'benefit': 411,\n 'barter': 412,\n 'knowledge': 413,\n 'areas': 414,\n 'building': 415,\n 'decision': 416,\n 'issue': 417,\n \"world's\": 418,\n 'impact': 419,\n 'agility': 420,\n 'form': 421,\n 'fighter': 422,\n 'performance': 423,\n 'improving': 424,\n 'resilience': 425,\n 'target': 426,\n 'development': 427,\n 'skill': 428,\n \"you're\": 429,\n 'requires': 430,\n 'motivated': 431,\n 'swings': 432,\n 'tasks': 433,\n 'serious': 434,\n 'game': 435,\n 'hit': 436,\n 'communication': 437,\n 'were': 438,\n 'support': 439,\n 'fitness': 440,\n 'relationships': 441,\n 'attention': 442,\n 'possible': 443,\n 'system': 444,\n 'well': 445,\n 'positive': 446,\n 'since': 447,\n 'beautiful': 448,\n 'without': 449,\n \"enemy's\": 450,\n 'between': 451,\n 'benefits': 452,\n 'multiple': 453,\n 'join': 454,\n 'process': 455,\n 'forms': 456,\n 'so': 457,\n 'grappling': 458,\n 'completion': 459,\n 'too': 460,\n 'famous': 461,\n 'clear': 462,\n 'face': 463,\n 'plan': 464,\n 'cover': 465,\n 'inside': 466,\n 'only': 467,\n 'leadership': 468,\n 'gain': 469,\n 'finish': 470,\n 'track': 471,\n 'creativity': 472,\n 'increase': 473,\n 'swordplay': 474,\n 'ability': 475,\n 'afar': 476,\n 'come': 477,\n 'great': 478,\n 'coordination': 479,\n 'after': 480,\n 'maces': 481,\n 'perseverance': 482,\n 'expected': 483,\n 'complex': 484,\n 'efficiently': 485,\n 'involved': 486,\n 'swordsmanship': 487,\n 'advanced': 488,\n 'push': 489,\n 'everything': 490,\n 'future': 491,\n 'overall': 492,\n 'exploration': 493,\n 'environment': 494,\n 'needed': 495,\n 'wonders': 496,\n 'wait': 497,\n 'discover': 498,\n 'unexpected': 499,\n 'environmental': 500,\n 'pain': 501,\n 'intense': 502,\n 'diversity': 503,\n 'angles': 504,\n 'objectives': 505,\n 'opportunities': 506,\n 'surprise': 507,\n 'competition': 508,\n 'bring': 509,\n 'eyes': 510,\n 'strengths': 511,\n 'striking': 512,\n 'social': 513,\n 'been': 514,\n 'waiting': 515,\n 'dreams': 516,\n 'issues': 517,\n 'away': 518,\n 'crack': 519,\n 'hesitate': 520,\n 'recover': 521,\n 'sources': 522,\n 'quality': 523,\n 'worth': 524,\n 'myself': 525,\n 'require': 526,\n 'teamwork': 527,\n 'completed': 528,\n 'overcoming': 529,\n 'outcome': 530,\n 'cultures': 531,\n 'continuous': 532,\n 'materials': 533,\n 'customer': 534,\n 'tension': 535,\n 'injuries': 536,\n 'feeling': 537,\n 'challenging': 538,\n 'making': 539,\n 'culture': 540,\n 'thoroughly': 541,\n 'pry': 542,\n 'much': 543,\n 'inspired': 544,\n 'basic': 545,\n \"won't\": 546,\n 'path': 547,\n 'walk': 548,\n 'managing': 549,\n 'ourselves': 550,\n 'warm': 551,\n 'expectations': 552,\n 'aspirations': 553,\n 'necessary': 554,\n 'spar': 555,\n 'was': 556,\n 'terrain': 557,\n 'ultimate': 558,\n 'day': 559,\n 'combinations': 560,\n 'pressure': 561,\n 'care': 562,\n 'solving': 563,\n 'consider': 564,\n 'afraid': 565,\n 'learned': 566,\n 'meaning': 567,\n 'successful': 568,\n 'essential': 569,\n 'risk': 570,\n 'passions': 571,\n 'quick': 572,\n 'within': 573,\n 'attacking': 574,\n 'home': 575,\n 'blocking': 576,\n 'miss': 577,\n 'punching': 578,\n 'constantly': 579,\n 'even': 580,\n 'innovation': 581,\n 'priority': 582,\n 'defensive': 583,\n 'education': 584,\n 'boxing': 585,\n 'fire': 586,\n 'technology': 587,\n 'fists': 588,\n 'heart': 589,\n 'overlook': 590,\n 'drill': 591,\n 'light': 592,\n 'currently': 593,\n 'improvement': 594,\n 'reaction': 595,\n 'primary': 596,\n 'beauty': 597,\n 'else': 598,\n 'lookout': 599,\n 'weaknesses': 600,\n 'spare': 601,\n 'timing': 602,\n 'surroundings': 603,\n 'warrior': 604,\n 'proficient': 605,\n 'delay': 606,\n 'reflexes': 607,\n 'tool': 608,\n 'navigate': 609,\n 'human': 610,\n 'assignment': 611,\n 'part': 612,\n 'point': 613,\n 'martial': 614,\n 'managed': 615,\n 'courage': 616,\n 'meet': 617,\n 'started': 618,\n 'makes': 619,\n 'tried': 620,\n 'deep': 621,\n 'reach': 622,\n 'goods': 623,\n 'counter': 624,\n 'discovery': 625,\n 'note': 626,\n 'core': 627,\n 'service': 628,\n 'needs': 629,\n 'wonder': 630,\n 'talk': 631,\n 'hold': 632,\n 'immediately': 633,\n 'water': 634,\n 'authenticity': 635,\n 'inequality': 636,\n 'maintaining': 637,\n 'forget': 638,\n 'stress': 639,\n 'community': 640,\n 'posture': 641,\n 'experts': 642,\n 'supposed': 643,\n 'result': 644,\n 'hammer': 645,\n 'defeat': 646,\n 'injury': 647,\n 'true': 648,\n 'protect': 649,\n \"life's\": 650,\n 'doing': 651,\n 'measure': 652,\n 'information': 653,\n 'organization': 654,\n 'confidence': 655,\n 'joy': 656,\n 'critical': 657,\n 'factors': 658,\n 'food': 659,\n 'solve': 660,\n 'qualities': 661,\n 'than': 662,\n 'metal': 663,\n 'lessons': 664,\n 'small': 665,\n 'damage': 666,\n 'recommended': 667,\n 'many': 668,\n 'manageable': 669,\n 'captures': 670,\n 'responsibility': 671,\n 'cultivate': 672,\n 'action': 673,\n 'achieving': 674,\n 'cultural': 675,\n 'gym': 676,\n 'utilize': 677,\n 'idea': 678,\n 'trained': 679,\n 'smaller': 680,\n 'add': 681,\n 'consequences': 682,\n \"that's\": 683,\n 'maintain': 684,\n 'decisions': 685,\n 'magic': 686,\n 'able': 687,\n 'group': 688,\n 'being': 689,\n 'stamina': 690,\n 'resolution': 691,\n 'physical': 692,\n 'noticed': 693,\n 'improvements': 694,\n 'diverse': 695,\n 'embrace': 696,\n 'catch': 697,\n 'curious': 698,\n 'practices': 699,\n 'mutual': 700,\n 'mock': 701,\n 'investigate': 702,\n 'over': 703,\n 'bit': 704,\n 'local': 705,\n 'program': 706,\n 'remember': 707,\n 'details': 708,\n 'regimen': 709,\n 'heavy': 710,\n 'possessions': 711,\n 'yours': 712,\n 'requirements': 713,\n 'cutter': 714,\n 'arts': 715,\n \"we'll\": 716,\n 'passion': 717,\n 'statement': 718,\n 'step': 719,\n 'just': 720,\n 'properly': 721,\n 'engaging': 722,\n 'battles': 723,\n 'summary': 724,\n 'initiative': 725,\n 'competing': 726,\n 'timeline': 727,\n 'faster': 728,\n 'wrench': 729,\n 'tested': 730,\n 'determination': 731,\n 'breathing': 732,\n 'concise': 733,\n 'pursuing': 734,\n 'member': 735,\n 'medical': 736,\n 'bay': 737,\n 'situations': 738,\n 'confident': 739,\n 'careful': 740,\n 'weather': 741,\n 'seek': 742,\n 'expertise': 743,\n 'under': 744,\n 'proper': 745,\n 'head': 746,\n 'spend': 747,\n 'condition': 748,\n 'transportation': 749,\n 'moving': 750,\n 'difference': 751,\n 'draw': 752,\n 'energy': 753,\n 'unleash': 754,\n 'times': 755,\n 'peeled': 756,\n 'enhance': 757,\n 'shot': 758,\n 'political': 759,\n 'lead': 760,\n 'changes': 761,\n 'encounter': 762,\n 'vision': 763,\n 'undertaking': 764,\n 'direction': 765,\n 'calm': 766,\n 'they': 767,\n 'offer': 768,\n 'momentum': 769,\n 'peace': 770,\n 'got': 771,\n 'arrow': 772,\n 'demand': 773,\n 'explanation': 774,\n 'parts': 775,\n 'environments': 776,\n 'explain': 777,\n 'efficient': 778,\n 'wooden': 779,\n 'influenced': 780,\n 'distractions': 781,\n 'ask': 782,\n 'negative': 783,\n 'deadline': 784,\n 'practiced': 785,\n 'breaks': 786,\n 'weapon': 787,\n 'equal': 788,\n 'effort': 789,\n 'thorough': 790,\n 'conditions': 791,\n 'wielding': 792,\n 'strategic': 793,\n 'oceans': 794,\n 'trust': 795,\n 'outside': 796,\n 'starts': 797,\n 'picking': 798,\n 'activity': 799,\n 'empathy': 800,\n 'rest': 801,\n 'treasures': 802,\n 'similar': 803,\n 'grow': 804,\n 'communicate': 805,\n 'expert': 806,\n 'product': 807,\n 'happen': 808,\n 'styles': 809,\n 'crucial': 810,\n 'sports': 811,\n 'doubt': 812,\n 'hazards': 813,\n 'grip': 814,\n 'inclusion': 815,\n 'final': 816,\n 'visualization': 817,\n 'traps': 818,\n 'mastering': 819,\n 'emotional': 820,\n 'victory': 821,\n 'combination': 822,\n 'milestones': 823,\n 'advertising': 824,\n 'approached': 825,\n 'desired': 826,\n 'methods': 827,\n 'media': 828,\n 'strong': 829,\n 'gloves': 830,\n 'associated': 831,\n 'events': 832,\n 'turn': 833,\n 'mysteries': 834,\n 'movements': 835,\n 'anticipate': 836,\n 'powerful': 837,\n 'adversity': 838,\n 'mastery': 839,\n 'stand': 840,\n 'visit': 841,\n 'handling': 842,\n 'fear': 843,\n 'toughness': 844,\n 'experiencing': 845,\n 'switch': 846,\n \"who's\": 847,\n 'vulnerability': 848,\n 'zone': 849,\n 'cool': 850,\n 'prevent': 851,\n 'alert': 852,\n 'adaptability': 853,\n 'weak': 854,\n 'aiming': 855,\n 'saw': 856,\n 'stances': 857,\n 'short': 858,\n 'punches': 859,\n 'unstoppable': 860,\n 'present': 861,\n 'maneuvers': 862,\n 'discrimination': 863,\n 'forward': 864,\n 'guidance': 865,\n 'park': 866,\n 'field': 867,\n 'method': 868,\n 'control': 869,\n 'music': 870,\n 'job': 871,\n 'perspective': 872,\n 'pay': 873,\n 'nook': 874,\n 'cranny': 875,\n 'setting': 876,\n 'vast': 877,\n 'scene': 878,\n 'rewards': 879,\n 'meeting': 880,\n 'various': 881,\n 'constant': 882,\n 'allies': 883,\n 'intuition': 884,\n 'bare': 885,\n 'fly': 886,\n 'experienced': 887,\n 'top': 888,\n 'warriors': 889,\n 'survival': 890,\n 'meditation': 891,\n 'boss': 892,\n 'defend': 893,\n 'partners': 894,\n 'achievement': 895,\n 'blow': 896,\n 'wield': 897,\n 'study': 898,\n 'hands': 899,\n 'helpful': 900,\n 'wildlife': 901,\n 'hope': 902,\n 'prefer': 903,\n 'systems': 904,\n 'fulfillment': 905,\n 'climate': 906,\n 'attitude': 907,\n 'conditioning': 908,\n 'creative': 909,\n 'scan': 910,\n 'which': 911,\n 'hook': 912,\n 'offensive': 913,\n 'inner': 914,\n 'aligns': 915,\n 'bar': 916,\n \"i'll\": 917,\n 'efforts': 918,\n 'regular': 919,\n 'faced': 920,\n 'throughout': 921,\n 'love': 922,\n 'adapt': 923,\n 'affect': 924,\n 'analyze': 925,\n 'clues': 926,\n 'position': 927,\n 'bump': 928,\n 'secrets': 929,\n 'opportunity': 930,\n 'smart': 931,\n 'quarters': 932,\n \"i've\": 933,\n 'street': 934,\n 'reason': 935,\n 'restore': 936,\n 'state': 937,\n 'responsibilities': 938,\n 'negotiate': 939,\n 'transformation': 940,\n 'thing': 941,\n 'compassion': 942,\n 'brief': 943,\n 'special': 944,\n 'aggressive': 945,\n 'cardio': 946,\n 'setbacks': 947,\n 'foster': 948,\n 'initiate': 949,\n 'save': 950,\n 'location': 951,\n \"quest's\": 952,\n 'throwing': 953,\n 'carefully': 954,\n 'kicks': 955,\n 'inch': 956,\n 'nature': 957,\n 'historical': 958,\n 'awareness': 959,\n 'popular': 960,\n 'animals': 961,\n 'bravery': 962,\n 'warfare': 963,\n 'worked': 964,\n 'beyond': 965,\n 'leave': 966,\n 'rights': 967,\n 'normal': 968,\n 'objects': 969,\n 'driving': 970,\n 'past': 971,\n 'stage': 972,\n 'spell': 973,\n 'shelter': 974,\n 'aspect': 975,\n 'major': 976,\n 'economic': 977,\n 'unbeatable': 978,\n 'animal': 979,\n 'principles': 980,\n 'belongings': 981,\n 'order': 982,\n 'particular': 983,\n 'mountains': 984,\n 'defending': 985,\n 'challenged': 986,\n 'helped': 987,\n 'collaboration': 988,\n 'two': 989,\n 'respect': 990,\n 'intensity': 991,\n 'sessions': 992,\n 'points': 993,\n 'here': 994,\n 'vicinity': 995,\n 'winning': 996,\n 'heavily': 997,\n 'ahead': 998,\n 'poverty': 999,\n 'comfort': 1000,\n ...}"
     },
     "execution_count": 48,
     "metadata": {},
     "output_type": "execute_result"
    }
   ],
   "source": [
    "tokenizer.word_index"
   ],
   "metadata": {
    "collapsed": false,
    "ExecuteTime": {
     "start_time": "2023-04-16T12:29:35.400047Z",
     "end_time": "2023-04-16T12:29:35.545058Z"
    }
   }
  },
  {
   "cell_type": "code",
   "execution_count": 49,
   "outputs": [],
   "source": [
    "sequences = tokenizer.texts_to_sequences(actions)"
   ],
   "metadata": {
    "collapsed": false,
    "ExecuteTime": {
     "start_time": "2023-04-16T12:29:35.465055Z",
     "end_time": "2023-04-16T12:29:35.648064Z"
    }
   }
  },
  {
   "cell_type": "code",
   "execution_count": 50,
   "outputs": [
    {
     "name": "stdout",
     "output_type": "stream",
     "text": [
      "We should incorporate sparring into our fist fight training.\n",
      "[25, 77, 321, 72, 100, 12, 45, 32, 20]\n"
     ]
    }
   ],
   "source": [
    "index = 1\n",
    "print(actions[index])\n",
    "print(sequences[index])"
   ],
   "metadata": {
    "collapsed": false,
    "ExecuteTime": {
     "start_time": "2023-04-16T12:29:35.626065Z",
     "end_time": "2023-04-16T12:29:35.659066Z"
    }
   }
  },
  {
   "cell_type": "code",
   "execution_count": 51,
   "outputs": [],
   "source": [
    "x_train = pad_sequences(sequences, maxlen=max_news_len)"
   ],
   "metadata": {
    "collapsed": false,
    "ExecuteTime": {
     "start_time": "2023-04-16T12:29:35.639067Z",
     "end_time": "2023-04-16T12:29:35.728070Z"
    }
   }
  },
  {
   "cell_type": "code",
   "execution_count": 52,
   "outputs": [
    {
     "data": {
      "text/plain": "array([[   0,    0,    0,    0,    0,    0,    0,    0,    0,    0,    0,\n           0,    0,    0,    0,    0,    0,    0,    0,    0,    0,    0,\n           0,    0,  279,   57,    1,  205,   90,   24,    6, 1375,   46,\n           8,    3,   41,   18,   24,    5,   33,   55,    3,  164, 1376,\n          13,  355,   75,    5,   79, 1033],\n       [   0,    0,    0,    0,    0,    0,    0,    0,    0,    0,    0,\n           0,    0,    0,    0,    0,    0,    0,    0,    0,    0,    0,\n           0,    0,    0,    0,    0,    0,    0,    0,    0,    0,    0,\n           0,    0,    0,    0,    0,    0,    0,    0,   25,   77,  321,\n          72,  100,   12,   45,   32,   20],\n       [   0,    0,    0,    0,    0,    0,    0,    0,    0,    0,    0,\n           0,    0,    0,    0,    0,    0,    0,    0,    0,    0,    0,\n           0,    0,    0,    0,    0,    0,    0,    0,    0,    0,    0,\n           0,    0,    0,    0,    0,    0,    0,    0,   10,   19,    2,\n         312,  209,    7,   12,   42,   48],\n       [   0,    0,    0,    0,    0,    0,    0,    0,    0,    0,    0,\n           0,    0,    0,    0,    0,    0,    0,    0,    0,    0,    0,\n           0,    0,    0,    0,    0,    0,    0,    0,    0,    0,    0,\n           0,    0,    0,    0,    0,    0,    0,    0,    0,    0,    8,\n           3,  155,   37,    6,  178, 1698],\n       [   0,    0,    0,    0,    0,    0,    0,    0,    0,    0,    0,\n           0,    0,    0,    0,    0,    0,    0,    0,    0,    0,    0,\n           0,    0,    0,    0,    0,    0,    0,    0,    0,    0,    0,\n           0,    0,    0,    0,    0,    0,    0,    0,    0,   25,   77,\n         747,   26,   33,   20,   13,  343]])"
     },
     "execution_count": 52,
     "metadata": {},
     "output_type": "execute_result"
    }
   ],
   "source": [
    "x_train[:5]"
   ],
   "metadata": {
    "collapsed": false,
    "ExecuteTime": {
     "start_time": "2023-04-16T12:29:35.708072Z",
     "end_time": "2023-04-16T12:29:35.753074Z"
    }
   }
  },
  {
   "cell_type": "code",
   "execution_count": 113,
   "outputs": [],
   "source": [
    "model_cnn = Sequential()\n",
    "model_cnn.add(Embedding(num_words, 32, input_length=max_news_len))\n",
    "model_cnn.add(Conv1D(250, 5, padding='valid', activation='relu'))\n",
    "model_cnn.add(GlobalMaxPooling1D())\n",
    "model_cnn.add(Dense(128, activation='relu'))\n",
    "model_cnn.add(Dense(15, activation='softmax'))"
   ],
   "metadata": {
    "collapsed": false,
    "ExecuteTime": {
     "start_time": "2023-04-16T13:23:07.083319Z",
     "end_time": "2023-04-16T13:23:07.829372Z"
    }
   }
  },
  {
   "cell_type": "code",
   "execution_count": 54,
   "outputs": [],
   "source": [
    "model_cnn.compile(optimizer='adam',\n",
    "                  loss='categorical_crossentropy',\n",
    "                  metrics=['accuracy'])"
   ],
   "metadata": {
    "collapsed": false,
    "ExecuteTime": {
     "start_time": "2023-04-16T12:29:35.862082Z",
     "end_time": "2023-04-16T12:29:35.916085Z"
    }
   }
  },
  {
   "cell_type": "code",
   "execution_count": 55,
   "outputs": [
    {
     "name": "stdout",
     "output_type": "stream",
     "text": [
      "Model: \"sequential_2\"\n",
      "_________________________________________________________________\n",
      " Layer (type)                Output Shape              Param #   \n",
      "=================================================================\n",
      " embedding_2 (Embedding)     (None, 50, 32)            160000    \n",
      "                                                                 \n",
      " conv1d_2 (Conv1D)           (None, 46, 250)           40250     \n",
      "                                                                 \n",
      " global_max_pooling1d_2 (Glo  (None, 250)              0         \n",
      " balMaxPooling1D)                                                \n",
      "                                                                 \n",
      " dense_4 (Dense)             (None, 128)               32128     \n",
      "                                                                 \n",
      " dense_5 (Dense)             (None, 15)                1935      \n",
      "                                                                 \n",
      "=================================================================\n",
      "Total params: 234,313\n",
      "Trainable params: 234,313\n",
      "Non-trainable params: 0\n",
      "_________________________________________________________________\n"
     ]
    }
   ],
   "source": [
    "model_cnn.summary()"
   ],
   "metadata": {
    "collapsed": false,
    "ExecuteTime": {
     "start_time": "2023-04-16T12:29:35.895085Z",
     "end_time": "2023-04-16T12:29:35.935088Z"
    }
   }
  },
  {
   "cell_type": "code",
   "execution_count": 56,
   "outputs": [],
   "source": [
    "model_cnn_save_path = 'best_model_cnn.h5'\n",
    "checkpoint_callback_cnn = ModelCheckpoint(model_cnn_save_path,\n",
    "                                          monitor='val_accuracy',\n",
    "                                          save_best_only=True,\n",
    "                                          verbose=1)"
   ],
   "metadata": {
    "collapsed": false,
    "ExecuteTime": {
     "start_time": "2023-04-16T12:29:35.025020Z",
     "end_time": "2023-04-16T12:29:35.943089Z"
    }
   }
  },
  {
   "cell_type": "code",
   "execution_count": 57,
   "outputs": [
    {
     "name": "stdout",
     "output_type": "stream",
     "text": [
      "Epoch 1/5\n",
      "49/50 [============================>.] - ETA: 0s - loss: 2.5164 - accuracy: 0.2468\n",
      "Epoch 1: val_accuracy improved from -inf to 0.44334, saving model to best_model_cnn.h5\n",
      "50/50 [==============================] - 4s 48ms/step - loss: 2.5103 - accuracy: 0.2500 - val_loss: 1.9623 - val_accuracy: 0.4433\n",
      "Epoch 2/5\n",
      "49/50 [============================>.] - ETA: 0s - loss: 1.0004 - accuracy: 0.7918\n",
      "Epoch 2: val_accuracy improved from 0.44334 to 0.92776, saving model to best_model_cnn.h5\n",
      "50/50 [==============================] - 2s 39ms/step - loss: 0.9930 - accuracy: 0.7931 - val_loss: 0.3434 - val_accuracy: 0.9278\n",
      "Epoch 3/5\n",
      "49/50 [============================>.] - ETA: 0s - loss: 0.1545 - accuracy: 0.9708\n",
      "Epoch 3: val_accuracy improved from 0.92776 to 0.96884, saving model to best_model_cnn.h5\n",
      "50/50 [==============================] - 2s 36ms/step - loss: 0.1535 - accuracy: 0.9708 - val_loss: 0.1214 - val_accuracy: 0.9688\n",
      "Epoch 4/5\n",
      "49/50 [============================>.] - ETA: 0s - loss: 0.0469 - accuracy: 0.9927\n",
      "Epoch 4: val_accuracy improved from 0.96884 to 0.97734, saving model to best_model_cnn.h5\n",
      "50/50 [==============================] - 2s 36ms/step - loss: 0.0468 - accuracy: 0.9926 - val_loss: 0.0824 - val_accuracy: 0.9773\n",
      "Epoch 5/5\n",
      "49/50 [============================>.] - ETA: 0s - loss: 0.0213 - accuracy: 0.9978\n",
      "Epoch 5: val_accuracy improved from 0.97734 to 0.97875, saving model to best_model_cnn.h5\n",
      "50/50 [==============================] - 2s 38ms/step - loss: 0.0212 - accuracy: 0.9978 - val_loss: 0.0695 - val_accuracy: 0.9788\n"
     ]
    }
   ],
   "source": [
    "history_cnn = model_cnn.fit(x_train,\n",
    "                            y_train,\n",
    "                            epochs=5,\n",
    "                            batch_size=128,\n",
    "                            validation_split=0.1,\n",
    "                            callbacks=[checkpoint_callback_cnn])"
   ],
   "metadata": {
    "collapsed": false,
    "ExecuteTime": {
     "start_time": "2023-04-16T12:29:35.951088Z",
     "end_time": "2023-04-16T12:29:47.766671Z"
    }
   }
  },
  {
   "cell_type": "code",
   "execution_count": 58,
   "outputs": [
    {
     "data": {
      "text/plain": "<Figure size 640x480 with 1 Axes>",
      "image/png": "[encoded data removed]"
     },
     "metadata": {},
     "output_type": "display_data"
    }
   ],
   "source": [
    "plt.plot(history_cnn.history['accuracy'],\n",
    "         label='Доля верных ответов на обучающем наборе')\n",
    "plt.plot(history_cnn.history['val_accuracy'],\n",
    "         label='Доля верных ответов на проверочном наборе')\n",
    "plt.xlabel('Эпоха обучения')\n",
    "plt.ylabel('Доля верных ответов')\n",
    "plt.legend()\n",
    "plt.show()"
   ],
   "metadata": {
    "collapsed": false,
    "ExecuteTime": {
     "start_time": "2023-04-16T12:29:47.771673Z",
     "end_time": "2023-04-16T12:29:48.525729Z"
    }
   }
  },
  {
   "cell_type": "code",
   "execution_count": 59,
   "outputs": [],
   "source": [
    "model_cnn.load_weights(model_cnn_save_path)"
   ],
   "metadata": {
    "collapsed": false,
    "ExecuteTime": {
     "start_time": "2023-04-16T12:29:48.528731Z",
     "end_time": "2023-04-16T12:29:48.637740Z"
    }
   }
  },
  {
   "cell_type": "code",
   "execution_count": 108,
   "outputs": [],
   "source": [
    "text = \"Can you open this door?\""
   ],
   "metadata": {
    "collapsed": false,
    "ExecuteTime": {
     "start_time": "2023-04-16T12:44:19.698832Z",
     "end_time": "2023-04-16T12:44:19.737831Z"
    }
   }
  },
  {
   "cell_type": "code",
   "execution_count": 109,
   "outputs": [],
   "source": [
    "sequence = tokenizer.texts_to_sequences([text])"
   ],
   "metadata": {
    "collapsed": false,
    "ExecuteTime": {
     "start_time": "2023-04-16T12:44:19.903355Z",
     "end_time": "2023-04-16T12:44:19.950355Z"
    }
   }
  },
  {
   "cell_type": "code",
   "execution_count": 110,
   "outputs": [],
   "source": [
    "data = pad_sequences(sequence, maxlen=max_news_len)"
   ],
   "metadata": {
    "collapsed": false,
    "ExecuteTime": {
     "start_time": "2023-04-16T12:44:20.087369Z",
     "end_time": "2023-04-16T12:44:20.127369Z"
    }
   }
  },
  {
   "cell_type": "code",
   "execution_count": 111,
   "outputs": [
    {
     "name": "stdout",
     "output_type": "stream",
     "text": [
      "1/1 [==============================] - 0s 42ms/step\n"
     ]
    }
   ],
   "source": [
    "result = model_cnn.predict(data)"
   ],
   "metadata": {
    "collapsed": false,
    "ExecuteTime": {
     "start_time": "2023-04-16T12:44:20.308385Z",
     "end_time": "2023-04-16T12:44:20.448394Z"
    }
   }
  },
  {
   "cell_type": "code",
   "execution_count": 112,
   "outputs": [
    {
     "data": {
      "text/plain": "14"
     },
     "execution_count": 112,
     "metadata": {},
     "output_type": "execute_result"
    }
   ],
   "source": [
    "np.argmax(result) + 1"
   ],
   "metadata": {
    "collapsed": false,
    "ExecuteTime": {
     "start_time": "2023-04-16T12:44:20.782430Z",
     "end_time": "2023-04-16T12:44:20.806431Z"
    }
   }
  },
  {
   "cell_type": "code",
   "execution_count": 65,
   "outputs": [],
   "source": [
    "test = pd.read_csv('actionsNPCDataSet/actionsTest.csv',\n",
    "                    header=None,\n",
    "                    names=['class', 'text'])"
   ],
   "metadata": {
    "collapsed": false,
    "ExecuteTime": {
     "start_time": "2023-04-16T12:29:49.512321Z",
     "end_time": "2023-04-16T12:29:49.572325Z"
    }
   }
  },
  {
   "cell_type": "code",
   "execution_count": 66,
   "outputs": [],
   "source": [
    "actionsTest = test['text']"
   ],
   "metadata": {
    "collapsed": false,
    "ExecuteTime": {
     "start_time": "2023-04-16T12:29:49.545327Z",
     "end_time": "2023-04-16T12:29:49.572325Z"
    }
   }
  },
  {
   "cell_type": "code",
   "execution_count": 67,
   "outputs": [],
   "source": [
    "testSequences = tokenizer.texts_to_sequences(actionsTest)"
   ],
   "metadata": {
    "collapsed": false,
    "ExecuteTime": {
     "start_time": "2023-04-16T12:29:49.561325Z",
     "end_time": "2023-04-16T12:29:49.633331Z"
    }
   }
  },
  {
   "cell_type": "code",
   "execution_count": 68,
   "outputs": [],
   "source": [
    "x_test = pad_sequences(testSequences, maxlen=max_news_len)"
   ],
   "metadata": {
    "collapsed": false,
    "ExecuteTime": {
     "start_time": "2023-04-16T12:29:49.606329Z",
     "end_time": "2023-04-16T12:29:49.649333Z"
    }
   }
  },
  {
   "cell_type": "code",
   "execution_count": 69,
   "outputs": [],
   "source": [
    "y_test= utils.to_categorical(test['class'] - 1, nb_classes)"
   ],
   "metadata": {
    "collapsed": false,
    "ExecuteTime": {
     "start_time": "2023-04-16T12:29:49.639332Z",
     "end_time": "2023-04-16T12:29:49.654335Z"
    }
   }
  },
  {
   "cell_type": "code",
   "execution_count": 70,
   "outputs": [
    {
     "name": "stdout",
     "output_type": "stream",
     "text": [
      "44/44 [==============================] - 0s 6ms/step - loss: 0.0620 - accuracy: 0.9886\n"
     ]
    },
    {
     "data": {
      "text/plain": "[0.061995163559913635, 0.9885714054107666]"
     },
     "execution_count": 70,
     "metadata": {},
     "output_type": "execute_result"
    }
   ],
   "source": [
    "model_cnn.evaluate(x_test, y_test, verbose=1)"
   ],
   "metadata": {
    "collapsed": false,
    "ExecuteTime": {
     "start_time": "2023-04-16T12:29:49.656334Z",
     "end_time": "2023-04-16T12:29:50.067395Z"
    }
   }
  }
 ],
 "metadata": {
  "kernelspec": {
   "display_name": "Python 3",
   "language": "python",
   "name": "python3"
  },
  "language_info": {
   "codemirror_mode": {
    "name": "ipython",
    "version": 2
   },
   "file_extension": ".py",
   "mimetype": "text/x-python",
   "name": "python",
   "nbconvert_exporter": "python",
   "pygments_lexer": "ipython2",
   "version": "2.7.6"
  }
 },
 "nbformat": 4,
 "nbformat_minor": 0
}
