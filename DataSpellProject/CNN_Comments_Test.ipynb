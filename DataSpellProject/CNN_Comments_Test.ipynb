{
 "cells": [
  {
   "cell_type": "markdown",
   "source": [
    "# Инициализация"
   ],
   "metadata": {
    "collapsed": false
   }
  },
  {
   "cell_type": "code",
   "execution_count": 1,
   "outputs": [
    {
     "name": "stderr",
     "output_type": "stream",
     "text": [
      "C:\\Users\\Pave_\\AppData\\Local\\Temp\\ipykernel_3720\\460933490.py:9: DeprecationWarning: `import kerastuner` is deprecated, please use `import keras_tuner`.\n",
      "  from kerastuner.tuners import RandomSearch, Hyperband, BayesianOptimization\n"
     ]
    }
   ],
   "source": [
    "\n",
    "from tensorflow.keras.models import Sequential\n",
    "from tensorflow.keras.layers import Dense, Embedding, MaxPooling1D, Dropout, LSTM, Bidirectional, SpatialDropout1D, Flatten, Conv1D, GlobalMaxPooling1D, Dropout, LSTM, GRU\n",
    "from tensorflow.keras import utils\n",
    "from tensorflow.keras.preprocessing.sequence import pad_sequences\n",
    "from tensorflow.keras.preprocessing.text import Tokenizer\n",
    "from tensorflow.keras.callbacks import ModelCheckpoint\n",
    "from tensorflow.keras import utils\n",
    "from tensorflow import keras\n",
    "from kerastuner.tuners import RandomSearch, Hyperband, BayesianOptimization\n",
    "import pandas as pd\n",
    "import numpy as np\n",
    "import matplotlib.pyplot as plt"
   ],
   "metadata": {
    "collapsed": false,
    "ExecuteTime": {
     "start_time": "2023-04-21T22:18:02.768994Z",
     "end_time": "2023-04-21T22:18:20.376313Z"
    }
   }
  },
  {
   "cell_type": "code",
   "execution_count": 2,
   "outputs": [],
   "source": [
    "# Максимальное количество слов\n",
    "num_words = 10000\n",
    "# Максимальная длина комментария\n",
    "max_comment_len = 50\n",
    "#Число классов\n",
    "num_classes = 6"
   ],
   "metadata": {
    "collapsed": false,
    "ExecuteTime": {
     "start_time": "2023-04-21T22:18:20.382313Z",
     "end_time": "2023-04-21T22:18:20.390316Z"
    }
   }
  },
  {
   "cell_type": "markdown",
   "source": [
    "# Загрузка тренировочных данных"
   ],
   "metadata": {
    "collapsed": false
   }
  },
  {
   "cell_type": "code",
   "execution_count": 23,
   "outputs": [],
   "source": [
    "train = pd.read_csv('toxicCommentsDataSet/toxicCommentsTrain.csv')"
   ],
   "metadata": {
    "collapsed": false,
    "ExecuteTime": {
     "start_time": "2023-04-22T22:28:47.962711Z",
     "end_time": "2023-04-22T22:28:49.556827Z"
    }
   }
  },
  {
   "cell_type": "code",
   "execution_count": 25,
   "outputs": [
    {
     "data": {
      "text/plain": "'\"\\nAnd ... I really don\\'t think you understand.  I came here and my idea was bad right away.  What kind of community goes \"\"you have bad ideas\"\" go away, instead of helping rewrite them.   \"'"
     },
     "execution_count": 25,
     "metadata": {},
     "output_type": "execute_result"
    }
   ],
   "source": [
    "#Получение комментариев\n",
    "comments = train['comment_text']"
   ],
   "metadata": {
    "collapsed": false,
    "ExecuteTime": {
     "start_time": "2023-04-22T22:28:54.624213Z",
     "end_time": "2023-04-22T22:28:54.684216Z"
    }
   }
  },
  {
   "cell_type": "code",
   "execution_count": 5,
   "outputs": [],
   "source": [
    "y_train = train[['toxic', 'severe_toxic', 'obscene', 'threat', 'insult', 'identity_hate']]"
   ],
   "metadata": {
    "collapsed": false,
    "ExecuteTime": {
     "start_time": "2023-04-21T22:18:21.738416Z",
     "end_time": "2023-04-21T22:18:21.769418Z"
    }
   }
  },
  {
   "cell_type": "markdown",
   "source": [
    "# Токенизация"
   ],
   "metadata": {
    "collapsed": false
   }
  },
  {
   "cell_type": "code",
   "execution_count": 6,
   "outputs": [],
   "source": [
    "tokenizer = Tokenizer(num_words=num_words)"
   ],
   "metadata": {
    "collapsed": false,
    "ExecuteTime": {
     "start_time": "2023-04-21T22:18:21.767421Z",
     "end_time": "2023-04-21T22:18:21.798420Z"
    }
   }
  },
  {
   "cell_type": "code",
   "execution_count": 7,
   "outputs": [],
   "source": [
    "#Обучение токенайзера\n",
    "tokenizer.fit_on_texts(comments)"
   ],
   "metadata": {
    "collapsed": false,
    "ExecuteTime": {
     "start_time": "2023-04-21T22:18:21.888429Z",
     "end_time": "2023-04-21T22:18:36.126307Z"
    }
   }
  },
  {
   "cell_type": "code",
   "execution_count": 8,
   "outputs": [],
   "source": [
    "train_sequences = tokenizer.texts_to_sequences(comments)"
   ],
   "metadata": {
    "collapsed": false,
    "ExecuteTime": {
     "start_time": "2023-04-21T22:18:36.130309Z",
     "end_time": "2023-04-21T22:18:46.334845Z"
    }
   }
  },
  {
   "cell_type": "code",
   "execution_count": 9,
   "outputs": [],
   "source": [
    "x_train = pad_sequences(train_sequences, maxlen=max_comment_len)"
   ],
   "metadata": {
    "collapsed": false,
    "ExecuteTime": {
     "start_time": "2023-04-21T22:18:46.335846Z",
     "end_time": "2023-04-21T22:18:47.374921Z"
    }
   }
  },
  {
   "cell_type": "markdown",
   "source": [
    "# Загрузка тестовых данных"
   ],
   "metadata": {
    "collapsed": false
   }
  },
  {
   "cell_type": "code",
   "execution_count": 26,
   "outputs": [],
   "source": [
    "test_comments = pd.read_csv('toxicCommentsDataSet/toxicCommentsTest.csv')"
   ],
   "metadata": {
    "collapsed": false,
    "ExecuteTime": {
     "start_time": "2023-04-22T22:29:57.115614Z",
     "end_time": "2023-04-22T22:29:59.126764Z"
    }
   }
  },
  {
   "cell_type": "code",
   "execution_count": 27,
   "outputs": [],
   "source": [
    "test_labels = pd.read_csv('toxicCommentsDataSet/toxicCommentsTestLabels.csv')"
   ],
   "metadata": {
    "collapsed": false,
    "ExecuteTime": {
     "start_time": "2023-04-22T22:29:59.785814Z",
     "end_time": "2023-04-22T22:30:00.066831Z"
    }
   }
  },
  {
   "cell_type": "code",
   "execution_count": 28,
   "outputs": [],
   "source": [
    "test_full = pd.merge(test_comments, test_labels, on='id')"
   ],
   "metadata": {
    "collapsed": false,
    "ExecuteTime": {
     "start_time": "2023-04-22T22:30:00.835895Z",
     "end_time": "2023-04-22T22:30:01.141913Z"
    }
   }
  },
  {
   "cell_type": "code",
   "execution_count": 29,
   "outputs": [
    {
     "data": {
      "text/plain": "63978"
     },
     "execution_count": 29,
     "metadata": {},
     "output_type": "execute_result"
    }
   ],
   "source": [
    "test = test_full[test_full['toxic']!=-1]\n",
    "len(test)"
   ],
   "metadata": {
    "collapsed": false,
    "ExecuteTime": {
     "start_time": "2023-04-22T22:30:01.622951Z",
     "end_time": "2023-04-22T22:30:01.704955Z"
    }
   }
  },
  {
   "cell_type": "markdown",
   "source": [
    "# Токенизация"
   ],
   "metadata": {
    "collapsed": false
   }
  },
  {
   "cell_type": "code",
   "execution_count": 14,
   "outputs": [],
   "source": [
    "test_sequences = tokenizer.texts_to_sequences(test['comment_text'])"
   ],
   "metadata": {
    "collapsed": false,
    "ExecuteTime": {
     "start_time": "2023-04-21T22:18:50.548178Z",
     "end_time": "2023-04-21T22:18:55.432054Z"
    }
   }
  },
  {
   "cell_type": "code",
   "execution_count": 15,
   "outputs": [],
   "source": [
    "y_test = test[['toxic',\t'severe_toxic',\t'obscene', 'threat',\t'insult',\t'identity_hate']]"
   ],
   "metadata": {
    "collapsed": false,
    "ExecuteTime": {
     "start_time": "2023-04-21T22:18:55.438055Z",
     "end_time": "2023-04-21T22:18:55.477057Z"
    }
   }
  },
  {
   "cell_type": "code",
   "execution_count": 16,
   "outputs": [],
   "source": [
    "x_test = pad_sequences(test_sequences, maxlen=max_comment_len)"
   ],
   "metadata": {
    "collapsed": false,
    "ExecuteTime": {
     "start_time": "2023-04-21T22:18:55.469058Z",
     "end_time": "2023-04-21T22:18:55.896090Z"
    }
   }
  },
  {
   "cell_type": "markdown",
   "source": [
    "# Обучение модели"
   ],
   "metadata": {
    "collapsed": false
   }
  },
  {
   "cell_type": "code",
   "execution_count": 17,
   "outputs": [
    {
     "name": "stdout",
     "output_type": "stream",
     "text": [
      "Model: \"sequential\"\n",
      "_________________________________________________________________\n",
      " Layer (type)                Output Shape              Param #   \n",
      "=================================================================\n",
      " embedding (Embedding)       (None, 50, 36)            360000    \n",
      "                                                                 \n",
      " conv1d (Conv1D)             (None, 46, 32)            5792      \n",
      "                                                                 \n",
      " max_pooling1d (MaxPooling1D  (None, 23, 32)           0         \n",
      " )                                                               \n",
      "                                                                 \n",
      " flatten (Flatten)           (None, 736)               0         \n",
      "                                                                 \n",
      " dense (Dense)               (None, 108)               79596     \n",
      "                                                                 \n",
      " dense_1 (Dense)             (None, 6)                 654       \n",
      "                                                                 \n",
      "=================================================================\n",
      "Total params: 446,042\n",
      "Trainable params: 446,042\n",
      "Non-trainable params: 0\n",
      "_________________________________________________________________\n"
     ]
    }
   ],
   "source": [
    "model = Sequential()\n",
    "model.add(Embedding(input_dim=num_words, output_dim=36, input_length=max_comment_len,\n",
    "                    embeddings_regularizer=keras.regularizers.l2(0.0001)))\n",
    "model.add(Conv1D(filters=32, kernel_size=5, activation='elu', kernel_regularizer=keras.regularizers.l2(0.0001)))\n",
    "model.add(MaxPooling1D(pool_size=2))\n",
    "model.add(Flatten())\n",
    "model.add(Dense(units=108, activation='elu', kernel_regularizer=keras.regularizers.l2(0.0001)))\n",
    "model.add(Dense(num_classes, activation='sigmoid'))\n",
    "\n",
    "model.compile(optimizer='rmsprop', loss='binary_crossentropy', metrics=[keras.metrics.AUC(name=\"auc\"), \"accuracy\"])\n",
    "\n",
    "model.summary()"
   ],
   "metadata": {
    "collapsed": false,
    "ExecuteTime": {
     "start_time": "2023-04-21T22:18:55.925093Z",
     "end_time": "2023-04-21T22:18:56.525135Z"
    }
   }
  },
  {
   "cell_type": "code",
   "execution_count": 18,
   "outputs": [
    {
     "name": "stdout",
     "output_type": "stream",
     "text": [
      "Epoch 1/15\n",
      "125/125 [==============================] - 11s 75ms/step - loss: 0.1416 - auc: 0.8932 - accuracy: 0.9805 - val_loss: 0.0956 - val_auc: 0.9549 - val_accuracy: 0.9940\n",
      "Epoch 2/15\n",
      "125/125 [==============================] - 7s 56ms/step - loss: 0.0833 - auc: 0.9619 - accuracy: 0.9628 - val_loss: 0.0824 - val_auc: 0.9672 - val_accuracy: 0.9893\n",
      "Epoch 3/15\n",
      "125/125 [==============================] - 8s 61ms/step - loss: 0.0736 - auc: 0.9691 - accuracy: 0.9243 - val_loss: 0.0722 - val_auc: 0.9706 - val_accuracy: 0.9658\n",
      "Epoch 4/15\n",
      "125/125 [==============================] - 9s 68ms/step - loss: 0.0698 - auc: 0.9713 - accuracy: 0.9501 - val_loss: 0.0716 - val_auc: 0.9718 - val_accuracy: 0.9907\n",
      "Epoch 5/15\n",
      "125/125 [==============================] - 8s 65ms/step - loss: 0.0676 - auc: 0.9727 - accuracy: 0.9735 - val_loss: 0.0680 - val_auc: 0.9713 - val_accuracy: 0.9940\n",
      "Epoch 6/15\n",
      "125/125 [==============================] - 10s 77ms/step - loss: 0.0660 - auc: 0.9736 - accuracy: 0.9890 - val_loss: 0.0669 - val_auc: 0.9691 - val_accuracy: 0.9940\n",
      "Epoch 7/15\n",
      "125/125 [==============================] - 7s 59ms/step - loss: 0.0650 - auc: 0.9741 - accuracy: 0.9909 - val_loss: 0.0676 - val_auc: 0.9686 - val_accuracy: 0.9759\n",
      "Epoch 8/15\n",
      "125/125 [==============================] - 8s 61ms/step - loss: 0.0642 - auc: 0.9744 - accuracy: 0.9922 - val_loss: 0.0661 - val_auc: 0.9702 - val_accuracy: 0.9913\n",
      "Epoch 9/15\n",
      "125/125 [==============================] - 7s 59ms/step - loss: 0.0637 - auc: 0.9750 - accuracy: 0.9926 - val_loss: 0.0656 - val_auc: 0.9707 - val_accuracy: 0.9940\n",
      "Epoch 10/15\n",
      "125/125 [==============================] - 7s 59ms/step - loss: 0.0631 - auc: 0.9758 - accuracy: 0.9928 - val_loss: 0.0758 - val_auc: 0.9712 - val_accuracy: 0.9940\n",
      "Epoch 11/15\n",
      "125/125 [==============================] - 8s 60ms/step - loss: 0.0629 - auc: 0.9761 - accuracy: 0.9928 - val_loss: 0.0649 - val_auc: 0.9708 - val_accuracy: 0.9939\n",
      "Epoch 12/15\n",
      "125/125 [==============================] - 7s 59ms/step - loss: 0.0623 - auc: 0.9773 - accuracy: 0.9922 - val_loss: 0.0648 - val_auc: 0.9704 - val_accuracy: 0.9940\n",
      "Epoch 13/15\n",
      "125/125 [==============================] - 7s 58ms/step - loss: 0.0622 - auc: 0.9771 - accuracy: 0.9920 - val_loss: 0.0654 - val_auc: 0.9700 - val_accuracy: 0.9930\n",
      "Epoch 14/15\n",
      "125/125 [==============================] - 7s 56ms/step - loss: 0.0620 - auc: 0.9773 - accuracy: 0.9911 - val_loss: 0.0647 - val_auc: 0.9720 - val_accuracy: 0.9938\n",
      "Epoch 15/15\n",
      "125/125 [==============================] - 8s 62ms/step - loss: 0.0617 - auc: 0.9776 - accuracy: 0.9918 - val_loss: 0.0651 - val_auc: 0.9731 - val_accuracy: 0.9939\n"
     ]
    }
   ],
   "source": [
    "history_model = model.fit(x_train,\n",
    "                          y_train,\n",
    "                          epochs=15,\n",
    "                          batch_size=1024,\n",
    "                          validation_split=0.2)"
   ],
   "metadata": {
    "collapsed": false,
    "ExecuteTime": {
     "start_time": "2023-04-21T22:18:56.456136Z",
     "end_time": "2023-04-21T22:20:55.797919Z"
    }
   }
  },
  {
   "cell_type": "code",
   "execution_count": 30,
   "outputs": [
    {
     "name": "stdout",
     "output_type": "stream",
     "text": [
      "2000/2000 [==============================] - 7s 4ms/step - loss: 0.0869 - auc: 0.9675 - accuracy: 0.9974\n"
     ]
    },
    {
     "data": {
      "text/plain": "63978"
     },
     "execution_count": 30,
     "metadata": {},
     "output_type": "execute_result"
    }
   ],
   "source": [
    "model.evaluate(x_test, y_test)\n",
    "len(x_test)"
   ],
   "metadata": {
    "collapsed": false,
    "ExecuteTime": {
     "start_time": "2023-04-22T23:23:22.074843Z",
     "end_time": "2023-04-22T23:23:31.020524Z"
    }
   }
  },
  {
   "cell_type": "code",
   "execution_count": 20,
   "outputs": [
    {
     "data": {
      "text/plain": "<Figure size 640x480 with 1 Axes>",
      "image/png": "[encoded data removed]"
     },
     "metadata": {},
     "output_type": "display_data"
    }
   ],
   "source": [
    "plt.plot(history_model.history['accuracy'],\n",
    "         label='Доля верных ответов на обучающем наборе')\n",
    "plt.plot(history_model.history['val_accuracy'],\n",
    "         label='Доля верных ответов на проверочном наборе')\n",
    "plt.plot(history_model.history['auc'],\n",
    "         label='AUC на обучающем наборе')\n",
    "plt.plot(history_model.history['val_auc'],\n",
    "         label='AUC на проверочном наборе')\n",
    "plt.xlabel('Эпоха обучения')\n",
    "plt.ylabel('Доля верных ответов')\n",
    "plt.legend()\n",
    "plt.show()"
   ],
   "metadata": {
    "collapsed": false,
    "ExecuteTime": {
     "start_time": "2023-04-21T22:21:03.508036Z",
     "end_time": "2023-04-21T22:21:04.160083Z"
    }
   }
  },
  {
   "cell_type": "code",
   "execution_count": 20,
   "outputs": [],
   "source": [],
   "metadata": {
    "collapsed": false,
    "ExecuteTime": {
     "start_time": "2023-04-21T22:21:04.157082Z",
     "end_time": "2023-04-21T22:21:04.169083Z"
    }
   }
  },
  {
   "cell_type": "code",
   "execution_count": 20,
   "outputs": [],
   "source": [],
   "metadata": {
    "collapsed": false,
    "ExecuteTime": {
     "start_time": "2023-04-21T22:21:04.170084Z",
     "end_time": "2023-04-21T22:21:04.294094Z"
    }
   }
  },
  {
   "cell_type": "code",
   "execution_count": 20,
   "outputs": [],
   "source": [],
   "metadata": {
    "collapsed": false,
    "ExecuteTime": {
     "start_time": "2023-04-21T22:21:04.188087Z",
     "end_time": "2023-04-21T22:21:04.326097Z"
    }
   }
  },
  {
   "cell_type": "code",
   "execution_count": 20,
   "outputs": [],
   "source": [],
   "metadata": {
    "collapsed": false,
    "ExecuteTime": {
     "start_time": "2023-04-21T22:21:04.205089Z",
     "end_time": "2023-04-21T22:21:04.329097Z"
    }
   }
  }
 ],
 "metadata": {
  "kernelspec": {
   "display_name": "Python 3",
   "language": "python",
   "name": "python3"
  },
  "language_info": {
   "codemirror_mode": {
    "name": "ipython",
    "version": 2
   },
   "file_extension": ".py",
   "mimetype": "text/x-python",
   "name": "python",
   "nbconvert_exporter": "python",
   "pygments_lexer": "ipython2",
   "version": "2.7.6"
  }
 },
 "nbformat": 4,
 "nbformat_minor": 0
}
