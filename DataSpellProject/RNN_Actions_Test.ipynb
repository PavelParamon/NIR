{
 "cells": [
  {
   "cell_type": "code",
   "execution_count": 1,
   "outputs": [
    {
     "name": "stderr",
     "output_type": "stream",
     "text": [
      "C:\\Users\\Pave_\\AppData\\Local\\Temp\\ipykernel_16084\\1872801710.py:9: DeprecationWarning: `import kerastuner` is deprecated, please use `import keras_tuner`.\n",
      "  from kerastuner.tuners import RandomSearch, Hyperband, BayesianOptimization\n"
     ]
    }
   ],
   "source": [
    "from tensorflow.keras.models import Sequential\n",
    "from tensorflow.keras.layers import Dense, Embedding, MaxPooling1D, Dropout, LSTM, Bidirectional, SpatialDropout1D, Flatten, Conv1D, GlobalMaxPooling1D, Dropout, LSTM, GRU, SimpleRNN\n",
    "from tensorflow.keras import utils\n",
    "from tensorflow.keras.preprocessing.sequence import pad_sequences\n",
    "from tensorflow.keras.preprocessing.text import Tokenizer\n",
    "from tensorflow.keras.callbacks import ModelCheckpoint\n",
    "from tensorflow.keras import utils\n",
    "from tensorflow import keras\n",
    "from kerastuner.tuners import RandomSearch, Hyperband, BayesianOptimization\n",
    "import pandas as pd\n",
    "import numpy as np\n",
    "import matplotlib.pyplot as plt"
   ],
   "metadata": {
    "collapsed": false,
    "ExecuteTime": {
     "start_time": "2023-04-22T23:28:40.926416Z",
     "end_time": "2023-04-22T23:28:51.037175Z"
    }
   }
  },
  {
   "cell_type": "code",
   "execution_count": 2,
   "outputs": [],
   "source": [
    "# Максимальное количество слов\n",
    "num_words = 10000\n",
    "# Максимальная длина экшена\n",
    "max_action_len = 50\n",
    "#Число классов\n",
    "num_classes = 15"
   ],
   "metadata": {
    "collapsed": false,
    "ExecuteTime": {
     "start_time": "2023-04-22T23:28:51.044174Z",
     "end_time": "2023-04-22T23:28:51.053176Z"
    }
   }
  },
  {
   "cell_type": "markdown",
   "source": [
    "# Загрузка тренировочных данных"
   ],
   "metadata": {
    "collapsed": false
   }
  },
  {
   "cell_type": "code",
   "execution_count": 3,
   "outputs": [],
   "source": [
    "train = pd.read_csv('actionsNPCDataSet/trainActions.csv',header=None,\n",
    "names=['class', 'text'])"
   ],
   "metadata": {
    "collapsed": false,
    "ExecuteTime": {
     "start_time": "2023-04-22T23:28:51.056176Z",
     "end_time": "2023-04-22T23:28:51.119182Z"
    }
   }
  },
  {
   "cell_type": "code",
   "execution_count": 4,
   "outputs": [],
   "source": [
    "#Получение экшенов\n",
    "actions = train['text']"
   ],
   "metadata": {
    "collapsed": false,
    "ExecuteTime": {
     "start_time": "2023-04-22T23:28:51.088177Z",
     "end_time": "2023-04-22T23:28:51.120182Z"
    }
   }
  },
  {
   "cell_type": "code",
   "execution_count": 5,
   "outputs": [],
   "source": [
    "y_train = utils.to_categorical(train['class'] - 1, num_classes)"
   ],
   "metadata": {
    "collapsed": false,
    "ExecuteTime": {
     "start_time": "2023-04-22T23:28:51.107180Z",
     "end_time": "2023-04-22T23:28:51.120182Z"
    }
   }
  },
  {
   "cell_type": "markdown",
   "source": [
    "# Токенизация"
   ],
   "metadata": {
    "collapsed": false
   }
  },
  {
   "cell_type": "code",
   "execution_count": 6,
   "outputs": [],
   "source": [
    "tokenizer = Tokenizer(num_words=num_words)"
   ],
   "metadata": {
    "collapsed": false,
    "ExecuteTime": {
     "start_time": "2023-04-22T23:28:51.119182Z",
     "end_time": "2023-04-22T23:28:51.131182Z"
    }
   }
  },
  {
   "cell_type": "code",
   "execution_count": 7,
   "outputs": [],
   "source": [
    "#Обучение токенайзера\n",
    "tokenizer.fit_on_texts(actions)"
   ],
   "metadata": {
    "collapsed": false,
    "ExecuteTime": {
     "start_time": "2023-04-22T23:28:51.135180Z",
     "end_time": "2023-04-22T23:28:51.307195Z"
    }
   }
  },
  {
   "cell_type": "code",
   "execution_count": 8,
   "outputs": [],
   "source": [
    "train_sequences = tokenizer.texts_to_sequences(actions)"
   ],
   "metadata": {
    "collapsed": false,
    "ExecuteTime": {
     "start_time": "2023-04-22T23:28:51.310193Z",
     "end_time": "2023-04-22T23:28:51.447203Z"
    }
   }
  },
  {
   "cell_type": "code",
   "execution_count": 9,
   "outputs": [],
   "source": [
    "x_train = pad_sequences(train_sequences, maxlen=max_action_len)"
   ],
   "metadata": {
    "collapsed": false,
    "ExecuteTime": {
     "start_time": "2023-04-22T23:28:51.452204Z",
     "end_time": "2023-04-22T23:28:51.521208Z"
    }
   }
  },
  {
   "cell_type": "markdown",
   "source": [
    "# Загрузка тестовых данных"
   ],
   "metadata": {
    "collapsed": false
   }
  },
  {
   "cell_type": "code",
   "execution_count": 10,
   "outputs": [],
   "source": [
    "test = pd.read_csv('actionsNPCDataSet/actionsTest.csv', header=None,\n",
    "                   names=['class', 'text'])"
   ],
   "metadata": {
    "collapsed": false,
    "ExecuteTime": {
     "start_time": "2023-04-22T23:28:51.515210Z",
     "end_time": "2023-04-22T23:28:51.534210Z"
    }
   }
  },
  {
   "cell_type": "code",
   "execution_count": 11,
   "outputs": [],
   "source": [
    "#Получение экшенов\n",
    "test_actions = test['text']"
   ],
   "metadata": {
    "collapsed": false,
    "ExecuteTime": {
     "start_time": "2023-04-22T23:28:51.531210Z",
     "end_time": "2023-04-22T23:28:51.545210Z"
    }
   }
  },
  {
   "cell_type": "code",
   "execution_count": 12,
   "outputs": [],
   "source": [
    "y_test = utils.to_categorical(test['class'] - 1, num_classes)"
   ],
   "metadata": {
    "collapsed": false,
    "ExecuteTime": {
     "start_time": "2023-04-22T23:28:51.547212Z",
     "end_time": "2023-04-22T23:28:51.626216Z"
    }
   }
  },
  {
   "cell_type": "markdown",
   "source": [
    "# Токенизация"
   ],
   "metadata": {
    "collapsed": false
   }
  },
  {
   "cell_type": "code",
   "execution_count": 13,
   "outputs": [],
   "source": [
    "test_sequences = tokenizer.texts_to_sequences(test_actions)"
   ],
   "metadata": {
    "collapsed": false,
    "ExecuteTime": {
     "start_time": "2023-04-22T23:28:51.562212Z",
     "end_time": "2023-04-22T23:28:51.628215Z"
    }
   }
  },
  {
   "cell_type": "code",
   "execution_count": 14,
   "outputs": [],
   "source": [
    "x_test = pad_sequences(test_sequences, maxlen=max_action_len)"
   ],
   "metadata": {
    "collapsed": false,
    "ExecuteTime": {
     "start_time": "2023-04-22T23:28:51.612216Z",
     "end_time": "2023-04-22T23:28:51.643220Z"
    }
   }
  },
  {
   "cell_type": "markdown",
   "source": [
    "# Модель"
   ],
   "metadata": {
    "collapsed": false
   }
  },
  {
   "cell_type": "code",
   "execution_count": 15,
   "outputs": [
    {
     "name": "stdout",
     "output_type": "stream",
     "text": [
      "Model: \"sequential\"\n",
      "_________________________________________________________________\n",
      " Layer (type)                Output Shape              Param #   \n",
      "=================================================================\n",
      " embedding (Embedding)       (None, 50, 116)           1160000   \n",
      "                                                                 \n",
      " simple_rnn (SimpleRNN)      (None, 36)                5508      \n",
      "                                                                 \n",
      " dense (Dense)               (None, 15)                555       \n",
      "                                                                 \n",
      "=================================================================\n",
      "Total params: 1,166,063\n",
      "Trainable params: 1,166,063\n",
      "Non-trainable params: 0\n",
      "_________________________________________________________________\n"
     ]
    }
   ],
   "source": [
    "model = Sequential()\n",
    "model.add(Embedding(input_dim=num_words, output_dim=116, input_length=max_action_len,\n",
    "                    embeddings_regularizer=keras.regularizers.l2(0.001)))\n",
    "model.add(SimpleRNN(units=36, activation='elu', kernel_regularizer=keras.regularizers.l2(0.0001)))\n",
    "model.add(Dense(num_classes, activation='softmax'))\n",
    "\n",
    "model.compile(optimizer='adam', loss='categorical_crossentropy', metrics=['accuracy'])\n",
    "\n",
    "model.summary()"
   ],
   "metadata": {
    "collapsed": false,
    "ExecuteTime": {
     "start_time": "2023-04-22T23:28:51.638217Z",
     "end_time": "2023-04-22T23:28:52.009247Z"
    }
   }
  },
  {
   "cell_type": "code",
   "execution_count": 16,
   "outputs": [
    {
     "name": "stdout",
     "output_type": "stream",
     "text": [
      "Epoch 1/5\n",
      "45/45 [==============================] - 5s 57ms/step - loss: 2.8258 - accuracy: 0.3360 - val_loss: 2.2032 - val_accuracy: 0.4678\n",
      "Epoch 2/5\n",
      "45/45 [==============================] - 1s 32ms/step - loss: 1.7302 - accuracy: 0.6484 - val_loss: 1.4127 - val_accuracy: 0.6974\n",
      "Epoch 3/5\n",
      "45/45 [==============================] - 2s 35ms/step - loss: 1.0354 - accuracy: 0.8314 - val_loss: 0.9238 - val_accuracy: 0.8448\n",
      "Epoch 4/5\n",
      "45/45 [==============================] - 2s 39ms/step - loss: 0.6458 - accuracy: 0.9264 - val_loss: 0.8549 - val_accuracy: 0.8193\n",
      "Epoch 5/5\n",
      "45/45 [==============================] - 2s 35ms/step - loss: 0.5139 - accuracy: 0.9463 - val_loss: 0.5920 - val_accuracy: 0.9015\n"
     ]
    }
   ],
   "source": [
    "history_model = model.fit(x_train,\n",
    "                          y_train,\n",
    "                          epochs=5,\n",
    "                          batch_size=128,\n",
    "                          validation_split=0.2)"
   ],
   "metadata": {
    "collapsed": false,
    "ExecuteTime": {
     "start_time": "2023-04-22T23:28:52.006248Z",
     "end_time": "2023-04-22T23:29:03.417661Z"
    }
   }
  },
  {
   "cell_type": "code",
   "execution_count": 17,
   "outputs": [
    {
     "data": {
      "text/plain": "<Figure size 640x480 with 1 Axes>",
      "image/png": "[encoded data removed]"
     },
     "metadata": {},
     "output_type": "display_data"
    }
   ],
   "source": [
    "plt.plot(history_model.history['accuracy'],\n",
    "         label='Доля верных ответов на обучающем наборе')\n",
    "plt.plot(history_model.history['val_accuracy'],\n",
    "         label='Доля верных ответов на проверочном наборе')\n",
    "plt.xlabel('Эпоха обучения')\n",
    "plt.ylabel('Доля верных ответов')\n",
    "plt.legend()\n",
    "plt.show()"
   ],
   "metadata": {
    "collapsed": false,
    "ExecuteTime": {
     "start_time": "2023-04-22T23:29:03.417661Z",
     "end_time": "2023-04-22T23:29:03.827695Z"
    }
   }
  },
  {
   "cell_type": "code",
   "execution_count": 18,
   "outputs": [
    {
     "name": "stdout",
     "output_type": "stream",
     "text": [
      "44/44 [==============================] - 0s 8ms/step - loss: 0.6267 - accuracy: 0.8879\n",
      "1400\n",
      "1400\n"
     ]
    }
   ],
   "source": [
    "model.evaluate(x_test, y_test)"
   ],
   "metadata": {
    "collapsed": false,
    "ExecuteTime": {
     "start_time": "2023-04-22T23:29:03.834695Z",
     "end_time": "2023-04-22T23:29:04.344732Z"
    }
   }
  }
 ],
 "metadata": {
  "kernelspec": {
   "display_name": "Python 3",
   "language": "python",
   "name": "python3"
  },
  "language_info": {
   "codemirror_mode": {
    "name": "ipython",
    "version": 2
   },
   "file_extension": ".py",
   "mimetype": "text/x-python",
   "name": "python",
   "nbconvert_exporter": "python",
   "pygments_lexer": "ipython2",
   "version": "2.7.6"
  }
 },
 "nbformat": 4,
 "nbformat_minor": 0
}
