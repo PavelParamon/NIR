{
 "cells": [
  {
   "cell_type": "code",
   "execution_count": 1,
   "outputs": [
    {
     "name": "stderr",
     "output_type": "stream",
     "text": [
      "C:\\Users\\Pave_\\AppData\\Local\\Temp\\ipykernel_17368\\2336792942.py:9: DeprecationWarning: `import kerastuner` is deprecated, please use `import keras_tuner`.\n",
      "  from kerastuner.tuners import RandomSearch, Hyperband, BayesianOptimization\n"
     ]
    }
   ],
   "source": [
    "from tensorflow.keras.models import Sequential\n",
    "from tensorflow.keras.layers import Dense, Embedding, MaxPooling1D, Dropout, LSTM, Bidirectional, SpatialDropout1D, Flatten\n",
    "from tensorflow.keras import utils\n",
    "from tensorflow.keras.preprocessing.sequence import pad_sequences\n",
    "from tensorflow.keras.preprocessing.text import Tokenizer\n",
    "from tensorflow.keras.callbacks import ModelCheckpoint\n",
    "from tensorflow.keras import utils\n",
    "from tensorflow import keras\n",
    "from kerastuner.tuners import RandomSearch, Hyperband, BayesianOptimization\n",
    "import pandas as pd\n",
    "import numpy as np\n",
    "import matplotlib.pyplot as plt"
   ],
   "metadata": {
    "collapsed": false,
    "ExecuteTime": {
     "start_time": "2023-04-22T23:26:23.134963Z",
     "end_time": "2023-04-22T23:26:35.279872Z"
    }
   }
  },
  {
   "cell_type": "code",
   "execution_count": 2,
   "outputs": [],
   "source": [
    "# Максимальное количество слов\n",
    "num_words = 10000\n",
    "# Максимальная длина экшена\n",
    "max_action_len = 50\n",
    "#Число классов\n",
    "num_classes = 15"
   ],
   "metadata": {
    "collapsed": false,
    "ExecuteTime": {
     "start_time": "2023-04-22T23:26:35.278874Z",
     "end_time": "2023-04-22T23:26:35.293875Z"
    }
   }
  },
  {
   "cell_type": "markdown",
   "source": [
    "# Загрузка тренировочных данных"
   ],
   "metadata": {
    "collapsed": false
   }
  },
  {
   "cell_type": "code",
   "execution_count": 3,
   "outputs": [],
   "source": [
    "train = pd.read_csv('actionsNPCDataSet/trainActions.csv',header=None,\n",
    "names=['class', 'text'])"
   ],
   "metadata": {
    "collapsed": false,
    "ExecuteTime": {
     "start_time": "2023-04-22T23:26:35.294874Z",
     "end_time": "2023-04-22T23:26:35.373882Z"
    }
   }
  },
  {
   "cell_type": "code",
   "execution_count": 4,
   "outputs": [],
   "source": [
    "#Получение экшенов\n",
    "actions = train['text']"
   ],
   "metadata": {
    "collapsed": false,
    "ExecuteTime": {
     "start_time": "2023-04-22T23:26:35.342879Z",
     "end_time": "2023-04-22T23:26:35.373882Z"
    }
   }
  },
  {
   "cell_type": "code",
   "execution_count": 5,
   "outputs": [],
   "source": [
    "y_train = utils.to_categorical(train['class'] - 1, num_classes)"
   ],
   "metadata": {
    "collapsed": false,
    "ExecuteTime": {
     "start_time": "2023-04-22T23:26:35.360881Z",
     "end_time": "2023-04-22T23:26:35.373882Z"
    }
   }
  },
  {
   "cell_type": "markdown",
   "source": [
    "# Токенизация"
   ],
   "metadata": {
    "collapsed": false
   }
  },
  {
   "cell_type": "code",
   "execution_count": 6,
   "outputs": [],
   "source": [
    "tokenizer = Tokenizer(num_words=num_words)"
   ],
   "metadata": {
    "collapsed": false,
    "ExecuteTime": {
     "start_time": "2023-04-22T23:26:35.372882Z",
     "end_time": "2023-04-22T23:26:35.412882Z"
    }
   }
  },
  {
   "cell_type": "code",
   "execution_count": 7,
   "outputs": [],
   "source": [
    "#Обучение токенайзера\n",
    "tokenizer.fit_on_texts(actions)"
   ],
   "metadata": {
    "collapsed": false,
    "ExecuteTime": {
     "start_time": "2023-04-22T23:26:35.389882Z",
     "end_time": "2023-04-22T23:26:35.590897Z"
    }
   }
  },
  {
   "cell_type": "code",
   "execution_count": 8,
   "outputs": [],
   "source": [
    "train_sequences = tokenizer.texts_to_sequences(actions)"
   ],
   "metadata": {
    "collapsed": false,
    "ExecuteTime": {
     "start_time": "2023-04-22T23:26:35.593899Z",
     "end_time": "2023-04-22T23:26:35.734906Z"
    }
   }
  },
  {
   "cell_type": "code",
   "execution_count": 9,
   "outputs": [],
   "source": [
    "x_train = pad_sequences(train_sequences, maxlen=max_action_len)"
   ],
   "metadata": {
    "collapsed": false,
    "ExecuteTime": {
     "start_time": "2023-04-22T23:26:35.737907Z",
     "end_time": "2023-04-22T23:26:35.842915Z"
    }
   }
  },
  {
   "cell_type": "markdown",
   "source": [
    "# Загрузка тестовых данных"
   ],
   "metadata": {
    "collapsed": false
   }
  },
  {
   "cell_type": "code",
   "execution_count": 10,
   "outputs": [],
   "source": [
    "test = pd.read_csv('actionsNPCDataSet/actionsTest.csv', header=None,\n",
    "                   names=['class', 'text'])"
   ],
   "metadata": {
    "collapsed": false,
    "ExecuteTime": {
     "start_time": "2023-04-22T23:26:35.820916Z",
     "end_time": "2023-04-22T23:26:35.868919Z"
    }
   }
  },
  {
   "cell_type": "code",
   "execution_count": 11,
   "outputs": [],
   "source": [
    "#Получение экшенов\n",
    "test_actions = test['text']"
   ],
   "metadata": {
    "collapsed": false,
    "ExecuteTime": {
     "start_time": "2023-04-22T23:26:35.848916Z",
     "end_time": "2023-04-22T23:26:35.868919Z"
    }
   }
  },
  {
   "cell_type": "code",
   "execution_count": 12,
   "outputs": [],
   "source": [
    "y_test = utils.to_categorical(test['class'] - 1, num_classes)"
   ],
   "metadata": {
    "collapsed": false,
    "ExecuteTime": {
     "start_time": "2023-04-22T23:26:35.863917Z",
     "end_time": "2023-04-22T23:26:35.952923Z"
    }
   }
  },
  {
   "cell_type": "markdown",
   "source": [
    "# Токенизация"
   ],
   "metadata": {
    "collapsed": false
   }
  },
  {
   "cell_type": "code",
   "execution_count": 13,
   "outputs": [],
   "source": [
    "test_sequences = tokenizer.texts_to_sequences(test_actions)"
   ],
   "metadata": {
    "collapsed": false,
    "ExecuteTime": {
     "start_time": "2023-04-22T23:26:35.878918Z",
     "end_time": "2023-04-22T23:26:35.978926Z"
    }
   }
  },
  {
   "cell_type": "code",
   "execution_count": 14,
   "outputs": [],
   "source": [
    "x_test = pad_sequences(test_sequences, maxlen=max_action_len)"
   ],
   "metadata": {
    "collapsed": false,
    "ExecuteTime": {
     "start_time": "2023-04-22T23:26:35.930921Z",
     "end_time": "2023-04-22T23:26:35.980925Z"
    }
   }
  },
  {
   "cell_type": "markdown",
   "source": [
    "# Модель"
   ],
   "metadata": {
    "collapsed": false
   }
  },
  {
   "cell_type": "code",
   "execution_count": 21,
   "outputs": [
    {
     "name": "stdout",
     "output_type": "stream",
     "text": [
      "Model: \"sequential_1\"\n",
      "_________________________________________________________________\n",
      " Layer (type)                Output Shape              Param #   \n",
      "=================================================================\n",
      " embedding_1 (Embedding)     (None, 50, 100)           1000000   \n",
      "                                                                 \n",
      " dense_2 (Dense)             (None, 50, 288)           29088     \n",
      "                                                                 \n",
      " flatten_1 (Flatten)         (None, 14400)             0         \n",
      "                                                                 \n",
      " dense_3 (Dense)             (None, 15)                216015    \n",
      "                                                                 \n",
      "=================================================================\n",
      "Total params: 1,245,103\n",
      "Trainable params: 1,245,103\n",
      "Non-trainable params: 0\n",
      "_________________________________________________________________\n"
     ]
    }
   ],
   "source": [
    "model = Sequential()\n",
    "model.add(Embedding(input_dim=num_words, output_dim=100, input_length=max_action_len,\n",
    "                    embeddings_regularizer=keras.regularizers.l2(0.0001)))\n",
    "model.add(Dense(units=288, activation='tanh', kernel_regularizer=keras.regularizers.l2(0.0001)))\n",
    "model.add(Flatten())\n",
    "model.add(Dense(num_classes, activation='softmax'))\n",
    "\n",
    "model.compile(optimizer='adam', loss='categorical_crossentropy', metrics=['accuracy'])\n",
    "\n",
    "model.summary()"
   ],
   "metadata": {
    "collapsed": false,
    "ExecuteTime": {
     "start_time": "2023-04-22T23:49:33.443128Z",
     "end_time": "2023-04-22T23:49:33.956166Z"
    }
   }
  },
  {
   "cell_type": "code",
   "execution_count": 22,
   "outputs": [
    {
     "name": "stdout",
     "output_type": "stream",
     "text": [
      "Epoch 1/5\n",
      "45/45 [==============================] - 4s 56ms/step - loss: 2.4226 - accuracy: 0.3482 - val_loss: 1.7370 - val_accuracy: 0.5379\n",
      "Epoch 2/5\n",
      "45/45 [==============================] - 2s 41ms/step - loss: 0.9466 - accuracy: 0.8014 - val_loss: 0.4623 - val_accuracy: 0.9015\n",
      "Epoch 3/5\n",
      "45/45 [==============================] - 2s 45ms/step - loss: 0.2434 - accuracy: 0.9668 - val_loss: 0.2266 - val_accuracy: 0.9631\n",
      "Epoch 4/5\n",
      "45/45 [==============================] - 2s 46ms/step - loss: 0.1181 - accuracy: 0.9940 - val_loss: 0.1766 - val_accuracy: 0.9731\n",
      "Epoch 5/5\n",
      "45/45 [==============================] - 2s 44ms/step - loss: 0.0875 - accuracy: 0.9986 - val_loss: 0.1580 - val_accuracy: 0.9759\n"
     ]
    }
   ],
   "source": [
    "history_model = model.fit(x_train,\n",
    "                          y_train,\n",
    "                          epochs=5,\n",
    "                          batch_size=128,\n",
    "                          validation_split=0.2)"
   ],
   "metadata": {
    "collapsed": false,
    "ExecuteTime": {
     "start_time": "2023-04-22T23:49:33.917166Z",
     "end_time": "2023-04-22T23:49:45.763619Z"
    }
   }
  },
  {
   "cell_type": "code",
   "execution_count": 23,
   "outputs": [
    {
     "data": {
      "text/plain": "<Figure size 640x480 with 1 Axes>",
      "image/png": "[encoded data removed]"
     },
     "metadata": {},
     "output_type": "display_data"
    }
   ],
   "source": [
    "plt.plot(history_model.history['accuracy'],\n",
    "         label='Доля верных ответов на обучающем наборе')\n",
    "plt.plot(history_model.history['val_accuracy'],\n",
    "         label='Доля верных ответов на проверочном наборе')\n",
    "plt.xlabel('Эпоха обучения')\n",
    "plt.ylabel('Доля верных ответов')\n",
    "plt.legend()\n",
    "plt.show()"
   ],
   "metadata": {
    "collapsed": false,
    "ExecuteTime": {
     "start_time": "2023-04-22T23:49:45.776620Z",
     "end_time": "2023-04-22T23:49:46.195652Z"
    }
   }
  },
  {
   "cell_type": "code",
   "execution_count": 24,
   "outputs": [
    {
     "name": "stdout",
     "output_type": "stream",
     "text": [
      "44/44 [==============================] - 2s 36ms/step - loss: 0.1743 - accuracy: 0.9764\n",
      "1400\n",
      "1400\n"
     ]
    }
   ],
   "source": [
    "model.evaluate(x_test, y_test)"
   ],
   "metadata": {
    "collapsed": false,
    "ExecuteTime": {
     "start_time": "2023-04-22T23:49:46.198654Z",
     "end_time": "2023-04-22T23:49:47.874777Z"
    }
   }
  },
  {
   "cell_type": "code",
   "execution_count": 24,
   "outputs": [],
   "source": [],
   "metadata": {
    "collapsed": false,
    "ExecuteTime": {
     "start_time": "2023-04-22T23:49:47.885778Z",
     "end_time": "2023-04-22T23:49:47.899780Z"
    }
   }
  }
 ],
 "metadata": {
  "kernelspec": {
   "display_name": "Python 3",
   "language": "python",
   "name": "python3"
  },
  "language_info": {
   "codemirror_mode": {
    "name": "ipython",
    "version": 2
   },
   "file_extension": ".py",
   "mimetype": "text/x-python",
   "name": "python",
   "nbconvert_exporter": "python",
   "pygments_lexer": "ipython2",
   "version": "2.7.6"
  }
 },
 "nbformat": 4,
 "nbformat_minor": 0
}
