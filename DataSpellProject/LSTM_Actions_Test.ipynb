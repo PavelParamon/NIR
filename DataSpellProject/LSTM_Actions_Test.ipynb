{
 "cells": [
  {
   "cell_type": "code",
   "execution_count": 1,
   "outputs": [
    {
     "name": "stderr",
     "output_type": "stream",
     "text": [
      "C:\\Users\\Pave_\\AppData\\Local\\Temp\\ipykernel_18256\\1872801710.py:9: DeprecationWarning: `import kerastuner` is deprecated, please use `import keras_tuner`.\n",
      "  from kerastuner.tuners import RandomSearch, Hyperband, BayesianOptimization\n"
     ]
    }
   ],
   "source": [
    "from tensorflow.keras.models import Sequential\n",
    "from tensorflow.keras.layers import Dense, Embedding, MaxPooling1D, Dropout, LSTM, Bidirectional, SpatialDropout1D, Flatten, Conv1D, GlobalMaxPooling1D, Dropout, LSTM, GRU, SimpleRNN\n",
    "from tensorflow.keras import utils\n",
    "from tensorflow.keras.preprocessing.sequence import pad_sequences\n",
    "from tensorflow.keras.preprocessing.text import Tokenizer\n",
    "from tensorflow.keras.callbacks import ModelCheckpoint\n",
    "from tensorflow.keras import utils\n",
    "from tensorflow import keras\n",
    "from kerastuner.tuners import RandomSearch, Hyperband, BayesianOptimization\n",
    "import pandas as pd\n",
    "import numpy as np\n",
    "import matplotlib.pyplot as plt"
   ],
   "metadata": {
    "collapsed": false,
    "ExecuteTime": {
     "start_time": "2023-04-22T23:29:52.760387Z",
     "end_time": "2023-04-22T23:30:02.834380Z"
    }
   }
  },
  {
   "cell_type": "code",
   "execution_count": 2,
   "outputs": [],
   "source": [
    "# Максимальное количество слов\n",
    "num_words = 10000\n",
    "# Максимальная длина экшена\n",
    "max_action_len = 50\n",
    "#Число классов\n",
    "num_classes = 15"
   ],
   "metadata": {
    "collapsed": false,
    "ExecuteTime": {
     "start_time": "2023-04-22T23:30:02.839382Z",
     "end_time": "2023-04-22T23:30:02.848384Z"
    }
   }
  },
  {
   "cell_type": "markdown",
   "source": [
    "# Загрузка тренировочных данных"
   ],
   "metadata": {
    "collapsed": false
   }
  },
  {
   "cell_type": "code",
   "execution_count": 3,
   "outputs": [],
   "source": [
    "train = pd.read_csv('actionsNPCDataSet/trainActions.csv',header=None,\n",
    "names=['class', 'text'])"
   ],
   "metadata": {
    "collapsed": false,
    "ExecuteTime": {
     "start_time": "2023-04-22T23:30:02.853383Z",
     "end_time": "2023-04-22T23:30:02.921389Z"
    }
   }
  },
  {
   "cell_type": "code",
   "execution_count": 4,
   "outputs": [],
   "source": [
    "#Получение экшенов\n",
    "actions = train['text']"
   ],
   "metadata": {
    "collapsed": false,
    "ExecuteTime": {
     "start_time": "2023-04-22T23:30:02.885386Z",
     "end_time": "2023-04-22T23:30:02.921389Z"
    }
   }
  },
  {
   "cell_type": "code",
   "execution_count": 5,
   "outputs": [],
   "source": [
    "y_train = utils.to_categorical(train['class'] - 1, num_classes)"
   ],
   "metadata": {
    "collapsed": false,
    "ExecuteTime": {
     "start_time": "2023-04-22T23:30:02.905389Z",
     "end_time": "2023-04-22T23:30:02.922389Z"
    }
   }
  },
  {
   "cell_type": "markdown",
   "source": [
    "# Токенизация"
   ],
   "metadata": {
    "collapsed": false
   }
  },
  {
   "cell_type": "code",
   "execution_count": 6,
   "outputs": [],
   "source": [
    "tokenizer = Tokenizer(num_words=num_words)"
   ],
   "metadata": {
    "collapsed": false,
    "ExecuteTime": {
     "start_time": "2023-04-22T23:30:02.920389Z",
     "end_time": "2023-04-22T23:30:02.935388Z"
    }
   }
  },
  {
   "cell_type": "code",
   "execution_count": 7,
   "outputs": [],
   "source": [
    "#Обучение токенайзера\n",
    "tokenizer.fit_on_texts(actions)"
   ],
   "metadata": {
    "collapsed": false,
    "ExecuteTime": {
     "start_time": "2023-04-22T23:30:02.931390Z",
     "end_time": "2023-04-22T23:30:03.104402Z"
    }
   }
  },
  {
   "cell_type": "code",
   "execution_count": 8,
   "outputs": [],
   "source": [
    "train_sequences = tokenizer.texts_to_sequences(actions)"
   ],
   "metadata": {
    "collapsed": false,
    "ExecuteTime": {
     "start_time": "2023-04-22T23:30:03.108402Z",
     "end_time": "2023-04-22T23:30:03.249413Z"
    }
   }
  },
  {
   "cell_type": "code",
   "execution_count": 9,
   "outputs": [],
   "source": [
    "x_train = pad_sequences(train_sequences, maxlen=max_action_len)"
   ],
   "metadata": {
    "collapsed": false,
    "ExecuteTime": {
     "start_time": "2023-04-22T23:30:03.250415Z",
     "end_time": "2023-04-22T23:30:03.321420Z"
    }
   }
  },
  {
   "cell_type": "markdown",
   "source": [
    "# Загрузка тестовых данных"
   ],
   "metadata": {
    "collapsed": false
   }
  },
  {
   "cell_type": "code",
   "execution_count": 10,
   "outputs": [],
   "source": [
    "test = pd.read_csv('actionsNPCDataSet/actionsTest.csv', header=None,\n",
    "                   names=['class', 'text'])"
   ],
   "metadata": {
    "collapsed": false,
    "ExecuteTime": {
     "start_time": "2023-04-22T23:30:03.317420Z",
     "end_time": "2023-04-22T23:30:03.345422Z"
    }
   }
  },
  {
   "cell_type": "code",
   "execution_count": 11,
   "outputs": [],
   "source": [
    "#Получение экшенов\n",
    "test_actions = test['text']"
   ],
   "metadata": {
    "collapsed": false,
    "ExecuteTime": {
     "start_time": "2023-04-22T23:30:03.347427Z",
     "end_time": "2023-04-22T23:30:03.419431Z"
    }
   }
  },
  {
   "cell_type": "code",
   "execution_count": 12,
   "outputs": [],
   "source": [
    "y_test = utils.to_categorical(test['class'] - 1, num_classes)"
   ],
   "metadata": {
    "collapsed": false,
    "ExecuteTime": {
     "start_time": "2023-04-22T23:30:03.364425Z",
     "end_time": "2023-04-22T23:30:03.419431Z"
    }
   }
  },
  {
   "cell_type": "markdown",
   "source": [
    "# Токенизация"
   ],
   "metadata": {
    "collapsed": false
   }
  },
  {
   "cell_type": "code",
   "execution_count": 13,
   "outputs": [],
   "source": [
    "test_sequences = tokenizer.texts_to_sequences(test_actions)"
   ],
   "metadata": {
    "collapsed": false,
    "ExecuteTime": {
     "start_time": "2023-04-22T23:30:03.379427Z",
     "end_time": "2023-04-22T23:30:03.433430Z"
    }
   }
  },
  {
   "cell_type": "code",
   "execution_count": 14,
   "outputs": [],
   "source": [
    "x_test = pad_sequences(test_sequences, maxlen=max_action_len)"
   ],
   "metadata": {
    "collapsed": false,
    "ExecuteTime": {
     "start_time": "2023-04-22T23:30:03.429429Z",
     "end_time": "2023-04-22T23:30:03.515435Z"
    }
   }
  },
  {
   "cell_type": "markdown",
   "source": [
    "# Модель"
   ],
   "metadata": {
    "collapsed": false
   }
  },
  {
   "cell_type": "code",
   "execution_count": 15,
   "outputs": [
    {
     "name": "stdout",
     "output_type": "stream",
     "text": [
      "Model: \"sequential\"\n",
      "_________________________________________________________________\n",
      " Layer (type)                Output Shape              Param #   \n",
      "=================================================================\n",
      " embedding (Embedding)       (None, 50, 68)            680000    \n",
      "                                                                 \n",
      " lstm (LSTM)                 (None, 28)                10864     \n",
      "                                                                 \n",
      " dense (Dense)               (None, 15)                435       \n",
      "                                                                 \n",
      "=================================================================\n",
      "Total params: 691,299\n",
      "Trainable params: 691,299\n",
      "Non-trainable params: 0\n",
      "_________________________________________________________________\n"
     ]
    }
   ],
   "source": [
    "model = Sequential()\n",
    "model.add(Embedding(input_dim=num_words, output_dim=68, input_length=max_action_len,\n",
    "                    embeddings_regularizer=keras.regularizers.l2(0.0001)))\n",
    "model.add(LSTM(units=28, activation='tanh', kernel_regularizer=keras.regularizers.l2(0.0001)))\n",
    "model.add(Dense(num_classes, activation='softmax'))\n",
    "\n",
    "model.compile(optimizer='adam', loss='categorical_crossentropy', metrics=['accuracy'])\n",
    "\n",
    "model.summary()"
   ],
   "metadata": {
    "collapsed": false,
    "ExecuteTime": {
     "start_time": "2023-04-22T23:30:03.458430Z",
     "end_time": "2023-04-22T23:30:04.369497Z"
    }
   }
  },
  {
   "cell_type": "code",
   "execution_count": 16,
   "outputs": [
    {
     "name": "stdout",
     "output_type": "stream",
     "text": [
      "Epoch 1/5\n",
      "45/45 [==============================] - 8s 75ms/step - loss: 2.6607 - accuracy: 0.2051 - val_loss: 2.4846 - val_accuracy: 0.3012\n",
      "Epoch 2/5\n",
      "45/45 [==============================] - 2s 47ms/step - loss: 2.1448 - accuracy: 0.3800 - val_loss: 1.8152 - val_accuracy: 0.5393\n",
      "Epoch 3/5\n",
      "45/45 [==============================] - 2s 47ms/step - loss: 1.4722 - accuracy: 0.6883 - val_loss: 1.3450 - val_accuracy: 0.6464\n",
      "Epoch 4/5\n",
      "45/45 [==============================] - 2s 48ms/step - loss: 1.0070 - accuracy: 0.8167 - val_loss: 0.9598 - val_accuracy: 0.8377\n",
      "Epoch 5/5\n",
      "45/45 [==============================] - 2s 49ms/step - loss: 0.6919 - accuracy: 0.9234 - val_loss: 0.6840 - val_accuracy: 0.9072\n"
     ]
    }
   ],
   "source": [
    "history_model = model.fit(x_train,\n",
    "                          y_train,\n",
    "                          epochs=5,\n",
    "                          batch_size=128,\n",
    "                          validation_split=0.2)"
   ],
   "metadata": {
    "collapsed": false,
    "ExecuteTime": {
     "start_time": "2023-04-22T23:30:04.301494Z",
     "end_time": "2023-04-22T23:30:21.125452Z"
    }
   }
  },
  {
   "cell_type": "code",
   "execution_count": 17,
   "outputs": [
    {
     "data": {
      "text/plain": "<Figure size 640x480 with 1 Axes>",
      "image/png": "[encoded data removed]"
     },
     "metadata": {},
     "output_type": "display_data"
    }
   ],
   "source": [
    "plt.plot(history_model.history['accuracy'],\n",
    "         label='Доля верных ответов на обучающем наборе')\n",
    "plt.plot(history_model.history['val_accuracy'],\n",
    "         label='Доля верных ответов на проверочном наборе')\n",
    "plt.xlabel('Эпоха обучения')\n",
    "plt.ylabel('Доля верных ответов')\n",
    "plt.legend()\n",
    "plt.show()"
   ],
   "metadata": {
    "collapsed": false,
    "ExecuteTime": {
     "start_time": "2023-04-22T23:30:21.126452Z",
     "end_time": "2023-04-22T23:30:21.535484Z"
    }
   }
  },
  {
   "cell_type": "code",
   "execution_count": 18,
   "outputs": [
    {
     "name": "stdout",
     "output_type": "stream",
     "text": [
      "44/44 [==============================] - 0s 8ms/step - loss: 0.6732 - accuracy: 0.9086\n",
      "1400\n",
      "1400\n"
     ]
    }
   ],
   "source": [
    "model.evaluate(x_test, y_test)"
   ],
   "metadata": {
    "collapsed": false,
    "ExecuteTime": {
     "start_time": "2023-04-22T23:30:21.539488Z",
     "end_time": "2023-04-22T23:30:22.112526Z"
    }
   }
  },
  {
   "cell_type": "code",
   "execution_count": 18,
   "outputs": [],
   "source": [],
   "metadata": {
    "collapsed": false,
    "ExecuteTime": {
     "start_time": "2023-04-22T23:30:22.043521Z",
     "end_time": "2023-04-22T23:30:22.114528Z"
    }
   }
  }
 ],
 "metadata": {
  "kernelspec": {
   "display_name": "Python 3",
   "language": "python",
   "name": "python3"
  },
  "language_info": {
   "codemirror_mode": {
    "name": "ipython",
    "version": 2
   },
   "file_extension": ".py",
   "mimetype": "text/x-python",
   "name": "python",
   "nbconvert_exporter": "python",
   "pygments_lexer": "ipython2",
   "version": "2.7.6"
  }
 },
 "nbformat": 4,
 "nbformat_minor": 0
}
